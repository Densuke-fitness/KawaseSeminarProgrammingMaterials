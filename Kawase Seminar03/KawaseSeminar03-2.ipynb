{
 "cells": [
  {
   "cell_type": "markdown",
   "id": "actual-caribbean",
   "metadata": {},
   "source": [
    "<p style=\"text-align:center\"><font size=\"10\" >Kawase Seminar 03-2</font></p>"
   ]
  },
  {
   "cell_type": "markdown",
   "id": "distributed-infrastructure",
   "metadata": {},
   "source": [
    "# **スクレイピング入門(実践編)**"
   ]
  },
  {
   "cell_type": "markdown",
   "id": "modern-affiliate",
   "metadata": {},
   "source": [
    "# 0.**意識しようスクレイピングのルール**\n",
    "\n",
    "### 1.Webページ上の情報を抜き出して再利用することを利用規約で禁じているサイトもある\n",
    "###   　　 → 必ずWebページ上の情報の著作権や利用規約を確認!!!\n",
    "\n",
    "### 2.スクレイピングは初学者にとってはむしろ危険\n",
    "###    　　→ 一般的にはサイトが提供しているAPIを使おう！\n",
    "\n",
    "### 3.必ずtime.sleepを用いること！ 1秒以上は間隔をあけること\n",
    "### 　　　→ 一歩間違えると犯罪になることを意識(Dos攻撃に間違われる)"
   ]
  },
  {
   "cell_type": "markdown",
   "id": "visible-thailand",
   "metadata": {},
   "source": [
    "---\n",
    "# **1.クローリングの実践**"
   ]
  },
  {
   "cell_type": "markdown",
   "id": "sticky-slovak",
   "metadata": {},
   "source": [
    "✳︎まずはサイトマップなどから利用規約を確認する\n",
    "\n",
    "https://resas.go.jp/policy/#/13/13101"
   ]
  },
  {
   "cell_type": "code",
   "execution_count": 14,
   "id": "sought-metadata",
   "metadata": {
    "collapsed": true
   },
   "outputs": [
    {
     "data": {
      "text/plain": [
       "'<!doctype html>\\n<html lang=\"ja\" class=\"rn\">\\n<head prefix=\"og: http://ogp.me/ns# fb: http://ogp.me/ns/fb# article: http://ogp.me/ns/article# website: http://ogp.me/ns/website#\">\\n  <meta charset=\"UTF-8\">\\n\\t<meta name=\"viewport\" content=\"width=1280\">\\n  <meta name=\"description\" content=\"地域経済分析システム（RESAS：リーサス）は、地方自治体の様々な取り組みを情報面から支援するために、まち・ひと・しごと創生本部事務局が提供する、産業構造や人口動態、人の流れなどの官民ビッグデータを集約し、可視化するシステムです。\">\\n  <title>トップページ - RESAS 地域経済分析システム</title>\\n  <link rel=\"stylesheet\" href=\"./stylesheets/all.css\"/>\\n  <link rel=\"shortcut icon\" href=\"./favicon.ico\"/>\\n\\n  <meta property=\"og:title\" content=\"トップページ - RESAS 地域経済分析システム\" />\\n  <meta property=\"og:type\" content=\"website\" />\\n  <meta property=\"og:url\" content=\"https://resas.go.jp/\" />\\n  <meta property=\"og:image\" content=\"https://resas.go.jp/images/ogp/main.png\" />\\n  <meta property=\"og:site_name\" content=\"RESAS 地域経済分析システム\" />\\n  <meta property=\"og:description\" content=\"地域経済分析システム（RESAS：リーサス）は、地方自治体の様々な取り組みを情報面から支援するために、まち・ひと・しごと創生本部事務局が提供する、産業構造や人口動態、人の流れなどの官民ビッグデータを集約し、可視化するシステムです。\" />\\n\\n  <meta name=\"twitter:card\" content=\"summary_large_image\" />\\n  <meta name=\"twitter:title\" content=\"トップページ - RESAS 地域経済分析システム\" />\\n  <meta name=\"twitter:description\" content=\"地域経済分析システム（RESAS：リーサス）は、地方自治体の様々な取り組みを情報面から支援するために、まち・ひと・しごと創生本部事務局が提供する、産業構造や人口動態、人の流れなどの官民ビッグデータを集約し、可視化するシステムです。\" />\\n  <meta name=\"twitter:image\" content=\"https://resas.go.jp/images/ogp/main.png\" />\\n</head>\\n<body v-on=\"click: click($event)\" class=\"rn\">\\n<div class=\"wrap\">\\n  <main class=\"top\">\\n    <div id=\"error-wrapper\"></div>\\n    <div id=\"alert-wrapper\"></div>\\n    <div id=\"loading-wrapper\"></div>\\n    <div id=\"terminology-wrapper\" class=\"right-menu__popup\"></div>\\n    <div id=\"header-wrapper\"></div>\\n    <div id=\"main-wrapper\"></div>\\n  </main>\\n</div>\\n\\n<script src=\"./javascripts/lib.js\"></script>\\n<script src=\"./javascripts/index.js?date=202011301200\"></script>\\n\\n<!-- User Insight PCDF Code Start :  -->\\n<script type=\"text/javascript\">\\nvar _uic = _uic ||{}; var _uih = _uih ||{};_uih[\\'id\\'] = 55053;\\n_uih[\\'lg_id\\'] = \\'\\';\\n_uih[\\'fb_id\\'] = \\'\\';\\n_uih[\\'tw_id\\'] = \\'\\';\\n_uih[\\'uigr_1\\'] = \\'\\'; _uih[\\'uigr_2\\'] = \\'\\'; _uih[\\'uigr_3\\'] = \\'\\'; _uih[\\'uigr_4\\'] = \\'\\'; _uih[\\'uigr_5\\'] = \\'\\';\\n_uih[\\'uigr_6\\'] = \\'\\'; _uih[\\'uigr_7\\'] = \\'\\'; _uih[\\'uigr_8\\'] = \\'\\'; _uih[\\'uigr_9\\'] = \\'\\'; _uih[\\'uigr_10\\'] = \\'\\';\\n_uic[\\'uls\\'] = 1;\\n\\n/* DO NOT ALTER BELOW THIS LINE */\\n/* WITH FIRST PARTY COOKIE */\\n(function() {\\nvar bi = document.createElement(\\'script\\');bi.type = \\'text/javascript\\'; bi.async = true;\\nbi.src = \\'//cs.nakanohito.jp/b3/bi.js\\';\\nvar s = document.getElementsByTagName(\\'script\\')[0];s.parentNode.insertBefore(bi, s);\\n})();\\n</script>\\n<!-- User Insight PCDF Code End :  -->\\n</body>\\n</html>\\n'"
      ]
     },
     "execution_count": 14,
     "metadata": {},
     "output_type": "execute_result"
    }
   ],
   "source": [
    "import requests as req\n",
    "\n",
    "#getで呼び出している\n",
    "response = req.get(\"https://resas.go.jp/\")\n",
    "response.text"
   ]
  },
  {
   "cell_type": "code",
   "execution_count": 15,
   "id": "defined-grave",
   "metadata": {},
   "outputs": [
    {
     "name": "stdout",
     "output_type": "stream",
     "text": [
      "6秒待ちます。\n",
      "2秒待ちます。\n"
     ]
    }
   ],
   "source": [
    "#<<別の方法 こっちの方がより丁寧に取得>>\n",
    "\n",
    "# 使うものは以下のライブラリ\n",
    "from urllib.request import urlopen\n",
    "from bs4 import BeautifulSoup\n",
    "import time \n",
    "import random\n",
    "\n",
    "# ランダムに待ち時間を発生させる stop 関数\n",
    "def stop():\n",
    "    stop_time = random.randint(1,6)\n",
    "    print(f\"{stop_time}秒待ちます。\")\n",
    "    time.sleep(stop_time)\n",
    "    \n",
    "    \n",
    "# 地域経済分析システム「RESAS」のサイト情報を取得してみよう！\n",
    "# サーバーに負荷がかからないように間隔をあけて行いましょう。\n",
    "\n",
    "# 上で作った乱数待ち時間装置を発動\n",
    "stop()\n",
    "\n",
    "# urlopen(url) で目的のサイトに接続\n",
    "fp = urlopen('https://resas.go.jp/')\n",
    "\n",
    "# 接続したサイトのコード(HTML)を取得\n",
    "html = fp.read()\n",
    "\n",
    "# 上で作った乱数待ち時間装置を発動\n",
    "stop()\n",
    "\n",
    "# 接続を解除\n",
    "fp.close()\n",
    "\n",
    "# unicode を UTF-8 にデコードする\n",
    "decode_html = html.decode(\"UTF-8\")"
   ]
  },
  {
   "cell_type": "code",
   "execution_count": 16,
   "id": "impressed-geology",
   "metadata": {
    "collapsed": true
   },
   "outputs": [
    {
     "name": "stdout",
     "output_type": "stream",
     "text": [
      "b'<!doctype html>\\n<html lang=\"ja\" class=\"rn\">\\n<head prefix=\"og: http://ogp.me/ns# fb: http://ogp.me/ns/fb# article: http://ogp.me/ns/article# website: http://ogp.me/ns/website#\">\\n  <meta charset=\"UTF-8\">\\n\\t<meta name=\"viewport\" content=\"width=1280\">\\n  <meta name=\"description\" content=\"\\xe5\\x9c\\xb0\\xe5\\x9f\\x9f\\xe7\\xb5\\x8c\\xe6\\xb8\\x88\\xe5\\x88\\x86\\xe6\\x9e\\x90\\xe3\\x82\\xb7\\xe3\\x82\\xb9\\xe3\\x83\\x86\\xe3\\x83\\xa0\\xef\\xbc\\x88RESAS\\xef\\xbc\\x9a\\xe3\\x83\\xaa\\xe3\\x83\\xbc\\xe3\\x82\\xb5\\xe3\\x82\\xb9\\xef\\xbc\\x89\\xe3\\x81\\xaf\\xe3\\x80\\x81\\xe5\\x9c\\xb0\\xe6\\x96\\xb9\\xe8\\x87\\xaa\\xe6\\xb2\\xbb\\xe4\\xbd\\x93\\xe3\\x81\\xae\\xe6\\xa7\\x98\\xe3\\x80\\x85\\xe3\\x81\\xaa\\xe5\\x8f\\x96\\xe3\\x82\\x8a\\xe7\\xb5\\x84\\xe3\\x81\\xbf\\xe3\\x82\\x92\\xe6\\x83\\x85\\xe5\\xa0\\xb1\\xe9\\x9d\\xa2\\xe3\\x81\\x8b\\xe3\\x82\\x89\\xe6\\x94\\xaf\\xe6\\x8f\\xb4\\xe3\\x81\\x99\\xe3\\x82\\x8b\\xe3\\x81\\x9f\\xe3\\x82\\x81\\xe3\\x81\\xab\\xe3\\x80\\x81\\xe3\\x81\\xbe\\xe3\\x81\\xa1\\xe3\\x83\\xbb\\xe3\\x81\\xb2\\xe3\\x81\\xa8\\xe3\\x83\\xbb\\xe3\\x81\\x97\\xe3\\x81\\x94\\xe3\\x81\\xa8\\xe5\\x89\\xb5\\xe7\\x94\\x9f\\xe6\\x9c\\xac\\xe9\\x83\\xa8\\xe4\\xba\\x8b\\xe5\\x8b\\x99\\xe5\\xb1\\x80\\xe3\\x81\\x8c\\xe6\\x8f\\x90\\xe4\\xbe\\x9b\\xe3\\x81\\x99\\xe3\\x82\\x8b\\xe3\\x80\\x81\\xe7\\x94\\xa3\\xe6\\xa5\\xad\\xe6\\xa7\\x8b\\xe9\\x80\\xa0\\xe3\\x82\\x84\\xe4\\xba\\xba\\xe5\\x8f\\xa3\\xe5\\x8b\\x95\\xe6\\x85\\x8b\\xe3\\x80\\x81\\xe4\\xba\\xba\\xe3\\x81\\xae\\xe6\\xb5\\x81\\xe3\\x82\\x8c\\xe3\\x81\\xaa\\xe3\\x81\\xa9\\xe3\\x81\\xae\\xe5\\xae\\x98\\xe6\\xb0\\x91\\xe3\\x83\\x93\\xe3\\x83\\x83\\xe3\\x82\\xb0\\xe3\\x83\\x87\\xe3\\x83\\xbc\\xe3\\x82\\xbf\\xe3\\x82\\x92\\xe9\\x9b\\x86\\xe7\\xb4\\x84\\xe3\\x81\\x97\\xe3\\x80\\x81\\xe5\\x8f\\xaf\\xe8\\xa6\\x96\\xe5\\x8c\\x96\\xe3\\x81\\x99\\xe3\\x82\\x8b\\xe3\\x82\\xb7\\xe3\\x82\\xb9\\xe3\\x83\\x86\\xe3\\x83\\xa0\\xe3\\x81\\xa7\\xe3\\x81\\x99\\xe3\\x80\\x82\">\\n  <title>\\xe3\\x83\\x88\\xe3\\x83\\x83\\xe3\\x83\\x97\\xe3\\x83\\x9a\\xe3\\x83\\xbc\\xe3\\x82\\xb8 - RESAS \\xe5\\x9c\\xb0\\xe5\\x9f\\x9f\\xe7\\xb5\\x8c\\xe6\\xb8\\x88\\xe5\\x88\\x86\\xe6\\x9e\\x90\\xe3\\x82\\xb7\\xe3\\x82\\xb9\\xe3\\x83\\x86\\xe3\\x83\\xa0</title>\\n  <link rel=\"stylesheet\" href=\"./stylesheets/all.css\"/>\\n  <link rel=\"shortcut icon\" href=\"./favicon.ico\"/>\\n\\n  <meta property=\"og:title\" content=\"\\xe3\\x83\\x88\\xe3\\x83\\x83\\xe3\\x83\\x97\\xe3\\x83\\x9a\\xe3\\x83\\xbc\\xe3\\x82\\xb8 - RESAS \\xe5\\x9c\\xb0\\xe5\\x9f\\x9f\\xe7\\xb5\\x8c\\xe6\\xb8\\x88\\xe5\\x88\\x86\\xe6\\x9e\\x90\\xe3\\x82\\xb7\\xe3\\x82\\xb9\\xe3\\x83\\x86\\xe3\\x83\\xa0\" />\\n  <meta property=\"og:type\" content=\"website\" />\\n  <meta property=\"og:url\" content=\"https://resas.go.jp/\" />\\n  <meta property=\"og:image\" content=\"https://resas.go.jp/images/ogp/main.png\" />\\n  <meta property=\"og:site_name\" content=\"RESAS \\xe5\\x9c\\xb0\\xe5\\x9f\\x9f\\xe7\\xb5\\x8c\\xe6\\xb8\\x88\\xe5\\x88\\x86\\xe6\\x9e\\x90\\xe3\\x82\\xb7\\xe3\\x82\\xb9\\xe3\\x83\\x86\\xe3\\x83\\xa0\" />\\n  <meta property=\"og:description\" content=\"\\xe5\\x9c\\xb0\\xe5\\x9f\\x9f\\xe7\\xb5\\x8c\\xe6\\xb8\\x88\\xe5\\x88\\x86\\xe6\\x9e\\x90\\xe3\\x82\\xb7\\xe3\\x82\\xb9\\xe3\\x83\\x86\\xe3\\x83\\xa0\\xef\\xbc\\x88RESAS\\xef\\xbc\\x9a\\xe3\\x83\\xaa\\xe3\\x83\\xbc\\xe3\\x82\\xb5\\xe3\\x82\\xb9\\xef\\xbc\\x89\\xe3\\x81\\xaf\\xe3\\x80\\x81\\xe5\\x9c\\xb0\\xe6\\x96\\xb9\\xe8\\x87\\xaa\\xe6\\xb2\\xbb\\xe4\\xbd\\x93\\xe3\\x81\\xae\\xe6\\xa7\\x98\\xe3\\x80\\x85\\xe3\\x81\\xaa\\xe5\\x8f\\x96\\xe3\\x82\\x8a\\xe7\\xb5\\x84\\xe3\\x81\\xbf\\xe3\\x82\\x92\\xe6\\x83\\x85\\xe5\\xa0\\xb1\\xe9\\x9d\\xa2\\xe3\\x81\\x8b\\xe3\\x82\\x89\\xe6\\x94\\xaf\\xe6\\x8f\\xb4\\xe3\\x81\\x99\\xe3\\x82\\x8b\\xe3\\x81\\x9f\\xe3\\x82\\x81\\xe3\\x81\\xab\\xe3\\x80\\x81\\xe3\\x81\\xbe\\xe3\\x81\\xa1\\xe3\\x83\\xbb\\xe3\\x81\\xb2\\xe3\\x81\\xa8\\xe3\\x83\\xbb\\xe3\\x81\\x97\\xe3\\x81\\x94\\xe3\\x81\\xa8\\xe5\\x89\\xb5\\xe7\\x94\\x9f\\xe6\\x9c\\xac\\xe9\\x83\\xa8\\xe4\\xba\\x8b\\xe5\\x8b\\x99\\xe5\\xb1\\x80\\xe3\\x81\\x8c\\xe6\\x8f\\x90\\xe4\\xbe\\x9b\\xe3\\x81\\x99\\xe3\\x82\\x8b\\xe3\\x80\\x81\\xe7\\x94\\xa3\\xe6\\xa5\\xad\\xe6\\xa7\\x8b\\xe9\\x80\\xa0\\xe3\\x82\\x84\\xe4\\xba\\xba\\xe5\\x8f\\xa3\\xe5\\x8b\\x95\\xe6\\x85\\x8b\\xe3\\x80\\x81\\xe4\\xba\\xba\\xe3\\x81\\xae\\xe6\\xb5\\x81\\xe3\\x82\\x8c\\xe3\\x81\\xaa\\xe3\\x81\\xa9\\xe3\\x81\\xae\\xe5\\xae\\x98\\xe6\\xb0\\x91\\xe3\\x83\\x93\\xe3\\x83\\x83\\xe3\\x82\\xb0\\xe3\\x83\\x87\\xe3\\x83\\xbc\\xe3\\x82\\xbf\\xe3\\x82\\x92\\xe9\\x9b\\x86\\xe7\\xb4\\x84\\xe3\\x81\\x97\\xe3\\x80\\x81\\xe5\\x8f\\xaf\\xe8\\xa6\\x96\\xe5\\x8c\\x96\\xe3\\x81\\x99\\xe3\\x82\\x8b\\xe3\\x82\\xb7\\xe3\\x82\\xb9\\xe3\\x83\\x86\\xe3\\x83\\xa0\\xe3\\x81\\xa7\\xe3\\x81\\x99\\xe3\\x80\\x82\" />\\n\\n  <meta name=\"twitter:card\" content=\"summary_large_image\" />\\n  <meta name=\"twitter:title\" content=\"\\xe3\\x83\\x88\\xe3\\x83\\x83\\xe3\\x83\\x97\\xe3\\x83\\x9a\\xe3\\x83\\xbc\\xe3\\x82\\xb8 - RESAS \\xe5\\x9c\\xb0\\xe5\\x9f\\x9f\\xe7\\xb5\\x8c\\xe6\\xb8\\x88\\xe5\\x88\\x86\\xe6\\x9e\\x90\\xe3\\x82\\xb7\\xe3\\x82\\xb9\\xe3\\x83\\x86\\xe3\\x83\\xa0\" />\\n  <meta name=\"twitter:description\" content=\"\\xe5\\x9c\\xb0\\xe5\\x9f\\x9f\\xe7\\xb5\\x8c\\xe6\\xb8\\x88\\xe5\\x88\\x86\\xe6\\x9e\\x90\\xe3\\x82\\xb7\\xe3\\x82\\xb9\\xe3\\x83\\x86\\xe3\\x83\\xa0\\xef\\xbc\\x88RESAS\\xef\\xbc\\x9a\\xe3\\x83\\xaa\\xe3\\x83\\xbc\\xe3\\x82\\xb5\\xe3\\x82\\xb9\\xef\\xbc\\x89\\xe3\\x81\\xaf\\xe3\\x80\\x81\\xe5\\x9c\\xb0\\xe6\\x96\\xb9\\xe8\\x87\\xaa\\xe6\\xb2\\xbb\\xe4\\xbd\\x93\\xe3\\x81\\xae\\xe6\\xa7\\x98\\xe3\\x80\\x85\\xe3\\x81\\xaa\\xe5\\x8f\\x96\\xe3\\x82\\x8a\\xe7\\xb5\\x84\\xe3\\x81\\xbf\\xe3\\x82\\x92\\xe6\\x83\\x85\\xe5\\xa0\\xb1\\xe9\\x9d\\xa2\\xe3\\x81\\x8b\\xe3\\x82\\x89\\xe6\\x94\\xaf\\xe6\\x8f\\xb4\\xe3\\x81\\x99\\xe3\\x82\\x8b\\xe3\\x81\\x9f\\xe3\\x82\\x81\\xe3\\x81\\xab\\xe3\\x80\\x81\\xe3\\x81\\xbe\\xe3\\x81\\xa1\\xe3\\x83\\xbb\\xe3\\x81\\xb2\\xe3\\x81\\xa8\\xe3\\x83\\xbb\\xe3\\x81\\x97\\xe3\\x81\\x94\\xe3\\x81\\xa8\\xe5\\x89\\xb5\\xe7\\x94\\x9f\\xe6\\x9c\\xac\\xe9\\x83\\xa8\\xe4\\xba\\x8b\\xe5\\x8b\\x99\\xe5\\xb1\\x80\\xe3\\x81\\x8c\\xe6\\x8f\\x90\\xe4\\xbe\\x9b\\xe3\\x81\\x99\\xe3\\x82\\x8b\\xe3\\x80\\x81\\xe7\\x94\\xa3\\xe6\\xa5\\xad\\xe6\\xa7\\x8b\\xe9\\x80\\xa0\\xe3\\x82\\x84\\xe4\\xba\\xba\\xe5\\x8f\\xa3\\xe5\\x8b\\x95\\xe6\\x85\\x8b\\xe3\\x80\\x81\\xe4\\xba\\xba\\xe3\\x81\\xae\\xe6\\xb5\\x81\\xe3\\x82\\x8c\\xe3\\x81\\xaa\\xe3\\x81\\xa9\\xe3\\x81\\xae\\xe5\\xae\\x98\\xe6\\xb0\\x91\\xe3\\x83\\x93\\xe3\\x83\\x83\\xe3\\x82\\xb0\\xe3\\x83\\x87\\xe3\\x83\\xbc\\xe3\\x82\\xbf\\xe3\\x82\\x92\\xe9\\x9b\\x86\\xe7\\xb4\\x84\\xe3\\x81\\x97\\xe3\\x80\\x81\\xe5\\x8f\\xaf\\xe8\\xa6\\x96\\xe5\\x8c\\x96\\xe3\\x81\\x99\\xe3\\x82\\x8b\\xe3\\x82\\xb7\\xe3\\x82\\xb9\\xe3\\x83\\x86\\xe3\\x83\\xa0\\xe3\\x81\\xa7\\xe3\\x81\\x99\\xe3\\x80\\x82\" />\\n  <meta name=\"twitter:image\" content=\"https://resas.go.jp/images/ogp/main.png\" />\\n</head>\\n<body v-on=\"click: click($event)\" class=\"rn\">\\n<div class=\"wrap\">\\n  <main class=\"top\">\\n    <div id=\"error-wrapper\"></div>\\n    <div id=\"alert-wrapper\"></div>\\n    <div id=\"loading-wrapper\"></div>\\n    <div id=\"terminology-wrapper\" class=\"right-menu__popup\"></div>\\n    <div id=\"header-wrapper\"></div>\\n    <div id=\"main-wrapper\"></div>\\n  </main>\\n</div>\\n\\n<script src=\"./javascripts/lib.js\"></script>\\n<script src=\"./javascripts/index.js?date=202011301200\"></script>\\n\\n<!-- User Insight PCDF Code Start :  -->\\n<script type=\"text/javascript\">\\nvar _uic = _uic ||{}; var _uih = _uih ||{};_uih[\\'id\\'] = 55053;\\n_uih[\\'lg_id\\'] = \\'\\';\\n_uih[\\'fb_id\\'] = \\'\\';\\n_uih[\\'tw_id\\'] = \\'\\';\\n_uih[\\'uigr_1\\'] = \\'\\'; _uih[\\'uigr_2\\'] = \\'\\'; _uih[\\'uigr_3\\'] = \\'\\'; _uih[\\'uigr_4\\'] = \\'\\'; _uih[\\'uigr_5\\'] = \\'\\';\\n_uih[\\'uigr_6\\'] = \\'\\'; _uih[\\'uigr_7\\'] = \\'\\'; _uih[\\'uigr_8\\'] = \\'\\'; _uih[\\'uigr_9\\'] = \\'\\'; _uih[\\'uigr_10\\'] = \\'\\';\\n_uic[\\'uls\\'] = 1;\\n\\n/* DO NOT ALTER BELOW THIS LINE */\\n/* WITH FIRST PARTY COOKIE */\\n(function() {\\nvar bi = document.createElement(\\'script\\');bi.type = \\'text/javascript\\'; bi.async = true;\\nbi.src = \\'//cs.nakanohito.jp/b3/bi.js\\';\\nvar s = document.getElementsByTagName(\\'script\\')[0];s.parentNode.insertBefore(bi, s);\\n})();\\n</script>\\n<!-- User Insight PCDF Code End :  -->\\n</body>\\n</html>\\n'\n"
     ]
    }
   ],
   "source": [
    "# 一番最初に取得した html \n",
    "print(html)"
   ]
  },
  {
   "cell_type": "code",
   "execution_count": 17,
   "id": "cognitive-healthcare",
   "metadata": {
    "collapsed": true
   },
   "outputs": [
    {
     "name": "stdout",
     "output_type": "stream",
     "text": [
      "<!doctype html>\n",
      "<html lang=\"ja\" class=\"rn\">\n",
      "<head prefix=\"og: http://ogp.me/ns# fb: http://ogp.me/ns/fb# article: http://ogp.me/ns/article# website: http://ogp.me/ns/website#\">\n",
      "  <meta charset=\"UTF-8\">\n",
      "\t<meta name=\"viewport\" content=\"width=1280\">\n",
      "  <meta name=\"description\" content=\"地域経済分析システム（RESAS：リーサス）は、地方自治体の様々な取り組みを情報面から支援するために、まち・ひと・しごと創生本部事務局が提供する、産業構造や人口動態、人の流れなどの官民ビッグデータを集約し、可視化するシステムです。\">\n",
      "  <title>トップページ - RESAS 地域経済分析システム</title>\n",
      "  <link rel=\"stylesheet\" href=\"./stylesheets/all.css\"/>\n",
      "  <link rel=\"shortcut icon\" href=\"./favicon.ico\"/>\n",
      "\n",
      "  <meta property=\"og:title\" content=\"トップページ - RESAS 地域経済分析システム\" />\n",
      "  <meta property=\"og:type\" content=\"website\" />\n",
      "  <meta property=\"og:url\" content=\"https://resas.go.jp/\" />\n",
      "  <meta property=\"og:image\" content=\"https://resas.go.jp/images/ogp/main.png\" />\n",
      "  <meta property=\"og:site_name\" content=\"RESAS 地域経済分析システム\" />\n",
      "  <meta property=\"og:description\" content=\"地域経済分析システム（RESAS：リーサス）は、地方自治体の様々な取り組みを情報面から支援するために、まち・ひと・しごと創生本部事務局が提供する、産業構造や人口動態、人の流れなどの官民ビッグデータを集約し、可視化するシステムです。\" />\n",
      "\n",
      "  <meta name=\"twitter:card\" content=\"summary_large_image\" />\n",
      "  <meta name=\"twitter:title\" content=\"トップページ - RESAS 地域経済分析システム\" />\n",
      "  <meta name=\"twitter:description\" content=\"地域経済分析システム（RESAS：リーサス）は、地方自治体の様々な取り組みを情報面から支援するために、まち・ひと・しごと創生本部事務局が提供する、産業構造や人口動態、人の流れなどの官民ビッグデータを集約し、可視化するシステムです。\" />\n",
      "  <meta name=\"twitter:image\" content=\"https://resas.go.jp/images/ogp/main.png\" />\n",
      "</head>\n",
      "<body v-on=\"click: click($event)\" class=\"rn\">\n",
      "<div class=\"wrap\">\n",
      "  <main class=\"top\">\n",
      "    <div id=\"error-wrapper\"></div>\n",
      "    <div id=\"alert-wrapper\"></div>\n",
      "    <div id=\"loading-wrapper\"></div>\n",
      "    <div id=\"terminology-wrapper\" class=\"right-menu__popup\"></div>\n",
      "    <div id=\"header-wrapper\"></div>\n",
      "    <div id=\"main-wrapper\"></div>\n",
      "  </main>\n",
      "</div>\n",
      "\n",
      "<script src=\"./javascripts/lib.js\"></script>\n",
      "<script src=\"./javascripts/index.js?date=202011301200\"></script>\n",
      "\n",
      "<!-- User Insight PCDF Code Start :  -->\n",
      "<script type=\"text/javascript\">\n",
      "var _uic = _uic ||{}; var _uih = _uih ||{};_uih['id'] = 55053;\n",
      "_uih['lg_id'] = '';\n",
      "_uih['fb_id'] = '';\n",
      "_uih['tw_id'] = '';\n",
      "_uih['uigr_1'] = ''; _uih['uigr_2'] = ''; _uih['uigr_3'] = ''; _uih['uigr_4'] = ''; _uih['uigr_5'] = '';\n",
      "_uih['uigr_6'] = ''; _uih['uigr_7'] = ''; _uih['uigr_8'] = ''; _uih['uigr_9'] = ''; _uih['uigr_10'] = '';\n",
      "_uic['uls'] = 1;\n",
      "\n",
      "/* DO NOT ALTER BELOW THIS LINE */\n",
      "/* WITH FIRST PARTY COOKIE */\n",
      "(function() {\n",
      "var bi = document.createElement('script');bi.type = 'text/javascript'; bi.async = true;\n",
      "bi.src = '//cs.nakanohito.jp/b3/bi.js';\n",
      "var s = document.getElementsByTagName('script')[0];s.parentNode.insertBefore(bi, s);\n",
      "})();\n",
      "</script>\n",
      "<!-- User Insight PCDF Code End :  -->\n",
      "</body>\n",
      "</html>\n",
      "\n"
     ]
    }
   ],
   "source": [
    "# 次にデコードした decode_html \n",
    "print(decode_html)"
   ]
  },
  {
   "cell_type": "markdown",
   "id": "exclusive-assistant",
   "metadata": {},
   "source": [
    "# Exercise 03-1 問題"
   ]
  },
  {
   "cell_type": "markdown",
   "id": "variable-crowd",
   "metadata": {},
   "source": [
    "### (1)利用規約の確認\n",
    "\n",
    "```python\n",
    "自分の好きなサイトを1つ検索し、そこの利用規約を確認せよ。\n",
    "\n",
    "```"
   ]
  },
  {
   "cell_type": "code",
   "execution_count": null,
   "id": "statutory-pendant",
   "metadata": {},
   "outputs": [],
   "source": [
    "#ここに利用規約でスクレイピングが可能かどうか確認せよ。"
   ]
  },
  {
   "cell_type": "markdown",
   "id": "dynamic-insurance",
   "metadata": {},
   "source": [
    "### (2)htmlの取得（クロール）\n",
    "\n",
    "```python\n",
    "(1)で利用規約的に問題なかった場合、サイトをrequestsライブラリを利用してHTML取得しprintで出力せよ。\n",
    "\n",
    "\n",
    "```"
   ]
  },
  {
   "cell_type": "code",
   "execution_count": null,
   "id": "precious-cloud",
   "metadata": {},
   "outputs": [],
   "source": [
    "#ここに記述せよ。"
   ]
  },
  {
   "cell_type": "markdown",
   "id": "employed-carroll",
   "metadata": {},
   "source": [
    "---\n",
    "# **2.スクレイピングの実践**\n",
    "\n"
   ]
  },
  {
   "cell_type": "markdown",
   "id": "ongoing-morning",
   "metadata": {},
   "source": [
    "## 2.1BeautifulSoap"
   ]
  },
  {
   "cell_type": "markdown",
   "id": "developmental-banks",
   "metadata": {},
   "source": [
    "[![Image from Gyazo](https://i.gyazo.com/ee6764709cf4709c6da10340816b0fba.png)](https://gyazo.com/ee6764709cf4709c6da10340816b0fba)\n",
    "\n",
    "引用:[AI-interのPython3入門 「図解！Python BeautifulSoupの使い方を徹底解説！(select、find、find_all、インストール、スクレイピングなど)」](https://ai-inter1.com/beautifulsoup_1/)"
   ]
  },
  {
   "cell_type": "markdown",
   "id": "extra-discretion",
   "metadata": {},
   "source": [
    "\n",
    "BeautifulSoapインスタンスを呼び出す際に第2引数入れるものの正体は以下のフォーマットになります。\n",
    "\n",
    "[![Image from Gyazo](https://i.gyazo.com/17d382b3cfc46ce8748d19104211b4d7.png)](https://gyazo.com/17d382b3cfc46ce8748d19104211b4d7)\n",
    "\n",
    "\n",
    "引用:[AI-interのPython3入門 「図解！Python BeautifulSoupの使い方を徹底解説！(select、find、find_all、インストール、スクレイピングなど)」](https://ai-inter1.com/beautifulsoup_1/)"
   ]
  },
  {
   "cell_type": "code",
   "execution_count": 20,
   "id": "excess-horizon",
   "metadata": {},
   "outputs": [
    {
     "name": "stdout",
     "output_type": "stream",
     "text": [
      "Requirement already satisfied: bs4 in /opt/conda/lib/python3.8/site-packages (0.0.1)\n",
      "Requirement already satisfied: lxml in /opt/conda/lib/python3.8/site-packages (4.6.2)\n",
      "Requirement already satisfied: beautifulsoup4 in /opt/conda/lib/python3.8/site-packages (from bs4) (4.9.3)\n",
      "Requirement already satisfied: soupsieve>1.2 in /opt/conda/lib/python3.8/site-packages (from beautifulsoup4->bs4) (2.0.1)\n"
     ]
    }
   ],
   "source": [
    "# Beautifulsoupと lxmlのインストール\n",
    "!pip install bs4 lxml"
   ]
  },
  {
   "cell_type": "code",
   "execution_count": 23,
   "id": "attractive-warner",
   "metadata": {
    "scrolled": true
   },
   "outputs": [
    {
     "data": {
      "text/plain": [
       "<title>トップページ - RESAS 地域経済分析システム</title>"
      ]
     },
     "execution_count": 23,
     "metadata": {},
     "output_type": "execute_result"
    }
   ],
   "source": [
    "#クロールするためにHTTPライブラリ であるrequestsを利用\n",
    "import requests as req\n",
    "from bs4 import BeautifulSoup\n",
    "\n",
    "#getで呼び出している\n",
    "response = req.get(\"https://resas.go.jp/\")\n",
    "\n",
    "#BeautifulSoupインスタンスを生成\n",
    "soup = BeautifulSoup(response.content, \"lxml\")"
   ]
  },
  {
   "cell_type": "markdown",
   "id": "funny-tiger",
   "metadata": {},
   "source": [
    "### findメソッド(HTMLタグによる抽出)"
   ]
  },
  {
   "cell_type": "code",
   "execution_count": 24,
   "id": "labeled-trust",
   "metadata": {},
   "outputs": [
    {
     "name": "stdout",
     "output_type": "stream",
     "text": [
      "<title>トップページ - RESAS 地域経済分析システム</title>\n",
      "<meta charset=\"utf-8\"/>\n"
     ]
    }
   ],
   "source": [
    "# .find(\"要素名\") で目的の要素のみ(複数ある場合は一つのみ)を抽出\n",
    "print(soup.find(\"title\"))\n",
    "print(soup.find(\"meta\"))"
   ]
  },
  {
   "cell_type": "code",
   "execution_count": 25,
   "id": "lined-saturn",
   "metadata": {},
   "outputs": [
    {
     "name": "stdout",
     "output_type": "stream",
     "text": [
      "[<meta charset=\"utf-8\"/>, <meta content=\"width=1280\" name=\"viewport\"/>, <meta content=\"地域経済分析システム（RESAS：リーサス）は、地方自治体の様々な取り組みを情報面から支援するために、まち・ひと・しごと創生本部事務局が提供する、産業構造や人口動態、人の流れなどの官民ビッグデータを集約し、可視化するシステムです。\" name=\"description\"/>, <meta content=\"トップページ - RESAS 地域経済分析システム\" property=\"og:title\"/>, <meta content=\"website\" property=\"og:type\"/>, <meta content=\"https://resas.go.jp/\" property=\"og:url\"/>, <meta content=\"https://resas.go.jp/images/ogp/main.png\" property=\"og:image\"/>, <meta content=\"RESAS 地域経済分析システム\" property=\"og:site_name\"/>, <meta content=\"地域経済分析システム（RESAS：リーサス）は、地方自治体の様々な取り組みを情報面から支援するために、まち・ひと・しごと創生本部事務局が提供する、産業構造や人口動態、人の流れなどの官民ビッグデータを集約し、可視化するシステムです。\" property=\"og:description\"/>, <meta content=\"summary_large_image\" name=\"twitter:card\"/>, <meta content=\"トップページ - RESAS 地域経済分析システム\" name=\"twitter:title\"/>, <meta content=\"地域経済分析システム（RESAS：リーサス）は、地方自治体の様々な取り組みを情報面から支援するために、まち・ひと・しごと創生本部事務局が提供する、産業構造や人口動態、人の流れなどの官民ビッグデータを集約し、可視化するシステムです。\" name=\"twitter:description\"/>, <meta content=\"https://resas.go.jp/images/ogp/main.png\" name=\"twitter:image\"/>]\n"
     ]
    }
   ],
   "source": [
    "# .find_all(\"要素名\") で目的の要素のみ(複数ある場合は一つのみ)を抽出\n",
    "print(soup.find_all(\"meta\"))"
   ]
  },
  {
   "cell_type": "markdown",
   "id": "paperback-movie",
   "metadata": {},
   "source": [
    "### selectメソッド(CSSセレクタによる抽出)"
   ]
  },
  {
   "cell_type": "code",
   "execution_count": 26,
   "id": "innocent-popularity",
   "metadata": {},
   "outputs": [
    {
     "name": "stdout",
     "output_type": "stream",
     "text": [
      "<title>トップページ - RESAS 地域経済分析システム</title>\n",
      "<meta charset=\"utf-8\"/>\n"
     ]
    }
   ],
   "source": [
    "# .select_one(\"要素名\") で目的の要素のみ(複数ある場合は一つのみ)を抽出\n",
    "print(soup.select_one(\"title\"))\n",
    "print(soup.select_one(\"meta\"))"
   ]
  },
  {
   "cell_type": "code",
   "execution_count": 28,
   "id": "clear-aggregate",
   "metadata": {},
   "outputs": [
    {
     "name": "stdout",
     "output_type": "stream",
     "text": [
      "[<meta charset=\"utf-8\"/>, <meta content=\"width=1280\" name=\"viewport\"/>, <meta content=\"地域経済分析システム（RESAS：リーサス）は、地方自治体の様々な取り組みを情報面から支援するために、まち・ひと・しごと創生本部事務局が提供する、産業構造や人口動態、人の流れなどの官民ビッグデータを集約し、可視化するシステムです。\" name=\"description\"/>, <meta content=\"トップページ - RESAS 地域経済分析システム\" property=\"og:title\"/>, <meta content=\"website\" property=\"og:type\"/>, <meta content=\"https://resas.go.jp/\" property=\"og:url\"/>, <meta content=\"https://resas.go.jp/images/ogp/main.png\" property=\"og:image\"/>, <meta content=\"RESAS 地域経済分析システム\" property=\"og:site_name\"/>, <meta content=\"地域経済分析システム（RESAS：リーサス）は、地方自治体の様々な取り組みを情報面から支援するために、まち・ひと・しごと創生本部事務局が提供する、産業構造や人口動態、人の流れなどの官民ビッグデータを集約し、可視化するシステムです。\" property=\"og:description\"/>, <meta content=\"summary_large_image\" name=\"twitter:card\"/>, <meta content=\"トップページ - RESAS 地域経済分析システム\" name=\"twitter:title\"/>, <meta content=\"地域経済分析システム（RESAS：リーサス）は、地方自治体の様々な取り組みを情報面から支援するために、まち・ひと・しごと創生本部事務局が提供する、産業構造や人口動態、人の流れなどの官民ビッグデータを集約し、可視化するシステムです。\" name=\"twitter:description\"/>, <meta content=\"https://resas.go.jp/images/ogp/main.png\" name=\"twitter:image\"/>]\n"
     ]
    }
   ],
   "source": [
    "# select(\"要素名\") で目的の要素のみ(複数ある場合は一つのみ)を抽出\n",
    "print(soup.select(\"meta\"))"
   ]
  },
  {
   "cell_type": "markdown",
   "id": "covered-shadow",
   "metadata": {},
   "source": []
  },
  {
   "cell_type": "markdown",
   "id": "swedish-inclusion",
   "metadata": {},
   "source": [
    "### スクレイピングで要素抽出が上手くなるコツ(より複雑な指定)\n",
    "\n",
    "スクレイピングで要素抽出をする方法は主に3つのステップがあります。\n",
    "\n",
    "\n",
    "1. デベロッパーツールで要素をクリック (お好きのwebサイトにてfn + \"f12\"を実行し開く)\n",
    "\n",
    "\n",
    "[![Image from Gyazo](https://i.gyazo.com/e52293bac0e5db4ec8524b5d244ed463.png)](https://gyazo.com/e52293bac0e5db4ec8524b5d244ed463)\n",
    "\n",
    "2. HTMLを見て、特定に必要な要素を確認\n",
    "[![Image from Gyazo](https://i.gyazo.com/0fdbf2e5fc5a06d5c7cfe0a629e34117.png)](https://gyazo.com/0fdbf2e5fc5a06d5c7cfe0a629e34117)\n",
    "\n",
    "3. コードをかく - 下記参照\n"
   ]
  },
  {
   "cell_type": "markdown",
   "id": "productive-portable",
   "metadata": {},
   "source": [
    "03-1で基本知識を学び、03-2で実践にはいっていきます"
   ]
  },
  {
   "cell_type": "code",
   "execution_count": null,
   "id": "bacterial-penny",
   "metadata": {},
   "outputs": [],
   "source": []
  },
  {
   "cell_type": "markdown",
   "id": "creative-government",
   "metadata": {},
   "source": [
    "https://ai-inter1.com/beautifulsoup_1/\n"
   ]
  },
  {
   "cell_type": "markdown",
   "id": "agricultural-waters",
   "metadata": {},
   "source": [
    "### **スクレイピングで表の取得をしたい場合: pandasの利用**"
   ]
  },
  {
   "cell_type": "code",
   "execution_count": null,
   "id": "complicated-folder",
   "metadata": {},
   "outputs": [],
   "source": []
  },
  {
   "cell_type": "code",
   "execution_count": null,
   "id": "sweet-dream",
   "metadata": {},
   "outputs": [],
   "source": []
  },
  {
   "cell_type": "markdown",
   "id": "western-brunswick",
   "metadata": {},
   "source": [
    "# Exercise 03-2 問題"
   ]
  },
  {
   "cell_type": "code",
   "execution_count": null,
   "id": "complex-junction",
   "metadata": {},
   "outputs": [],
   "source": [
    "(1)"
   ]
  },
  {
   "cell_type": "code",
   "execution_count": null,
   "id": "listed-chess",
   "metadata": {},
   "outputs": [],
   "source": []
  },
  {
   "cell_type": "code",
   "execution_count": null,
   "id": "solved-terminology",
   "metadata": {},
   "outputs": [],
   "source": [
    "(2)"
   ]
  },
  {
   "cell_type": "markdown",
   "id": "fifth-cholesterol",
   "metadata": {},
   "source": [
    "# **3.動的なページの対策 Selenium**"
   ]
  },
  {
   "attachments": {},
   "cell_type": "markdown",
   "id": "rational-trick",
   "metadata": {},
   "source": []
  },
  {
   "cell_type": "markdown",
   "id": "partial-straight",
   "metadata": {},
   "source": [
    "# Exercise 03-3 問題"
   ]
  },
  {
   "cell_type": "markdown",
   "id": "hungarian-efficiency",
   "metadata": {},
   "source": [
    "#### "
   ]
  },
  {
   "cell_type": "code",
   "execution_count": null,
   "id": "focused-mouth",
   "metadata": {},
   "outputs": [],
   "source": []
  },
  {
   "cell_type": "markdown",
   "id": "protecting-wealth",
   "metadata": {},
   "source": [
    "## 4. データの保存 pandas DataFrame型"
   ]
  },
  {
   "cell_type": "code",
   "execution_count": null,
   "id": "satellite-publicity",
   "metadata": {},
   "outputs": [],
   "source": []
  },
  {
   "cell_type": "markdown",
   "id": "purple-cedar",
   "metadata": {},
   "source": [
    "# Exercise 03-4 問題"
   ]
  },
  {
   "cell_type": "code",
   "execution_count": null,
   "id": "moderate-circular",
   "metadata": {},
   "outputs": [],
   "source": []
  }
 ],
 "metadata": {
  "kernelspec": {
   "display_name": "Python 3",
   "language": "python",
   "name": "python3"
  },
  "language_info": {
   "codemirror_mode": {
    "name": "ipython",
    "version": 3
   },
   "file_extension": ".py",
   "mimetype": "text/x-python",
   "name": "python",
   "nbconvert_exporter": "python",
   "pygments_lexer": "ipython3",
   "version": "3.8.8"
  }
 },
 "nbformat": 4,
 "nbformat_minor": 5
}
