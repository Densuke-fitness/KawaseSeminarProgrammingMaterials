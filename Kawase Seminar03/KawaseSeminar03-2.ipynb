{
 "cells": [
  {
   "cell_type": "markdown",
   "id": "actual-caribbean",
   "metadata": {
    "id": "actual-caribbean"
   },
   "source": [
    "<p style=\"text-align:center\"><font size=\"10\" >Kawase Seminar 03-2</font></p>"
   ]
  },
  {
   "cell_type": "markdown",
   "id": "distributed-infrastructure",
   "metadata": {
    "id": "distributed-infrastructure"
   },
   "source": [
    "# **スクレイピング入門(実践編)**\n",
    "\n",
    "❇︎今回はテキスト内で完結する問題のみであるため回答はありません。(Exercise 03-3 問題の1のみ答えを.txtで添付。)"
   ]
  },
  {
   "cell_type": "markdown",
   "id": "modern-affiliate",
   "metadata": {
    "id": "modern-affiliate"
   },
   "source": [
    "# 0.**意識しようスクレイピングのルール**\n",
    "\n",
    "### 1.Webページ上の情報を抜き出して再利用することを利用規約で禁じているサイトもある\n",
    "###   　　 → 必ずWebページ上の情報の著作権や利用規約を確認!!!\n",
    "\n",
    "### 2.スクレイピングは初学者にとってはむしろ危険\n",
    "###    　　→ 一般的にはサイトが提供しているAPIを使おう！\n",
    "\n",
    "### 3.必ずtime.sleepを用いること！ 1秒以上は間隔をあけること\n",
    "### 　　　→ 一歩間違えると犯罪になることを意識(Dos攻撃に間違われる)"
   ]
  },
  {
   "cell_type": "markdown",
   "id": "visible-thailand",
   "metadata": {
    "id": "visible-thailand"
   },
   "source": [
    "---\n",
    "# **1.クローリングの実践**"
   ]
  },
  {
   "cell_type": "markdown",
   "id": "sticky-slovak",
   "metadata": {
    "id": "sticky-slovak"
   },
   "source": [
    "✳︎まずはサイトマップなどから利用規約を確認する\n",
    "\n",
    "https://resas.go.jp/policy/#/13/13101"
   ]
  },
  {
   "cell_type": "code",
   "execution_count": 2,
   "id": "sought-metadata",
   "metadata": {
    "id": "sought-metadata",
    "outputId": "6db34996-39fc-4a35-d279-5fbe3798c4d6"
   },
   "outputs": [],
   "source": [
    "import requests as req\n",
    "\n",
    "#getで呼び出している\n",
    "response = req.get(\"https://resas.go.jp/\")\n",
    "response.text"
   ]
  },
  {
   "cell_type": "code",
   "execution_count": 1,
   "id": "defined-grave",
   "metadata": {
    "id": "defined-grave",
    "outputId": "adecec7e-16b9-4057-f9c6-2e526978d8d5"
   },
   "outputs": [],
   "source": [
    "#<<別の方法 こっちの方がより丁寧に取得>>\n",
    "\n",
    "# 使うものは以下のライブラリ\n",
    "from urllib.request import urlopen\n",
    "from bs4 import BeautifulSoup\n",
    "import time \n",
    "import random\n",
    "\n",
    "# ランダムに待ち時間を発生させる stop 関数\n",
    "def stop():\n",
    "    stop_time = random.randint(1,6)\n",
    "    print(f\"{stop_time}秒待ちます。\")\n",
    "    time.sleep(stop_time)\n",
    "    \n",
    "    \n",
    "# 地域経済分析システム「RESAS」のサイト情報を取得してみよう！\n",
    "# サーバーに負荷がかからないように間隔をあけて行いましょう。\n",
    "\n",
    "# 上で作った乱数待ち時間装置を発動\n",
    "stop()\n",
    "\n",
    "# urlopen(url) で目的のサイトに接続\n",
    "fp = urlopen('https://resas.go.jp/')\n",
    "\n",
    "# 接続したサイトのコード(HTML)を取得\n",
    "html = fp.read()\n",
    "\n",
    "# 上で作った乱数待ち時間装置を発動\n",
    "stop()\n",
    "\n",
    "# 接続を解除\n",
    "fp.close()\n",
    "\n",
    "# unicode を UTF-8 にデコードする\n",
    "decode_html = html.decode(\"UTF-8\")"
   ]
  },
  {
   "cell_type": "code",
   "execution_count": 3,
   "id": "impressed-geology",
   "metadata": {
    "id": "impressed-geology",
    "outputId": "304d7596-1072-416f-fe31-7ca439a7260c"
   },
   "outputs": [],
   "source": [
    "# 一番最初に取得した html \n",
    "print(html)"
   ]
  },
  {
   "cell_type": "code",
   "execution_count": 4,
   "id": "cognitive-healthcare",
   "metadata": {
    "id": "cognitive-healthcare",
    "outputId": "53bd4011-b816-41d6-98fe-e86eeac245fc"
   },
   "outputs": [],
   "source": [
    "# 次にデコードした decode_html \n",
    "print(decode_html)"
   ]
  },
  {
   "cell_type": "markdown",
   "id": "exclusive-assistant",
   "metadata": {
    "id": "exclusive-assistant"
   },
   "source": [
    "# Exercise 03-1 問題"
   ]
  },
  {
   "cell_type": "markdown",
   "id": "variable-crowd",
   "metadata": {
    "id": "variable-crowd"
   },
   "source": [
    "### (1)利用規約の確認\n",
    "\n",
    "```python\n",
    "自分の好きなサイトを1つ検索し、そこの利用規約を確認せよ。\n",
    "\n",
    "```"
   ]
  },
  {
   "cell_type": "code",
   "execution_count": null,
   "id": "statutory-pendant",
   "metadata": {
    "id": "statutory-pendant"
   },
   "outputs": [],
   "source": [
    "#ここに利用規約でスクレイピングが可能かどうか確認せよ。"
   ]
  },
  {
   "cell_type": "markdown",
   "id": "dynamic-insurance",
   "metadata": {
    "id": "dynamic-insurance"
   },
   "source": [
    "### (2)htmlの取得（クロール）\n",
    "\n",
    "```python\n",
    "(1)で利用規約的に問題なかった場合、サイトをrequestsライブラリを利用してHTML取得しprintで出力せよ。\n",
    "\n",
    "\n",
    "```"
   ]
  },
  {
   "cell_type": "code",
   "execution_count": null,
   "id": "precious-cloud",
   "metadata": {
    "id": "precious-cloud"
   },
   "outputs": [],
   "source": [
    "#ここに記述せよ。"
   ]
  },
  {
   "cell_type": "markdown",
   "id": "2fr679JYu5Rh",
   "metadata": {
    "id": "2fr679JYu5Rh"
   },
   "source": [
    "# (3) urlopenの利用\n",
    "\n",
    "```python\n",
    "html 変数に格納されている情報を可視化せよ\n",
    "```"
   ]
  },
  {
   "cell_type": "code",
   "execution_count": null,
   "id": "4YXvQKHmuy5m",
   "metadata": {
    "id": "4YXvQKHmuy5m"
   },
   "outputs": [],
   "source": [
    "from urllib import request as rq\n",
    "html = rq.urlopen(\"https://www.mof.go.jp/index.htm\")\n",
    "# ここに記述せよ\n"
   ]
  },
  {
   "cell_type": "markdown",
   "id": "employed-carroll",
   "metadata": {
    "id": "employed-carroll"
   },
   "source": [
    "---\n",
    "# **2.スクレイピングの実践**\n",
    "\n"
   ]
  },
  {
   "cell_type": "markdown",
   "id": "ongoing-morning",
   "metadata": {
    "id": "ongoing-morning"
   },
   "source": [
    "## 2.1BeautifulSoap"
   ]
  },
  {
   "cell_type": "markdown",
   "id": "developmental-banks",
   "metadata": {
    "id": "developmental-banks"
   },
   "source": [
    "[![Image from Gyazo](https://i.gyazo.com/ee6764709cf4709c6da10340816b0fba.png)](https://gyazo.com/ee6764709cf4709c6da10340816b0fba)\n",
    "\n",
    "引用:[AI-interのPython3入門 「図解！Python BeautifulSoupの使い方を徹底解説！(select、find、find_all、インストール、スクレイピングなど)」](https://ai-inter1.com/beautifulsoup_1/)"
   ]
  },
  {
   "cell_type": "markdown",
   "id": "extra-discretion",
   "metadata": {
    "id": "extra-discretion"
   },
   "source": [
    "\n",
    "BeautifulSoapインスタンスを呼び出す際に第2引数入れるものの正体は以下のフォーマットになります。\n",
    "\n",
    "[![Image from Gyazo](https://i.gyazo.com/17d382b3cfc46ce8748d19104211b4d7.png)](https://gyazo.com/17d382b3cfc46ce8748d19104211b4d7)\n",
    "\n",
    "\n",
    "引用:[AI-interのPython3入門 「図解！Python BeautifulSoupの使い方を徹底解説！(select、find、find_all、インストール、スクレイピングなど)」](https://ai-inter1.com/beautifulsoup_1/)"
   ]
  },
  {
   "cell_type": "code",
   "execution_count": 5,
   "id": "excess-horizon",
   "metadata": {
    "id": "excess-horizon",
    "outputId": "7079c909-4cdf-4463-e9bf-dd8dcb45c4dc"
   },
   "outputs": [],
   "source": [
    "# Beautifulsoupと lxmlのインストール\n",
    "!pip install bs4 lxml"
   ]
  },
  {
   "cell_type": "code",
   "execution_count": null,
   "id": "attractive-warner",
   "metadata": {
    "id": "attractive-warner",
    "scrolled": true
   },
   "outputs": [],
   "source": [
    "#クロールするためにHTTPライブラリ であるrequestsを利用\n",
    "import requests as req\n",
    "from bs4 import BeautifulSoup\n",
    "\n",
    "#getで呼び出している\n",
    "response = req.get(\"https://resas.go.jp/\")\n",
    "\n",
    "#BeautifulSoupインスタンスを生成\n",
    "soup = BeautifulSoup(response.content, \"lxml\")"
   ]
  },
  {
   "cell_type": "markdown",
   "id": "funny-tiger",
   "metadata": {
    "id": "funny-tiger"
   },
   "source": [
    "### findメソッド(HTMLタグによる抽出)"
   ]
  },
  {
   "cell_type": "code",
   "execution_count": 6,
   "id": "labeled-trust",
   "metadata": {
    "id": "labeled-trust",
    "outputId": "15155735-b968-4c54-8dd2-161c340e4c08"
   },
   "outputs": [],
   "source": [
    "# .find(\"要素名\") で目的の要素のみ(複数ある場合は一つのみ)を抽出\n",
    "print(soup.find(\"title\"))\n",
    "print(soup.find(\"meta\"))"
   ]
  },
  {
   "cell_type": "code",
   "execution_count": 7,
   "id": "lined-saturn",
   "metadata": {
    "id": "lined-saturn",
    "outputId": "bfb95a3e-a9ad-4923-803f-03ea411df328"
   },
   "outputs": [],
   "source": [
    "# .find_all(\"要素名\") で目的の要素のみ(複数ある場合は一つのみ)を抽出\n",
    "print(soup.find_all(\"meta\"))"
   ]
  },
  {
   "cell_type": "markdown",
   "id": "paperback-movie",
   "metadata": {
    "id": "paperback-movie"
   },
   "source": [
    "### selectメソッド(CSSセレクタによる抽出)"
   ]
  },
  {
   "cell_type": "code",
   "execution_count": 8,
   "id": "innocent-popularity",
   "metadata": {
    "id": "innocent-popularity",
    "outputId": "6370710f-7750-45ef-baad-96b5bd934c6b"
   },
   "outputs": [],
   "source": [
    "# .select_one(\"要素名\") で目的の要素のみ(複数ある場合は一つのみ)を抽出\n",
    "print(soup.select_one(\"title\"))\n",
    "print(soup.select_one(\"meta\"))"
   ]
  },
  {
   "cell_type": "code",
   "execution_count": 9,
   "id": "clear-aggregate",
   "metadata": {
    "id": "clear-aggregate",
    "outputId": "46b24208-babc-45a7-93e9-79ad3b5caf79"
   },
   "outputs": [],
   "source": [
    "# select(\"要素名\") で目的の要素のみ(複数ある場合は一つのみ)を抽出\n",
    "print(soup.select(\"meta\"))"
   ]
  },
  {
   "cell_type": "markdown",
   "id": "swedish-inclusion",
   "metadata": {
    "id": "swedish-inclusion"
   },
   "source": [
    "## スクレイピングで要素抽出が上手くなるコツ(より複雑な指定)\n",
    "\n",
    "スクレイピングで要素抽出をする方法は主に3つのステップがあります。\n",
    "\n",
    "\n",
    "### 1. デベロッパーツールで要素をクリック (お好きのwebサイトにてfn + \"f12\"を実行し開く)\n",
    "\n",
    "[![Image from Gyazo](https://i.gyazo.com/e52293bac0e5db4ec8524b5d244ed463.png)](https://gyazo.com/e52293bac0e5db4ec8524b5d244ed463)\n",
    "\n",
    "\n",
    "### 2. HTMLを見て、特定に必要な要素を確認\n",
    "[![Image from Gyazo](https://i.gyazo.com/d5381e62af9b2111ce18001e176b91ab.png)](https://gyazo.com/d5381e62af9b2111ce18001e176b91ab)"
   ]
  },
  {
   "cell_type": "markdown",
   "id": "lined-above",
   "metadata": {
    "id": "lined-above"
   },
   "source": [
    "### 3.(cssセレクタ利用の場合)セレクタをコピーをする\n",
    "[![Image from Gyazo](https://i.gyazo.com/99878e86c2f5738e18546105144e4060.png)](https://gyazo.com/99878e86c2f5738e18546105144e4060)\n",
    "\n",
    "### 4.コピーを元にコードをかく - 下記参照"
   ]
  },
  {
   "cell_type": "code",
   "execution_count": 10,
   "id": "rough-month",
   "metadata": {
    "id": "rough-month",
    "outputId": "2e657168-5f01-4297-91eb-bec9081627b0"
   },
   "outputs": [],
   "source": [
    "#<<今回コピーしたもの>>\n",
    "# body > main > div.k-hub-body > div.k-layout__container > div > div > kite-headline > div:nth-child(1) > div > div.k-hub-card.k-hub-card--no-ellipsis > div > a > span\n",
    "\n",
    "response = req.get(\"https://www.nikkei.com/\")\n",
    "soup = BeautifulSoup(response.content, \"lxml\")\n",
    "\n",
    "# :nth-child　は唯一サポートされていないためnth-of-typeに変更してコードを実装\n",
    "elems = soup.select('body > main > div.k-hub-body > div.k-layout__container > div > div > kite-headline > div:nth-of-type(1) > div > div.k-hub-card.k-hub-card--no-ellipsis > div > a > span')  \n",
    "elems\n"
   ]
  },
  {
   "cell_type": "markdown",
   "id": "closing-project",
   "metadata": {
    "id": "closing-project"
   },
   "source": [
    "selectとfindどちらにもいえることとしては、基本的にデベロッパーツールを使い要素を特定してコードをかくことが効率的ということです！！\n",
    "\n",
    "より使いこなしたい方は下のサイトがオススメです\n",
    "\n",
    "[図解！Python BeautifulSoupの使い方を徹底解説！(select、find、find_all、インストール、スクレイピングなど)](https://ai-inter1.com/beautifulsoup_1/)"
   ]
  },
  {
   "cell_type": "markdown",
   "id": "agricultural-waters",
   "metadata": {
    "id": "agricultural-waters"
   },
   "source": [
    "### **スクレイピングで表の取得をしたい場合: pandasの利用**"
   ]
  },
  {
   "cell_type": "code",
   "execution_count": 11,
   "id": "complicated-folder",
   "metadata": {
    "id": "complicated-folder",
    "outputId": "ff32e6ea-3fad-434b-9e05-e6d6479b6abf"
   },
   "outputs": [],
   "source": [
    "import pandas as pd\n",
    "\n",
    "#株式投資メモからページ内のTαble群を取得\n",
    "dfs =  pd.read_html(\"https://kabuoji3.com/ranking/?date=2021-03-15&type=1&market=3\")\n",
    "#DataFrame型を複数持つリストを返す\n",
    "dfs[0]"
   ]
  },
  {
   "cell_type": "markdown",
   "id": "western-brunswick",
   "metadata": {
    "id": "western-brunswick"
   },
   "source": [
    "# Exercise 03-2 問題"
   ]
  },
  {
   "cell_type": "markdown",
   "id": "animated-radiation",
   "metadata": {
    "id": "animated-radiation"
   },
   "source": [
    "### (1)BeautifulSoap - select\n",
    "```python\n",
    "自分の好きなサイトを1つ検索し、そこの利用規約を確認し問題なかった場合にrequestsライブラリのgetメソッドでまずHTMLをクロールせよ。\n",
    "その後BeautifulSoapライブラリの　**select系のメソッド**　を用いて要素を取得せよ。\n",
    "\n",
    "```"
   ]
  },
  {
   "cell_type": "code",
   "execution_count": null,
   "id": "mathematical-taylor",
   "metadata": {
    "id": "mathematical-taylor"
   },
   "outputs": [],
   "source": [
    "#ここに記述せよ"
   ]
  },
  {
   "cell_type": "markdown",
   "id": "signal-generator",
   "metadata": {
    "id": "signal-generator"
   },
   "source": [
    "### (2)BeautifulSoap - find\n",
    "```python\n",
    "自分の好きなサイトを1つ検索し、そこの利用規約を確認し問題なかった場合にrequestsライブラリのgetメソッドでまずHTMLをクロールせよ。\n",
    "その後BeautifulSoapライブラリの　**find系のメソッド**　を用いて要素を取得せよ。\n",
    "\n",
    "```"
   ]
  },
  {
   "cell_type": "code",
   "execution_count": null,
   "id": "solved-terminology",
   "metadata": {
    "id": "solved-terminology"
   },
   "outputs": [],
   "source": [
    "#ここに記述せよ\n"
   ]
  },
  {
   "cell_type": "markdown",
   "id": "organic-bones",
   "metadata": {
    "id": "organic-bones"
   },
   "source": [
    "### (3) pandas - read_html\n",
    "```python\n",
    "自分の好きなサイトを1つ検索し、そこの利用規約を確認し問題なかった場合にpandasライブラリを用いてHTMLのテーブル群を取得せよ。\n",
    "\n",
    "```"
   ]
  },
  {
   "cell_type": "code",
   "execution_count": null,
   "id": "demonstrated-referral",
   "metadata": {
    "id": "demonstrated-referral"
   },
   "outputs": [],
   "source": [
    "#ここに記述せよ"
   ]
  },
  {
   "cell_type": "markdown",
   "id": "fifth-cholesterol",
   "metadata": {
    "id": "fifth-cholesterol"
   },
   "source": [
    "---\n",
    "# **3.動的なページの対策 Selenium**\n",
    "\n",
    "こちらを参考に行います。あくまでも一例なのでseleniumのメソッドをその都度調べましょう。\n",
    "\n",
    "[図解！PythonでSeleniumを使ったスクレイピングを徹底解説！(インストール・使い方・Chrome)](https://ai-inter1.com/python-selenium/#st-toc-h-4)\n"
   ]
  },
  {
   "cell_type": "code",
   "execution_count": 12,
   "id": "divine-quarterly",
   "metadata": {
    "colab": {
     "base_uri": "https://localhost:8080/"
    },
    "id": "divine-quarterly",
    "outputId": "c63366be-b81b-4d6d-9815-e03610f1256b"
   },
   "outputs": [],
   "source": [
    "### seleniumのインストール(google colab限定のインストール方法)\n",
    "# reference https://enjoy-a-lot.com/google-colaboratory-selenium/#toc1\n",
    "!pip install selenium\n",
    "\n",
    "!apt-get update\n",
    "!apt install chromium-chromedriver\n",
    "!cp /usr/lib/chromium-browser/chromedriver /usr/bin"
   ]
  },
  {
   "cell_type": "code",
   "execution_count": 9,
   "id": "advanced-dover",
   "metadata": {
    "id": "advanced-dover"
   },
   "outputs": [],
   "source": [
    "from selenium import webdriver\n",
    "\n",
    "# ChromeDriver起動\n",
    "def generate_dirver():\n",
    "  options = webdriver.ChromeOptions()\n",
    "  options.add_argument('--headless')\n",
    "  options.add_argument('--no-sandbox')\n",
    "  options.add_argument('--disable-dev-shm-usage')\n",
    "  driver = webdriver.Chrome('chromedriver',options=options)\n",
    "  return driver\n",
    "\n",
    "driver = generate_dirver()"
   ]
  },
  {
   "cell_type": "code",
   "execution_count": 10,
   "id": "southern-moment",
   "metadata": {
    "id": "southern-moment"
   },
   "outputs": [],
   "source": [
    "#googleを検索\n",
    "driver.get('https://www.google.co.jp')"
   ]
  },
  {
   "cell_type": "markdown",
   "id": "Fihy20vI5amr",
   "metadata": {
    "id": "Fihy20vI5amr"
   },
   "source": [
    "Googleの検索画面のキーワードをいれるinputタグの場所をみます。\n",
    "[![Image from Gyazo](https://i.gyazo.com/6e3468a04f22d0d1b332517ebfdd4695.png)](https://gyazo.com/6e3468a04f22d0d1b332517ebfdd4695)"
   ]
  },
  {
   "cell_type": "code",
   "execution_count": 12,
   "id": "Vi3cBTZ2s_2-",
   "metadata": {
    "id": "Vi3cBTZ2s_2-"
   },
   "outputs": [],
   "source": [
    "#inputタグの場所を指定\n",
    "search_bar = driver.find_element_by_name(\"q\")\n",
    "\n",
    "#pythonを記入\n",
    "search_bar.send_keys(\"python\")\n",
    "\n",
    "#pythonのプロパティをもつseleniumのオブジェクトをsumbitメソッドで渡す。\n",
    "search_bar.submit()"
   ]
  },
  {
   "cell_type": "code",
   "execution_count": 13,
   "id": "v6i9jc5qtApv",
   "metadata": {
    "colab": {
     "base_uri": "https://localhost:8080/"
    },
    "id": "v6i9jc5qtApv",
    "outputId": "010865d0-26f9-4f62-e553-948ffb530821"
   },
   "outputs": [],
   "source": [
    "#検証を使いaタグのhref属性を元に取得する\n",
    "for elem_h3 in driver.find_elements_by_xpath('//a/h3'):\n",
    "    elem_a = elem_h3.find_element_by_xpath('..')  \n",
    "    print(elem_h3.text)\n",
    "    print(elem_a.get_attribute('href'))"
   ]
  },
  {
   "cell_type": "markdown",
   "id": "partial-straight",
   "metadata": {
    "id": "partial-straight"
   },
   "source": [
    "# Exercise 03-3 問題"
   ]
  },
  {
   "cell_type": "markdown",
   "id": "sCPTcBZb963j",
   "metadata": {
    "id": "sCPTcBZb963j"
   },
   "source": [
    "### (1) request, BeautifulSoap, selenium\n",
    "```python\n",
    "\n",
    "今までのコードを参考に\n",
    "seleniumを使いgoogle検索で自分の好きな文字列を検索後、\n",
    "検索の1番目のaタグのリンクを取得し、\n",
    "取得したリンクからrequestsタグで情報をクロールして、\n",
    "BeautifulSoapでtitleタグの情報を取得し出力せよ。\n",
    "\n",
    "```"
   ]
  },
  {
   "cell_type": "code",
   "execution_count": null,
   "id": "6HgFQAGuDZGK",
   "metadata": {
    "id": "6HgFQAGuDZGK"
   },
   "outputs": [],
   "source": [
    "#ここに記述せよ\n"
   ]
  },
  {
   "cell_type": "markdown",
   "id": "temporal-balance",
   "metadata": {
    "id": "temporal-balance"
   },
   "source": [
    "---\n",
    "# 次回やることを少し先取り pandas DataFrame型 \n",
    "\n",
    "ここまで、クローリング及びスクレイピングを用いてweb情報の取得を行いました。\n",
    "\n",
    "そこから取得したデータを分析していくのですが、そのデータはpandas DataFrame型に格納され保存するのが一般的です。\n",
    "\n",
    "次回DataFrame型を詳しく解説し簡単なデータ分析を行いますが、今回は簡単な説明とデータの保存方法を紹介します。"
   ]
  },
  {
   "cell_type": "markdown",
   "id": "amazing-rendering",
   "metadata": {
    "id": "amazing-rendering"
   },
   "source": [
    "## pandasとは\n",
    "外部ライブラリでcsv/excel/バイナリデータの読み込み/書き込みを行うライブラリ。\n",
    "\n",
    "データの加工なども行うのでデータクレンジングなどデータを加工する前処理と解析後のデータ保存などで大活躍する。\n",
    "\n",
    "データを扱う際は必須となるであろうライブラリ。"
   ]
  },
  {
   "cell_type": "markdown",
   "id": "pending-courtesy",
   "metadata": {
    "id": "pending-courtesy"
   },
   "source": [
    "### pandasのデータフレームとは\n",
    "データフレームは、数値ベクトルや文字ベクトル、因子ベクトル(文字型ベクトル)などの異なる型のデータをまとめて1 つの変数として持っている型。\n",
    "\n",
    "外見は行列と同じ 2 次元配列であるが、データフレームの各行・列はラベルを必ず持ち,ラベルによる操作が可能である点が普通の行列と異なる。\n",
    "\n",
    "しかも各列の要素の型はバラバラでも構わないので、ベクトルやリストで持っているデータをデータフレームに変換することで統計解析がやりやすくなる。"
   ]
  },
  {
   "cell_type": "code",
   "execution_count": 14,
   "id": "resistant-crisis",
   "metadata": {
    "id": "resistant-crisis",
    "outputId": "8dd6fbba-1d61-478c-c92a-38e17e6a97ac"
   },
   "outputs": [],
   "source": [
    "# pandas をインポートする\n",
    "import pandas as pd\n",
    "\n",
    "#株式投資メモからページ内のTαble群を取得\n",
    "dfs =  pd.read_html(\"https://kabuoji3.com/ranking/?date=2021-03-15&type=1&market=3\")\n",
    "#DataFrame型を複数持つリストを返す\n",
    "fetched_df = dfs[0]\n",
    "print(type(fetched_df))\n",
    "fetched_df"
   ]
  },
  {
   "cell_type": "markdown",
   "id": "molecular-disposal",
   "metadata": {
    "id": "molecular-disposal"
   },
   "source": [
    "### pandas.Series型\n",
    "Series型は一次元のデータフレームです。　DataFrame型の1列(カラム)のデータに相当します。\n",
    "[![Image from Gyazo](https://i.gyazo.com/4928a1fae957841d740b77f51a40e79a.png)](https://gyazo.com/4928a1fae957841d740b77f51a40e79a)"
   ]
  },
  {
   "cell_type": "code",
   "execution_count": 15,
   "id": "phantom-mistress",
   "metadata": {
    "id": "phantom-mistress",
    "outputId": "5e3fa4b5-5edc-4278-f3ba-f1e12cb9aa81"
   },
   "outputs": [],
   "source": [
    "# Series オブジェクトは一次元の配列を扱うときに使用する。\n",
    "# 右側はデータフレームのインデックス( index )で、左が要素( values )となっている。\n",
    "df = pd.Series([0,10,20,30,40,50,60,70,80,90])\n",
    "print(df, type(df))"
   ]
  },
  {
   "cell_type": "code",
   "execution_count": 16,
   "id": "eastern-hebrew",
   "metadata": {
    "id": "eastern-hebrew",
    "outputId": "9b271f7f-d345-4be5-f221-342ee61ca09f"
   },
   "outputs": [],
   "source": [
    "# index は 名づけることが可能で、index と values はそれぞれ別々に取り出し可能\n",
    "df2 = pd.Series([0,10,20,30,40,50,60,70,80,90],index = [\"a\",\"b\",\"c\",\"d\",\"e\",\"f\",\"g\",\"h\",\"i\",\"j\"])\n",
    "print(df2)\n",
    "print(\"-----------\")\n",
    "print(f\"data_frame_02.values : {df2.values}\")\n",
    "print(f\"data_frame_02.index : {df2.index}\")"
   ]
  },
  {
   "cell_type": "markdown",
   "id": "super-intent",
   "metadata": {
    "id": "super-intent"
   },
   "source": [
    "### pandas.DataFrame型\n",
    "DataFrame型は2次元のデータフレームです。　\n",
    "[![Image from Gyazo](https://i.gyazo.com/5521a94a7c3eda774cfdc5afca2c53bb.png)](https://gyazo.com/5521a94a7c3eda774cfdc5afca2c53bb)"
   ]
  },
  {
   "cell_type": "code",
   "execution_count": 17,
   "id": "damaged-healing",
   "metadata": {
    "id": "damaged-healing",
    "outputId": "b02f56b1-f30d-4b38-cc30-114933dc2eb6"
   },
   "outputs": [],
   "source": [
    "# Series オブジェクトが一次元配列であることは理解\n",
    "# 次は二次元配列を扱う DataFrame オブジェクトを見ていく。\n",
    "data_3 = {\"a\":[1,2,3],\n",
    "           \"b\":[4,5,6],\n",
    "           \"c\":[7,8,9]}\n",
    "df3 = pd.DataFrame(data_3)\n",
    "# jupyter では DataFrame 型などは print 関数を用いないほうが見やすくなる。\n",
    "df3\n",
    "\n",
    "# ここで、\"a\" \"b\" \"c\" は列名であり、あくまでも インデックスは 0, 1, 2 となっている。\n",
    "# こちらもインデックスの名前は変更可能"
   ]
  },
  {
   "cell_type": "markdown",
   "id": "prescription-oriental",
   "metadata": {
    "id": "prescription-oriental"
   },
   "source": [
    "### csvデータとして保存\n",
    "今回はcsvデータとして保存を行います。pandasのto_csvメソッドを利用することで保存することができます。"
   ]
  },
  {
   "cell_type": "code",
   "execution_count": null,
   "id": "viral-cycle",
   "metadata": {
    "id": "viral-cycle"
   },
   "outputs": [],
   "source": [
    "#株式投資メモからページ内のTαble群を取得\n",
    "dfs =  pd.read_html(\"https://kabuoji3.com/ranking/?date=2021-03-15&type=1&market=3\")\n",
    "#DataFrame型を複数持つリストを返す\n",
    "fetched_df = dfs[0]\n",
    "fetched_df.to_csv('to_csv_out.csv')"
   ]
  },
  {
   "cell_type": "markdown",
   "id": "architectural-eclipse",
   "metadata": {
    "id": "architectural-eclipse"
   },
   "source": [
    "# Exercise 03-4 問題"
   ]
  },
  {
   "cell_type": "markdown",
   "id": "hollow-terminology",
   "metadata": {
    "id": "hollow-terminology"
   },
   "source": [
    "### 　(1) Series型\n",
    "```python\n",
    "\n",
    " 3 匹の動物を要素とした一次元データフレーム animal を作成せよ\n",
    "\n",
    "```"
   ]
  },
  {
   "cell_type": "code",
   "execution_count": null,
   "id": "prescription-surgeon",
   "metadata": {
    "id": "prescription-surgeon"
   },
   "outputs": [],
   "source": [
    " #ここに記述せよ"
   ]
  },
  {
   "cell_type": "markdown",
   "id": "respiratory-reception",
   "metadata": {
    "id": "respiratory-reception"
   },
   "source": [
    "### 　(２) DataFrame型\n",
    "```python\n",
    "\n",
    " df3 を用いて index の値を適当に書き換えた df3_updated を作成せよ\n",
    "\n",
    "```"
   ]
  },
  {
   "cell_type": "code",
   "execution_count": 18,
   "id": "urban-commission",
   "metadata": {
    "id": "urban-commission",
    "outputId": "36fd9f83-879f-4bcc-af73-4755e0880a56"
   },
   "outputs": [],
   "source": [
    "# Series オブジェクトが一次元配列であることは理解\n",
    "# 次は二次元配列を扱う DataFrame オブジェクトを見ていく。\n",
    "data_3 = {\"a\":[1,2,3],\n",
    "           \"b\":[4,5,6],\n",
    "           \"c\":[7,8,9]}\n",
    "df3 = pd.DataFrame(data_3)\n",
    "df3\n",
    "#ここに記述せよ"
   ]
  },
  {
   "cell_type": "markdown",
   "id": "electoral-allen",
   "metadata": {
    "id": "electoral-allen"
   },
   "source": [
    "### 　(3) to_csvと pandas.read_csv()\n",
    "```python\n",
    "\n",
    "授業でto_csvをし保存したcsvデータを pandas.read_csv()で呼び出せ\n",
    "\n",
    "\n",
    "```\n",
    "**ググってみよう!!**"
   ]
  },
  {
   "cell_type": "code",
   "execution_count": null,
   "id": "expressed-procedure",
   "metadata": {
    "id": "expressed-procedure"
   },
   "outputs": [],
   "source": [
    "#ここに記述せよ"
   ]
  }
 ],
 "metadata": {
  "colab": {
   "name": "KawaseSeminar03-2.ipynb",
   "provenance": []
  },
  "kernelspec": {
   "display_name": "Python 3",
   "language": "python",
   "name": "python3"
  },
  "language_info": {
   "codemirror_mode": {
    "name": "ipython",
    "version": 3
   },
   "file_extension": ".py",
   "mimetype": "text/x-python",
   "name": "python",
   "nbconvert_exporter": "python",
   "pygments_lexer": "ipython3",
   "version": "3.8.8"
  }
 },
 "nbformat": 4,
 "nbformat_minor": 5
}
