{
 "cells": [
  {
   "cell_type": "markdown",
   "id": "actual-caribbean",
   "metadata": {},
   "source": [
    "<p style=\"text-align:center\"><font size=\"10\" >Kawase Seminar 03-2</font></p>"
   ]
  },
  {
   "cell_type": "markdown",
   "id": "distributed-infrastructure",
   "metadata": {},
   "source": [
    "# **スクレイピング入門(実践編)**\n",
    "\n",
    "❇︎今回はテキスト内で完結する問題のみであるため回答はありません。"
   ]
  },
  {
   "cell_type": "markdown",
   "id": "modern-affiliate",
   "metadata": {},
   "source": [
    "# 0.**意識しようスクレイピングのルール**\n",
    "\n",
    "### 1.Webページ上の情報を抜き出して再利用することを利用規約で禁じているサイトもある\n",
    "###   　　 → 必ずWebページ上の情報の著作権や利用規約を確認!!!\n",
    "\n",
    "### 2.スクレイピングは初学者にとってはむしろ危険\n",
    "###    　　→ 一般的にはサイトが提供しているAPIを使おう！\n",
    "\n",
    "### 3.必ずtime.sleepを用いること！ 1秒以上は間隔をあけること\n",
    "### 　　　→ 一歩間違えると犯罪になることを意識(Dos攻撃に間違われる)"
   ]
  },
  {
   "cell_type": "markdown",
   "id": "visible-thailand",
   "metadata": {},
   "source": [
    "---\n",
    "# **1.クローリングの実践**"
   ]
  },
  {
   "cell_type": "markdown",
   "id": "sticky-slovak",
   "metadata": {},
   "source": [
    "✳︎まずはサイトマップなどから利用規約を確認する\n",
    "\n",
    "https://resas.go.jp/policy/#/13/13101"
   ]
  },
  {
   "cell_type": "code",
   "execution_count": 14,
   "id": "sought-metadata",
   "metadata": {
    "collapsed": true
   },
   "outputs": [
    {
     "data": {
      "text/plain": [
       "'<!doctype html>\\n<html lang=\"ja\" class=\"rn\">\\n<head prefix=\"og: http://ogp.me/ns# fb: http://ogp.me/ns/fb# article: http://ogp.me/ns/article# website: http://ogp.me/ns/website#\">\\n  <meta charset=\"UTF-8\">\\n\\t<meta name=\"viewport\" content=\"width=1280\">\\n  <meta name=\"description\" content=\"地域経済分析システム（RESAS：リーサス）は、地方自治体の様々な取り組みを情報面から支援するために、まち・ひと・しごと創生本部事務局が提供する、産業構造や人口動態、人の流れなどの官民ビッグデータを集約し、可視化するシステムです。\">\\n  <title>トップページ - RESAS 地域経済分析システム</title>\\n  <link rel=\"stylesheet\" href=\"./stylesheets/all.css\"/>\\n  <link rel=\"shortcut icon\" href=\"./favicon.ico\"/>\\n\\n  <meta property=\"og:title\" content=\"トップページ - RESAS 地域経済分析システム\" />\\n  <meta property=\"og:type\" content=\"website\" />\\n  <meta property=\"og:url\" content=\"https://resas.go.jp/\" />\\n  <meta property=\"og:image\" content=\"https://resas.go.jp/images/ogp/main.png\" />\\n  <meta property=\"og:site_name\" content=\"RESAS 地域経済分析システム\" />\\n  <meta property=\"og:description\" content=\"地域経済分析システム（RESAS：リーサス）は、地方自治体の様々な取り組みを情報面から支援するために、まち・ひと・しごと創生本部事務局が提供する、産業構造や人口動態、人の流れなどの官民ビッグデータを集約し、可視化するシステムです。\" />\\n\\n  <meta name=\"twitter:card\" content=\"summary_large_image\" />\\n  <meta name=\"twitter:title\" content=\"トップページ - RESAS 地域経済分析システム\" />\\n  <meta name=\"twitter:description\" content=\"地域経済分析システム（RESAS：リーサス）は、地方自治体の様々な取り組みを情報面から支援するために、まち・ひと・しごと創生本部事務局が提供する、産業構造や人口動態、人の流れなどの官民ビッグデータを集約し、可視化するシステムです。\" />\\n  <meta name=\"twitter:image\" content=\"https://resas.go.jp/images/ogp/main.png\" />\\n</head>\\n<body v-on=\"click: click($event)\" class=\"rn\">\\n<div class=\"wrap\">\\n  <main class=\"top\">\\n    <div id=\"error-wrapper\"></div>\\n    <div id=\"alert-wrapper\"></div>\\n    <div id=\"loading-wrapper\"></div>\\n    <div id=\"terminology-wrapper\" class=\"right-menu__popup\"></div>\\n    <div id=\"header-wrapper\"></div>\\n    <div id=\"main-wrapper\"></div>\\n  </main>\\n</div>\\n\\n<script src=\"./javascripts/lib.js\"></script>\\n<script src=\"./javascripts/index.js?date=202011301200\"></script>\\n\\n<!-- User Insight PCDF Code Start :  -->\\n<script type=\"text/javascript\">\\nvar _uic = _uic ||{}; var _uih = _uih ||{};_uih[\\'id\\'] = 55053;\\n_uih[\\'lg_id\\'] = \\'\\';\\n_uih[\\'fb_id\\'] = \\'\\';\\n_uih[\\'tw_id\\'] = \\'\\';\\n_uih[\\'uigr_1\\'] = \\'\\'; _uih[\\'uigr_2\\'] = \\'\\'; _uih[\\'uigr_3\\'] = \\'\\'; _uih[\\'uigr_4\\'] = \\'\\'; _uih[\\'uigr_5\\'] = \\'\\';\\n_uih[\\'uigr_6\\'] = \\'\\'; _uih[\\'uigr_7\\'] = \\'\\'; _uih[\\'uigr_8\\'] = \\'\\'; _uih[\\'uigr_9\\'] = \\'\\'; _uih[\\'uigr_10\\'] = \\'\\';\\n_uic[\\'uls\\'] = 1;\\n\\n/* DO NOT ALTER BELOW THIS LINE */\\n/* WITH FIRST PARTY COOKIE */\\n(function() {\\nvar bi = document.createElement(\\'script\\');bi.type = \\'text/javascript\\'; bi.async = true;\\nbi.src = \\'//cs.nakanohito.jp/b3/bi.js\\';\\nvar s = document.getElementsByTagName(\\'script\\')[0];s.parentNode.insertBefore(bi, s);\\n})();\\n</script>\\n<!-- User Insight PCDF Code End :  -->\\n</body>\\n</html>\\n'"
      ]
     },
     "execution_count": 14,
     "metadata": {},
     "output_type": "execute_result"
    }
   ],
   "source": [
    "import requests as req\n",
    "\n",
    "#getで呼び出している\n",
    "response = req.get(\"https://resas.go.jp/\")\n",
    "response.text"
   ]
  },
  {
   "cell_type": "code",
   "execution_count": 15,
   "id": "defined-grave",
   "metadata": {},
   "outputs": [
    {
     "name": "stdout",
     "output_type": "stream",
     "text": [
      "6秒待ちます。\n",
      "2秒待ちます。\n"
     ]
    }
   ],
   "source": [
    "#<<別の方法 こっちの方がより丁寧に取得>>\n",
    "\n",
    "# 使うものは以下のライブラリ\n",
    "from urllib.request import urlopen\n",
    "from bs4 import BeautifulSoup\n",
    "import time \n",
    "import random\n",
    "\n",
    "# ランダムに待ち時間を発生させる stop 関数\n",
    "def stop():\n",
    "    stop_time = random.randint(1,6)\n",
    "    print(f\"{stop_time}秒待ちます。\")\n",
    "    time.sleep(stop_time)\n",
    "    \n",
    "    \n",
    "# 地域経済分析システム「RESAS」のサイト情報を取得してみよう！\n",
    "# サーバーに負荷がかからないように間隔をあけて行いましょう。\n",
    "\n",
    "# 上で作った乱数待ち時間装置を発動\n",
    "stop()\n",
    "\n",
    "# urlopen(url) で目的のサイトに接続\n",
    "fp = urlopen('https://resas.go.jp/')\n",
    "\n",
    "# 接続したサイトのコード(HTML)を取得\n",
    "html = fp.read()\n",
    "\n",
    "# 上で作った乱数待ち時間装置を発動\n",
    "stop()\n",
    "\n",
    "# 接続を解除\n",
    "fp.close()\n",
    "\n",
    "# unicode を UTF-8 にデコードする\n",
    "decode_html = html.decode(\"UTF-8\")"
   ]
  },
  {
   "cell_type": "code",
   "execution_count": 16,
   "id": "impressed-geology",
   "metadata": {
    "collapsed": true
   },
   "outputs": [
    {
     "name": "stdout",
     "output_type": "stream",
     "text": [
      "b'<!doctype html>\\n<html lang=\"ja\" class=\"rn\">\\n<head prefix=\"og: http://ogp.me/ns# fb: http://ogp.me/ns/fb# article: http://ogp.me/ns/article# website: http://ogp.me/ns/website#\">\\n  <meta charset=\"UTF-8\">\\n\\t<meta name=\"viewport\" content=\"width=1280\">\\n  <meta name=\"description\" content=\"\\xe5\\x9c\\xb0\\xe5\\x9f\\x9f\\xe7\\xb5\\x8c\\xe6\\xb8\\x88\\xe5\\x88\\x86\\xe6\\x9e\\x90\\xe3\\x82\\xb7\\xe3\\x82\\xb9\\xe3\\x83\\x86\\xe3\\x83\\xa0\\xef\\xbc\\x88RESAS\\xef\\xbc\\x9a\\xe3\\x83\\xaa\\xe3\\x83\\xbc\\xe3\\x82\\xb5\\xe3\\x82\\xb9\\xef\\xbc\\x89\\xe3\\x81\\xaf\\xe3\\x80\\x81\\xe5\\x9c\\xb0\\xe6\\x96\\xb9\\xe8\\x87\\xaa\\xe6\\xb2\\xbb\\xe4\\xbd\\x93\\xe3\\x81\\xae\\xe6\\xa7\\x98\\xe3\\x80\\x85\\xe3\\x81\\xaa\\xe5\\x8f\\x96\\xe3\\x82\\x8a\\xe7\\xb5\\x84\\xe3\\x81\\xbf\\xe3\\x82\\x92\\xe6\\x83\\x85\\xe5\\xa0\\xb1\\xe9\\x9d\\xa2\\xe3\\x81\\x8b\\xe3\\x82\\x89\\xe6\\x94\\xaf\\xe6\\x8f\\xb4\\xe3\\x81\\x99\\xe3\\x82\\x8b\\xe3\\x81\\x9f\\xe3\\x82\\x81\\xe3\\x81\\xab\\xe3\\x80\\x81\\xe3\\x81\\xbe\\xe3\\x81\\xa1\\xe3\\x83\\xbb\\xe3\\x81\\xb2\\xe3\\x81\\xa8\\xe3\\x83\\xbb\\xe3\\x81\\x97\\xe3\\x81\\x94\\xe3\\x81\\xa8\\xe5\\x89\\xb5\\xe7\\x94\\x9f\\xe6\\x9c\\xac\\xe9\\x83\\xa8\\xe4\\xba\\x8b\\xe5\\x8b\\x99\\xe5\\xb1\\x80\\xe3\\x81\\x8c\\xe6\\x8f\\x90\\xe4\\xbe\\x9b\\xe3\\x81\\x99\\xe3\\x82\\x8b\\xe3\\x80\\x81\\xe7\\x94\\xa3\\xe6\\xa5\\xad\\xe6\\xa7\\x8b\\xe9\\x80\\xa0\\xe3\\x82\\x84\\xe4\\xba\\xba\\xe5\\x8f\\xa3\\xe5\\x8b\\x95\\xe6\\x85\\x8b\\xe3\\x80\\x81\\xe4\\xba\\xba\\xe3\\x81\\xae\\xe6\\xb5\\x81\\xe3\\x82\\x8c\\xe3\\x81\\xaa\\xe3\\x81\\xa9\\xe3\\x81\\xae\\xe5\\xae\\x98\\xe6\\xb0\\x91\\xe3\\x83\\x93\\xe3\\x83\\x83\\xe3\\x82\\xb0\\xe3\\x83\\x87\\xe3\\x83\\xbc\\xe3\\x82\\xbf\\xe3\\x82\\x92\\xe9\\x9b\\x86\\xe7\\xb4\\x84\\xe3\\x81\\x97\\xe3\\x80\\x81\\xe5\\x8f\\xaf\\xe8\\xa6\\x96\\xe5\\x8c\\x96\\xe3\\x81\\x99\\xe3\\x82\\x8b\\xe3\\x82\\xb7\\xe3\\x82\\xb9\\xe3\\x83\\x86\\xe3\\x83\\xa0\\xe3\\x81\\xa7\\xe3\\x81\\x99\\xe3\\x80\\x82\">\\n  <title>\\xe3\\x83\\x88\\xe3\\x83\\x83\\xe3\\x83\\x97\\xe3\\x83\\x9a\\xe3\\x83\\xbc\\xe3\\x82\\xb8 - RESAS \\xe5\\x9c\\xb0\\xe5\\x9f\\x9f\\xe7\\xb5\\x8c\\xe6\\xb8\\x88\\xe5\\x88\\x86\\xe6\\x9e\\x90\\xe3\\x82\\xb7\\xe3\\x82\\xb9\\xe3\\x83\\x86\\xe3\\x83\\xa0</title>\\n  <link rel=\"stylesheet\" href=\"./stylesheets/all.css\"/>\\n  <link rel=\"shortcut icon\" href=\"./favicon.ico\"/>\\n\\n  <meta property=\"og:title\" content=\"\\xe3\\x83\\x88\\xe3\\x83\\x83\\xe3\\x83\\x97\\xe3\\x83\\x9a\\xe3\\x83\\xbc\\xe3\\x82\\xb8 - RESAS \\xe5\\x9c\\xb0\\xe5\\x9f\\x9f\\xe7\\xb5\\x8c\\xe6\\xb8\\x88\\xe5\\x88\\x86\\xe6\\x9e\\x90\\xe3\\x82\\xb7\\xe3\\x82\\xb9\\xe3\\x83\\x86\\xe3\\x83\\xa0\" />\\n  <meta property=\"og:type\" content=\"website\" />\\n  <meta property=\"og:url\" content=\"https://resas.go.jp/\" />\\n  <meta property=\"og:image\" content=\"https://resas.go.jp/images/ogp/main.png\" />\\n  <meta property=\"og:site_name\" content=\"RESAS \\xe5\\x9c\\xb0\\xe5\\x9f\\x9f\\xe7\\xb5\\x8c\\xe6\\xb8\\x88\\xe5\\x88\\x86\\xe6\\x9e\\x90\\xe3\\x82\\xb7\\xe3\\x82\\xb9\\xe3\\x83\\x86\\xe3\\x83\\xa0\" />\\n  <meta property=\"og:description\" content=\"\\xe5\\x9c\\xb0\\xe5\\x9f\\x9f\\xe7\\xb5\\x8c\\xe6\\xb8\\x88\\xe5\\x88\\x86\\xe6\\x9e\\x90\\xe3\\x82\\xb7\\xe3\\x82\\xb9\\xe3\\x83\\x86\\xe3\\x83\\xa0\\xef\\xbc\\x88RESAS\\xef\\xbc\\x9a\\xe3\\x83\\xaa\\xe3\\x83\\xbc\\xe3\\x82\\xb5\\xe3\\x82\\xb9\\xef\\xbc\\x89\\xe3\\x81\\xaf\\xe3\\x80\\x81\\xe5\\x9c\\xb0\\xe6\\x96\\xb9\\xe8\\x87\\xaa\\xe6\\xb2\\xbb\\xe4\\xbd\\x93\\xe3\\x81\\xae\\xe6\\xa7\\x98\\xe3\\x80\\x85\\xe3\\x81\\xaa\\xe5\\x8f\\x96\\xe3\\x82\\x8a\\xe7\\xb5\\x84\\xe3\\x81\\xbf\\xe3\\x82\\x92\\xe6\\x83\\x85\\xe5\\xa0\\xb1\\xe9\\x9d\\xa2\\xe3\\x81\\x8b\\xe3\\x82\\x89\\xe6\\x94\\xaf\\xe6\\x8f\\xb4\\xe3\\x81\\x99\\xe3\\x82\\x8b\\xe3\\x81\\x9f\\xe3\\x82\\x81\\xe3\\x81\\xab\\xe3\\x80\\x81\\xe3\\x81\\xbe\\xe3\\x81\\xa1\\xe3\\x83\\xbb\\xe3\\x81\\xb2\\xe3\\x81\\xa8\\xe3\\x83\\xbb\\xe3\\x81\\x97\\xe3\\x81\\x94\\xe3\\x81\\xa8\\xe5\\x89\\xb5\\xe7\\x94\\x9f\\xe6\\x9c\\xac\\xe9\\x83\\xa8\\xe4\\xba\\x8b\\xe5\\x8b\\x99\\xe5\\xb1\\x80\\xe3\\x81\\x8c\\xe6\\x8f\\x90\\xe4\\xbe\\x9b\\xe3\\x81\\x99\\xe3\\x82\\x8b\\xe3\\x80\\x81\\xe7\\x94\\xa3\\xe6\\xa5\\xad\\xe6\\xa7\\x8b\\xe9\\x80\\xa0\\xe3\\x82\\x84\\xe4\\xba\\xba\\xe5\\x8f\\xa3\\xe5\\x8b\\x95\\xe6\\x85\\x8b\\xe3\\x80\\x81\\xe4\\xba\\xba\\xe3\\x81\\xae\\xe6\\xb5\\x81\\xe3\\x82\\x8c\\xe3\\x81\\xaa\\xe3\\x81\\xa9\\xe3\\x81\\xae\\xe5\\xae\\x98\\xe6\\xb0\\x91\\xe3\\x83\\x93\\xe3\\x83\\x83\\xe3\\x82\\xb0\\xe3\\x83\\x87\\xe3\\x83\\xbc\\xe3\\x82\\xbf\\xe3\\x82\\x92\\xe9\\x9b\\x86\\xe7\\xb4\\x84\\xe3\\x81\\x97\\xe3\\x80\\x81\\xe5\\x8f\\xaf\\xe8\\xa6\\x96\\xe5\\x8c\\x96\\xe3\\x81\\x99\\xe3\\x82\\x8b\\xe3\\x82\\xb7\\xe3\\x82\\xb9\\xe3\\x83\\x86\\xe3\\x83\\xa0\\xe3\\x81\\xa7\\xe3\\x81\\x99\\xe3\\x80\\x82\" />\\n\\n  <meta name=\"twitter:card\" content=\"summary_large_image\" />\\n  <meta name=\"twitter:title\" content=\"\\xe3\\x83\\x88\\xe3\\x83\\x83\\xe3\\x83\\x97\\xe3\\x83\\x9a\\xe3\\x83\\xbc\\xe3\\x82\\xb8 - RESAS \\xe5\\x9c\\xb0\\xe5\\x9f\\x9f\\xe7\\xb5\\x8c\\xe6\\xb8\\x88\\xe5\\x88\\x86\\xe6\\x9e\\x90\\xe3\\x82\\xb7\\xe3\\x82\\xb9\\xe3\\x83\\x86\\xe3\\x83\\xa0\" />\\n  <meta name=\"twitter:description\" content=\"\\xe5\\x9c\\xb0\\xe5\\x9f\\x9f\\xe7\\xb5\\x8c\\xe6\\xb8\\x88\\xe5\\x88\\x86\\xe6\\x9e\\x90\\xe3\\x82\\xb7\\xe3\\x82\\xb9\\xe3\\x83\\x86\\xe3\\x83\\xa0\\xef\\xbc\\x88RESAS\\xef\\xbc\\x9a\\xe3\\x83\\xaa\\xe3\\x83\\xbc\\xe3\\x82\\xb5\\xe3\\x82\\xb9\\xef\\xbc\\x89\\xe3\\x81\\xaf\\xe3\\x80\\x81\\xe5\\x9c\\xb0\\xe6\\x96\\xb9\\xe8\\x87\\xaa\\xe6\\xb2\\xbb\\xe4\\xbd\\x93\\xe3\\x81\\xae\\xe6\\xa7\\x98\\xe3\\x80\\x85\\xe3\\x81\\xaa\\xe5\\x8f\\x96\\xe3\\x82\\x8a\\xe7\\xb5\\x84\\xe3\\x81\\xbf\\xe3\\x82\\x92\\xe6\\x83\\x85\\xe5\\xa0\\xb1\\xe9\\x9d\\xa2\\xe3\\x81\\x8b\\xe3\\x82\\x89\\xe6\\x94\\xaf\\xe6\\x8f\\xb4\\xe3\\x81\\x99\\xe3\\x82\\x8b\\xe3\\x81\\x9f\\xe3\\x82\\x81\\xe3\\x81\\xab\\xe3\\x80\\x81\\xe3\\x81\\xbe\\xe3\\x81\\xa1\\xe3\\x83\\xbb\\xe3\\x81\\xb2\\xe3\\x81\\xa8\\xe3\\x83\\xbb\\xe3\\x81\\x97\\xe3\\x81\\x94\\xe3\\x81\\xa8\\xe5\\x89\\xb5\\xe7\\x94\\x9f\\xe6\\x9c\\xac\\xe9\\x83\\xa8\\xe4\\xba\\x8b\\xe5\\x8b\\x99\\xe5\\xb1\\x80\\xe3\\x81\\x8c\\xe6\\x8f\\x90\\xe4\\xbe\\x9b\\xe3\\x81\\x99\\xe3\\x82\\x8b\\xe3\\x80\\x81\\xe7\\x94\\xa3\\xe6\\xa5\\xad\\xe6\\xa7\\x8b\\xe9\\x80\\xa0\\xe3\\x82\\x84\\xe4\\xba\\xba\\xe5\\x8f\\xa3\\xe5\\x8b\\x95\\xe6\\x85\\x8b\\xe3\\x80\\x81\\xe4\\xba\\xba\\xe3\\x81\\xae\\xe6\\xb5\\x81\\xe3\\x82\\x8c\\xe3\\x81\\xaa\\xe3\\x81\\xa9\\xe3\\x81\\xae\\xe5\\xae\\x98\\xe6\\xb0\\x91\\xe3\\x83\\x93\\xe3\\x83\\x83\\xe3\\x82\\xb0\\xe3\\x83\\x87\\xe3\\x83\\xbc\\xe3\\x82\\xbf\\xe3\\x82\\x92\\xe9\\x9b\\x86\\xe7\\xb4\\x84\\xe3\\x81\\x97\\xe3\\x80\\x81\\xe5\\x8f\\xaf\\xe8\\xa6\\x96\\xe5\\x8c\\x96\\xe3\\x81\\x99\\xe3\\x82\\x8b\\xe3\\x82\\xb7\\xe3\\x82\\xb9\\xe3\\x83\\x86\\xe3\\x83\\xa0\\xe3\\x81\\xa7\\xe3\\x81\\x99\\xe3\\x80\\x82\" />\\n  <meta name=\"twitter:image\" content=\"https://resas.go.jp/images/ogp/main.png\" />\\n</head>\\n<body v-on=\"click: click($event)\" class=\"rn\">\\n<div class=\"wrap\">\\n  <main class=\"top\">\\n    <div id=\"error-wrapper\"></div>\\n    <div id=\"alert-wrapper\"></div>\\n    <div id=\"loading-wrapper\"></div>\\n    <div id=\"terminology-wrapper\" class=\"right-menu__popup\"></div>\\n    <div id=\"header-wrapper\"></div>\\n    <div id=\"main-wrapper\"></div>\\n  </main>\\n</div>\\n\\n<script src=\"./javascripts/lib.js\"></script>\\n<script src=\"./javascripts/index.js?date=202011301200\"></script>\\n\\n<!-- User Insight PCDF Code Start :  -->\\n<script type=\"text/javascript\">\\nvar _uic = _uic ||{}; var _uih = _uih ||{};_uih[\\'id\\'] = 55053;\\n_uih[\\'lg_id\\'] = \\'\\';\\n_uih[\\'fb_id\\'] = \\'\\';\\n_uih[\\'tw_id\\'] = \\'\\';\\n_uih[\\'uigr_1\\'] = \\'\\'; _uih[\\'uigr_2\\'] = \\'\\'; _uih[\\'uigr_3\\'] = \\'\\'; _uih[\\'uigr_4\\'] = \\'\\'; _uih[\\'uigr_5\\'] = \\'\\';\\n_uih[\\'uigr_6\\'] = \\'\\'; _uih[\\'uigr_7\\'] = \\'\\'; _uih[\\'uigr_8\\'] = \\'\\'; _uih[\\'uigr_9\\'] = \\'\\'; _uih[\\'uigr_10\\'] = \\'\\';\\n_uic[\\'uls\\'] = 1;\\n\\n/* DO NOT ALTER BELOW THIS LINE */\\n/* WITH FIRST PARTY COOKIE */\\n(function() {\\nvar bi = document.createElement(\\'script\\');bi.type = \\'text/javascript\\'; bi.async = true;\\nbi.src = \\'//cs.nakanohito.jp/b3/bi.js\\';\\nvar s = document.getElementsByTagName(\\'script\\')[0];s.parentNode.insertBefore(bi, s);\\n})();\\n</script>\\n<!-- User Insight PCDF Code End :  -->\\n</body>\\n</html>\\n'\n"
     ]
    }
   ],
   "source": [
    "# 一番最初に取得した html \n",
    "print(html)"
   ]
  },
  {
   "cell_type": "code",
   "execution_count": 17,
   "id": "cognitive-healthcare",
   "metadata": {
    "collapsed": true
   },
   "outputs": [
    {
     "name": "stdout",
     "output_type": "stream",
     "text": [
      "<!doctype html>\n",
      "<html lang=\"ja\" class=\"rn\">\n",
      "<head prefix=\"og: http://ogp.me/ns# fb: http://ogp.me/ns/fb# article: http://ogp.me/ns/article# website: http://ogp.me/ns/website#\">\n",
      "  <meta charset=\"UTF-8\">\n",
      "\t<meta name=\"viewport\" content=\"width=1280\">\n",
      "  <meta name=\"description\" content=\"地域経済分析システム（RESAS：リーサス）は、地方自治体の様々な取り組みを情報面から支援するために、まち・ひと・しごと創生本部事務局が提供する、産業構造や人口動態、人の流れなどの官民ビッグデータを集約し、可視化するシステムです。\">\n",
      "  <title>トップページ - RESAS 地域経済分析システム</title>\n",
      "  <link rel=\"stylesheet\" href=\"./stylesheets/all.css\"/>\n",
      "  <link rel=\"shortcut icon\" href=\"./favicon.ico\"/>\n",
      "\n",
      "  <meta property=\"og:title\" content=\"トップページ - RESAS 地域経済分析システム\" />\n",
      "  <meta property=\"og:type\" content=\"website\" />\n",
      "  <meta property=\"og:url\" content=\"https://resas.go.jp/\" />\n",
      "  <meta property=\"og:image\" content=\"https://resas.go.jp/images/ogp/main.png\" />\n",
      "  <meta property=\"og:site_name\" content=\"RESAS 地域経済分析システム\" />\n",
      "  <meta property=\"og:description\" content=\"地域経済分析システム（RESAS：リーサス）は、地方自治体の様々な取り組みを情報面から支援するために、まち・ひと・しごと創生本部事務局が提供する、産業構造や人口動態、人の流れなどの官民ビッグデータを集約し、可視化するシステムです。\" />\n",
      "\n",
      "  <meta name=\"twitter:card\" content=\"summary_large_image\" />\n",
      "  <meta name=\"twitter:title\" content=\"トップページ - RESAS 地域経済分析システム\" />\n",
      "  <meta name=\"twitter:description\" content=\"地域経済分析システム（RESAS：リーサス）は、地方自治体の様々な取り組みを情報面から支援するために、まち・ひと・しごと創生本部事務局が提供する、産業構造や人口動態、人の流れなどの官民ビッグデータを集約し、可視化するシステムです。\" />\n",
      "  <meta name=\"twitter:image\" content=\"https://resas.go.jp/images/ogp/main.png\" />\n",
      "</head>\n",
      "<body v-on=\"click: click($event)\" class=\"rn\">\n",
      "<div class=\"wrap\">\n",
      "  <main class=\"top\">\n",
      "    <div id=\"error-wrapper\"></div>\n",
      "    <div id=\"alert-wrapper\"></div>\n",
      "    <div id=\"loading-wrapper\"></div>\n",
      "    <div id=\"terminology-wrapper\" class=\"right-menu__popup\"></div>\n",
      "    <div id=\"header-wrapper\"></div>\n",
      "    <div id=\"main-wrapper\"></div>\n",
      "  </main>\n",
      "</div>\n",
      "\n",
      "<script src=\"./javascripts/lib.js\"></script>\n",
      "<script src=\"./javascripts/index.js?date=202011301200\"></script>\n",
      "\n",
      "<!-- User Insight PCDF Code Start :  -->\n",
      "<script type=\"text/javascript\">\n",
      "var _uic = _uic ||{}; var _uih = _uih ||{};_uih['id'] = 55053;\n",
      "_uih['lg_id'] = '';\n",
      "_uih['fb_id'] = '';\n",
      "_uih['tw_id'] = '';\n",
      "_uih['uigr_1'] = ''; _uih['uigr_2'] = ''; _uih['uigr_3'] = ''; _uih['uigr_4'] = ''; _uih['uigr_5'] = '';\n",
      "_uih['uigr_6'] = ''; _uih['uigr_7'] = ''; _uih['uigr_8'] = ''; _uih['uigr_9'] = ''; _uih['uigr_10'] = '';\n",
      "_uic['uls'] = 1;\n",
      "\n",
      "/* DO NOT ALTER BELOW THIS LINE */\n",
      "/* WITH FIRST PARTY COOKIE */\n",
      "(function() {\n",
      "var bi = document.createElement('script');bi.type = 'text/javascript'; bi.async = true;\n",
      "bi.src = '//cs.nakanohito.jp/b3/bi.js';\n",
      "var s = document.getElementsByTagName('script')[0];s.parentNode.insertBefore(bi, s);\n",
      "})();\n",
      "</script>\n",
      "<!-- User Insight PCDF Code End :  -->\n",
      "</body>\n",
      "</html>\n",
      "\n"
     ]
    }
   ],
   "source": [
    "# 次にデコードした decode_html \n",
    "print(decode_html)"
   ]
  },
  {
   "cell_type": "markdown",
   "id": "exclusive-assistant",
   "metadata": {},
   "source": [
    "# Exercise 03-1 問題"
   ]
  },
  {
   "cell_type": "markdown",
   "id": "variable-crowd",
   "metadata": {},
   "source": [
    "### (1)利用規約の確認\n",
    "\n",
    "```python\n",
    "自分の好きなサイトを1つ検索し、そこの利用規約を確認せよ。\n",
    "\n",
    "```"
   ]
  },
  {
   "cell_type": "code",
   "execution_count": null,
   "id": "statutory-pendant",
   "metadata": {},
   "outputs": [],
   "source": [
    "#ここに利用規約でスクレイピングが可能かどうか確認せよ。"
   ]
  },
  {
   "cell_type": "markdown",
   "id": "dynamic-insurance",
   "metadata": {},
   "source": [
    "### (2)htmlの取得（クロール）\n",
    "\n",
    "```python\n",
    "(1)で利用規約的に問題なかった場合、サイトをrequestsライブラリを利用してHTML取得しprintで出力せよ。\n",
    "\n",
    "\n",
    "```"
   ]
  },
  {
   "cell_type": "code",
   "execution_count": null,
   "id": "precious-cloud",
   "metadata": {},
   "outputs": [],
   "source": [
    "#ここに記述せよ。"
   ]
  },
  {
   "cell_type": "markdown",
   "id": "employed-carroll",
   "metadata": {},
   "source": [
    "---\n",
    "# **2.スクレイピングの実践**\n",
    "\n"
   ]
  },
  {
   "cell_type": "markdown",
   "id": "ongoing-morning",
   "metadata": {},
   "source": [
    "## 2.1BeautifulSoap"
   ]
  },
  {
   "cell_type": "markdown",
   "id": "developmental-banks",
   "metadata": {},
   "source": [
    "[![Image from Gyazo](https://i.gyazo.com/ee6764709cf4709c6da10340816b0fba.png)](https://gyazo.com/ee6764709cf4709c6da10340816b0fba)\n",
    "\n",
    "引用:[AI-interのPython3入門 「図解！Python BeautifulSoupの使い方を徹底解説！(select、find、find_all、インストール、スクレイピングなど)」](https://ai-inter1.com/beautifulsoup_1/)"
   ]
  },
  {
   "cell_type": "markdown",
   "id": "extra-discretion",
   "metadata": {},
   "source": [
    "\n",
    "BeautifulSoapインスタンスを呼び出す際に第2引数入れるものの正体は以下のフォーマットになります。\n",
    "\n",
    "[![Image from Gyazo](https://i.gyazo.com/17d382b3cfc46ce8748d19104211b4d7.png)](https://gyazo.com/17d382b3cfc46ce8748d19104211b4d7)\n",
    "\n",
    "\n",
    "引用:[AI-interのPython3入門 「図解！Python BeautifulSoupの使い方を徹底解説！(select、find、find_all、インストール、スクレイピングなど)」](https://ai-inter1.com/beautifulsoup_1/)"
   ]
  },
  {
   "cell_type": "code",
   "execution_count": 20,
   "id": "excess-horizon",
   "metadata": {},
   "outputs": [
    {
     "name": "stdout",
     "output_type": "stream",
     "text": [
      "Requirement already satisfied: bs4 in /opt/conda/lib/python3.8/site-packages (0.0.1)\n",
      "Requirement already satisfied: lxml in /opt/conda/lib/python3.8/site-packages (4.6.2)\n",
      "Requirement already satisfied: beautifulsoup4 in /opt/conda/lib/python3.8/site-packages (from bs4) (4.9.3)\n",
      "Requirement already satisfied: soupsieve>1.2 in /opt/conda/lib/python3.8/site-packages (from beautifulsoup4->bs4) (2.0.1)\n"
     ]
    }
   ],
   "source": [
    "# Beautifulsoupと lxmlのインストール\n",
    "!pip install bs4 lxml"
   ]
  },
  {
   "cell_type": "code",
   "execution_count": 1,
   "id": "attractive-warner",
   "metadata": {
    "scrolled": true
   },
   "outputs": [],
   "source": [
    "#クロールするためにHTTPライブラリ であるrequestsを利用\n",
    "import requests as req\n",
    "from bs4 import BeautifulSoup\n",
    "\n",
    "#getで呼び出している\n",
    "response = req.get(\"https://resas.go.jp/\")\n",
    "\n",
    "#BeautifulSoupインスタンスを生成\n",
    "soup = BeautifulSoup(response.content, \"lxml\")"
   ]
  },
  {
   "cell_type": "markdown",
   "id": "funny-tiger",
   "metadata": {},
   "source": [
    "### findメソッド(HTMLタグによる抽出)"
   ]
  },
  {
   "cell_type": "code",
   "execution_count": 2,
   "id": "labeled-trust",
   "metadata": {},
   "outputs": [
    {
     "name": "stdout",
     "output_type": "stream",
     "text": [
      "<title>トップページ - RESAS 地域経済分析システム</title>\n",
      "<meta charset=\"utf-8\"/>\n"
     ]
    }
   ],
   "source": [
    "# .find(\"要素名\") で目的の要素のみ(複数ある場合は一つのみ)を抽出\n",
    "print(soup.find(\"title\"))\n",
    "print(soup.find(\"meta\"))"
   ]
  },
  {
   "cell_type": "code",
   "execution_count": 25,
   "id": "lined-saturn",
   "metadata": {},
   "outputs": [
    {
     "name": "stdout",
     "output_type": "stream",
     "text": [
      "[<meta charset=\"utf-8\"/>, <meta content=\"width=1280\" name=\"viewport\"/>, <meta content=\"地域経済分析システム（RESAS：リーサス）は、地方自治体の様々な取り組みを情報面から支援するために、まち・ひと・しごと創生本部事務局が提供する、産業構造や人口動態、人の流れなどの官民ビッグデータを集約し、可視化するシステムです。\" name=\"description\"/>, <meta content=\"トップページ - RESAS 地域経済分析システム\" property=\"og:title\"/>, <meta content=\"website\" property=\"og:type\"/>, <meta content=\"https://resas.go.jp/\" property=\"og:url\"/>, <meta content=\"https://resas.go.jp/images/ogp/main.png\" property=\"og:image\"/>, <meta content=\"RESAS 地域経済分析システム\" property=\"og:site_name\"/>, <meta content=\"地域経済分析システム（RESAS：リーサス）は、地方自治体の様々な取り組みを情報面から支援するために、まち・ひと・しごと創生本部事務局が提供する、産業構造や人口動態、人の流れなどの官民ビッグデータを集約し、可視化するシステムです。\" property=\"og:description\"/>, <meta content=\"summary_large_image\" name=\"twitter:card\"/>, <meta content=\"トップページ - RESAS 地域経済分析システム\" name=\"twitter:title\"/>, <meta content=\"地域経済分析システム（RESAS：リーサス）は、地方自治体の様々な取り組みを情報面から支援するために、まち・ひと・しごと創生本部事務局が提供する、産業構造や人口動態、人の流れなどの官民ビッグデータを集約し、可視化するシステムです。\" name=\"twitter:description\"/>, <meta content=\"https://resas.go.jp/images/ogp/main.png\" name=\"twitter:image\"/>]\n"
     ]
    }
   ],
   "source": [
    "# .find_all(\"要素名\") で目的の要素のみ(複数ある場合は一つのみ)を抽出\n",
    "print(soup.find_all(\"meta\"))"
   ]
  },
  {
   "cell_type": "markdown",
   "id": "paperback-movie",
   "metadata": {},
   "source": [
    "### selectメソッド(CSSセレクタによる抽出)"
   ]
  },
  {
   "cell_type": "code",
   "execution_count": 26,
   "id": "innocent-popularity",
   "metadata": {},
   "outputs": [
    {
     "name": "stdout",
     "output_type": "stream",
     "text": [
      "<title>トップページ - RESAS 地域経済分析システム</title>\n",
      "<meta charset=\"utf-8\"/>\n"
     ]
    }
   ],
   "source": [
    "# .select_one(\"要素名\") で目的の要素のみ(複数ある場合は一つのみ)を抽出\n",
    "print(soup.select_one(\"title\"))\n",
    "print(soup.select_one(\"meta\"))"
   ]
  },
  {
   "cell_type": "code",
   "execution_count": 28,
   "id": "clear-aggregate",
   "metadata": {},
   "outputs": [
    {
     "name": "stdout",
     "output_type": "stream",
     "text": [
      "[<meta charset=\"utf-8\"/>, <meta content=\"width=1280\" name=\"viewport\"/>, <meta content=\"地域経済分析システム（RESAS：リーサス）は、地方自治体の様々な取り組みを情報面から支援するために、まち・ひと・しごと創生本部事務局が提供する、産業構造や人口動態、人の流れなどの官民ビッグデータを集約し、可視化するシステムです。\" name=\"description\"/>, <meta content=\"トップページ - RESAS 地域経済分析システム\" property=\"og:title\"/>, <meta content=\"website\" property=\"og:type\"/>, <meta content=\"https://resas.go.jp/\" property=\"og:url\"/>, <meta content=\"https://resas.go.jp/images/ogp/main.png\" property=\"og:image\"/>, <meta content=\"RESAS 地域経済分析システム\" property=\"og:site_name\"/>, <meta content=\"地域経済分析システム（RESAS：リーサス）は、地方自治体の様々な取り組みを情報面から支援するために、まち・ひと・しごと創生本部事務局が提供する、産業構造や人口動態、人の流れなどの官民ビッグデータを集約し、可視化するシステムです。\" property=\"og:description\"/>, <meta content=\"summary_large_image\" name=\"twitter:card\"/>, <meta content=\"トップページ - RESAS 地域経済分析システム\" name=\"twitter:title\"/>, <meta content=\"地域経済分析システム（RESAS：リーサス）は、地方自治体の様々な取り組みを情報面から支援するために、まち・ひと・しごと創生本部事務局が提供する、産業構造や人口動態、人の流れなどの官民ビッグデータを集約し、可視化するシステムです。\" name=\"twitter:description\"/>, <meta content=\"https://resas.go.jp/images/ogp/main.png\" name=\"twitter:image\"/>]\n"
     ]
    }
   ],
   "source": [
    "# select(\"要素名\") で目的の要素のみ(複数ある場合は一つのみ)を抽出\n",
    "print(soup.select(\"meta\"))"
   ]
  },
  {
   "attachments": {},
   "cell_type": "markdown",
   "id": "swedish-inclusion",
   "metadata": {},
   "source": [
    "## スクレイピングで要素抽出が上手くなるコツ(より複雑な指定)\n",
    "\n",
    "スクレイピングで要素抽出をする方法は主に3つのステップがあります。\n",
    "\n",
    "\n",
    "### 1. デベロッパーツールで要素をクリック (お好きのwebサイトにてfn + \"f12\"を実行し開く)\n",
    "\n",
    "[![Image from Gyazo](https://i.gyazo.com/e52293bac0e5db4ec8524b5d244ed463.png)](https://gyazo.com/e52293bac0e5db4ec8524b5d244ed463)\n",
    "\n",
    "\n",
    "### 2. HTMLを見て、特定に必要な要素を確認\n",
    "[![Image from Gyazo](https://i.gyazo.com/d5381e62af9b2111ce18001e176b91ab.png)](https://gyazo.com/d5381e62af9b2111ce18001e176b91ab)"
   ]
  },
  {
   "cell_type": "markdown",
   "id": "lined-above",
   "metadata": {},
   "source": [
    "### 3.(cssセレクタ利用の場合)セレクタをコピーをする\n",
    "[![Image from Gyazo](https://i.gyazo.com/99878e86c2f5738e18546105144e4060.png)](https://gyazo.com/99878e86c2f5738e18546105144e4060)\n",
    "\n",
    "### 4.コピーを元にコードをかく - 下記参照"
   ]
  },
  {
   "cell_type": "code",
   "execution_count": 5,
   "id": "rough-month",
   "metadata": {},
   "outputs": [
    {
     "data": {
      "text/plain": [
       "[<span class=\"k-v\">東京五輪パラ、海外客受け入れ断念決定　5者協議で </span>]"
      ]
     },
     "execution_count": 5,
     "metadata": {},
     "output_type": "execute_result"
    }
   ],
   "source": [
    "#<<今回コピーしたもの>>\n",
    "# body > main > div.k-hub-body > div.k-layout__container > div > div > kite-headline > div:nth-child(1) > div > div.k-hub-card.k-hub-card--no-ellipsis > div > a > span\n",
    "\n",
    "response = req.get(\"https://www.nikkei.com/\")\n",
    "soup = BeautifulSoup(response.content, \"lxml\")\n",
    "\n",
    "# :nth-child　は唯一サポートされていないためnth-of-typeに変更してコードを実装\n",
    "elems = soup.select('body > main > div.k-hub-body > div.k-layout__container > div > div > kite-headline > div:nth-of-type(1) > div > div.k-hub-card.k-hub-card--no-ellipsis > div > a > span')  \n",
    "elems\n"
   ]
  },
  {
   "cell_type": "markdown",
   "id": "closing-project",
   "metadata": {},
   "source": [
    "selectとfindどちらにもいえることとしては、基本的にデベロッパーツールを使い要素を特定してコードをかくことが効率的ということです！！\n",
    "\n",
    "より使いこなしたい方は下のサイトがオススメです\n",
    "\n",
    "[図解！Python BeautifulSoupの使い方を徹底解説！(select、find、find_all、インストール、スクレイピングなど)](https://ai-inter1.com/beautifulsoup_1/)"
   ]
  },
  {
   "cell_type": "markdown",
   "id": "agricultural-waters",
   "metadata": {},
   "source": [
    "### **スクレイピングで表の取得をしたい場合: pandasの利用**"
   ]
  },
  {
   "cell_type": "code",
   "execution_count": 8,
   "id": "complicated-folder",
   "metadata": {
    "collapsed": true
   },
   "outputs": [
    {
     "data": {
      "text/html": [
       "<div>\n",
       "<style scoped>\n",
       "    .dataframe tbody tr th:only-of-type {\n",
       "        vertical-align: middle;\n",
       "    }\n",
       "\n",
       "    .dataframe tbody tr th {\n",
       "        vertical-align: top;\n",
       "    }\n",
       "\n",
       "    .dataframe thead th {\n",
       "        text-align: right;\n",
       "    }\n",
       "</style>\n",
       "<table border=\"1\" class=\"dataframe\">\n",
       "  <thead>\n",
       "    <tr style=\"text-align: right;\">\n",
       "      <th></th>\n",
       "      <th>No</th>\n",
       "      <th>コード・名称</th>\n",
       "      <th>市場</th>\n",
       "      <th>終値</th>\n",
       "      <th>前日比</th>\n",
       "      <th>前日比.1</th>\n",
       "      <th>出来高</th>\n",
       "    </tr>\n",
       "  </thead>\n",
       "  <tbody>\n",
       "    <tr>\n",
       "      <th>0</th>\n",
       "      <td>1</td>\n",
       "      <td>4512　わかもと製薬(株)</td>\n",
       "      <td>東証1部</td>\n",
       "      <td>314</td>\n",
       "      <td>25.60</td>\n",
       "      <td>64</td>\n",
       "      <td>15622000</td>\n",
       "    </tr>\n",
       "    <tr>\n",
       "      <th>1</th>\n",
       "      <td>2</td>\n",
       "      <td>4755　楽天(株)</td>\n",
       "      <td>東証1部</td>\n",
       "      <td>1545</td>\n",
       "      <td>24.10</td>\n",
       "      <td>300</td>\n",
       "      <td>124227900</td>\n",
       "    </tr>\n",
       "    <tr>\n",
       "      <th>2</th>\n",
       "      <td>3</td>\n",
       "      <td>5476　日本高周波鋼業(株)</td>\n",
       "      <td>東証1部</td>\n",
       "      <td>461</td>\n",
       "      <td>21.00</td>\n",
       "      <td>80</td>\n",
       "      <td>1076800</td>\n",
       "    </tr>\n",
       "    <tr>\n",
       "      <th>3</th>\n",
       "      <td>4</td>\n",
       "      <td>3467　アグレ都市デザイン(株)</td>\n",
       "      <td>東証1部</td>\n",
       "      <td>1067</td>\n",
       "      <td>16.36</td>\n",
       "      <td>150</td>\n",
       "      <td>25500</td>\n",
       "    </tr>\n",
       "    <tr>\n",
       "      <th>4</th>\n",
       "      <td>5</td>\n",
       "      <td>3662　(株)エイチーム</td>\n",
       "      <td>東証1部</td>\n",
       "      <td>1651</td>\n",
       "      <td>15.37</td>\n",
       "      <td>220</td>\n",
       "      <td>2161700</td>\n",
       "    </tr>\n",
       "    <tr>\n",
       "      <th>...</th>\n",
       "      <td>...</td>\n",
       "      <td>...</td>\n",
       "      <td>...</td>\n",
       "      <td>...</td>\n",
       "      <td>...</td>\n",
       "      <td>...</td>\n",
       "      <td>...</td>\n",
       "    </tr>\n",
       "    <tr>\n",
       "      <th>95</th>\n",
       "      <td>96</td>\n",
       "      <td>7266　(株)今仙電機製作所</td>\n",
       "      <td>東証1部</td>\n",
       "      <td>817</td>\n",
       "      <td>4.61</td>\n",
       "      <td>36</td>\n",
       "      <td>83200</td>\n",
       "    </tr>\n",
       "    <tr>\n",
       "      <th>96</th>\n",
       "      <td>97</td>\n",
       "      <td>4980　デクセリアルズ(株)</td>\n",
       "      <td>東証1部</td>\n",
       "      <td>1923</td>\n",
       "      <td>4.57</td>\n",
       "      <td>84</td>\n",
       "      <td>877600</td>\n",
       "    </tr>\n",
       "    <tr>\n",
       "      <th>97</th>\n",
       "      <td>98</td>\n",
       "      <td>8219　青山商事(株)</td>\n",
       "      <td>東証1部</td>\n",
       "      <td>846</td>\n",
       "      <td>4.57</td>\n",
       "      <td>37</td>\n",
       "      <td>1305700</td>\n",
       "    </tr>\n",
       "    <tr>\n",
       "      <th>98</th>\n",
       "      <td>99</td>\n",
       "      <td>8511　日本証券金融(株)</td>\n",
       "      <td>東証1部</td>\n",
       "      <td>664</td>\n",
       "      <td>4.57</td>\n",
       "      <td>29</td>\n",
       "      <td>524700</td>\n",
       "    </tr>\n",
       "    <tr>\n",
       "      <th>99</th>\n",
       "      <td>100</td>\n",
       "      <td>4331　(株)テイクアンドギヴ・ニーズ</td>\n",
       "      <td>東証1部</td>\n",
       "      <td>986</td>\n",
       "      <td>4.56</td>\n",
       "      <td>43</td>\n",
       "      <td>402600</td>\n",
       "    </tr>\n",
       "  </tbody>\n",
       "</table>\n",
       "<p>100 rows × 7 columns</p>\n",
       "</div>"
      ],
      "text/plain": [
       "     No                コード・名称    市場    終値    前日比  前日比.1        出来高\n",
       "0     1        4512　わかもと製薬(株)  東証1部   314  25.60     64   15622000\n",
       "1     2            4755　楽天(株)  東証1部  1545  24.10    300  124227900\n",
       "2     3       5476　日本高周波鋼業(株)  東証1部   461  21.00     80    1076800\n",
       "3     4     3467　アグレ都市デザイン(株)  東証1部  1067  16.36    150      25500\n",
       "4     5         3662　(株)エイチーム  東証1部  1651  15.37    220    2161700\n",
       "..  ...                   ...   ...   ...    ...    ...        ...\n",
       "95   96       7266　(株)今仙電機製作所  東証1部   817   4.61     36      83200\n",
       "96   97       4980　デクセリアルズ(株)  東証1部  1923   4.57     84     877600\n",
       "97   98          8219　青山商事(株)  東証1部   846   4.57     37    1305700\n",
       "98   99        8511　日本証券金融(株)  東証1部   664   4.57     29     524700\n",
       "99  100  4331　(株)テイクアンドギヴ・ニーズ  東証1部   986   4.56     43     402600\n",
       "\n",
       "[100 rows x 7 columns]"
      ]
     },
     "execution_count": 8,
     "metadata": {},
     "output_type": "execute_result"
    }
   ],
   "source": [
    "import pandas as pd\n",
    "\n",
    "#株式投資メモからページ内のTαble群を取得\n",
    "dfs =  pd.read_html(\"https://kabuoji3.com/ranking/?date=2021-03-15&type=1&market=3\")\n",
    "#DataFrame型を複数持つリストを返す\n",
    "dfs[0]"
   ]
  },
  {
   "cell_type": "markdown",
   "id": "western-brunswick",
   "metadata": {},
   "source": [
    "# Exercise 03-2 問題"
   ]
  },
  {
   "cell_type": "markdown",
   "id": "animated-radiation",
   "metadata": {},
   "source": [
    "### (1)BeautifulSoap - select\n",
    "```python\n",
    "自分の好きなサイトを1つ検索し、そこの利用規約を確認し問題なかった場合にrequestsライブラリのgetメソッドでまずHTMLをクロールせよ。\n",
    "その後BeautifulSoapライブラリの　**select系のメソッド**　を用いて要素を取得せよ。\n",
    "\n",
    "```"
   ]
  },
  {
   "cell_type": "code",
   "execution_count": null,
   "id": "mathematical-taylor",
   "metadata": {},
   "outputs": [],
   "source": [
    "#ここに記述せよ"
   ]
  },
  {
   "cell_type": "markdown",
   "id": "signal-generator",
   "metadata": {},
   "source": [
    "### (2)BeautifulSoap - find\n",
    "```python\n",
    "自分の好きなサイトを1つ検索し、そこの利用規約を確認し問題なかった場合にrequestsライブラリのgetメソッドでまずHTMLをクロールせよ。\n",
    "その後BeautifulSoapライブラリの　**find系のメソッド**　を用いて要素を取得せよ。\n",
    "\n",
    "```"
   ]
  },
  {
   "cell_type": "code",
   "execution_count": null,
   "id": "solved-terminology",
   "metadata": {},
   "outputs": [],
   "source": [
    "#ここに記述せよ"
   ]
  },
  {
   "cell_type": "markdown",
   "id": "organic-bones",
   "metadata": {},
   "source": [
    "### (3) pandas - read_html\n",
    "```python\n",
    "自分の好きなサイトを1つ検索し、そこの利用規約を確認し問題なかった場合にpandasライブラリを用いてHTMLのテーブル群を取得せよ。\n",
    "\n",
    "```"
   ]
  },
  {
   "cell_type": "code",
   "execution_count": null,
   "id": "demonstrated-referral",
   "metadata": {},
   "outputs": [],
   "source": [
    "#ここに記述せよ"
   ]
  },
  {
   "cell_type": "markdown",
   "id": "fifth-cholesterol",
   "metadata": {},
   "source": [
    "---\n",
    "# **3.動的なページの対策 Selenium**"
   ]
  },
  {
   "cell_type": "code",
   "execution_count": 13,
   "id": "divine-quarterly",
   "metadata": {},
   "outputs": [
    {
     "name": "stdout",
     "output_type": "stream",
     "text": [
      "Requirement already satisfied: selenium in /opt/conda/lib/python3.8/site-packages (3.141.0)\n",
      "Requirement already satisfied: urllib3 in /opt/conda/lib/python3.8/site-packages (from selenium) (1.26.3)\n",
      "Reading package lists... Done\n",
      "E: List directory /var/lib/apt/lists/partial is missing. - Acquire (13: Permission denied)\n",
      "\u001b[1;31mE: \u001b[0mCould not open lock file /var/lib/dpkg/lock-frontend - open (13: Permission denied)\u001b[0m\n",
      "\u001b[1;31mE: \u001b[0mUnable to acquire the dpkg frontend lock (/var/lib/dpkg/lock-frontend), are you root?\u001b[0m\n",
      "cp: cannot stat '/usr/lib/chromium-browser/chromedriver': No such file or directory\n"
     ]
    }
   ],
   "source": [
    "### seleniumのインストール(google colab限定のインストール方法)\n",
    "# reference https://enjoy-a-lot.com/google-colaboratory-selenium/#toc1\n",
    "!pip install selenium\n",
    "\n",
    "!apt-get update\n",
    "!apt install chromium-chromedriver\n",
    "!cp /usr/lib/chromium-browser/chromedriver /usr/bin"
   ]
  },
  {
   "cell_type": "code",
   "execution_count": null,
   "id": "advanced-dover",
   "metadata": {},
   "outputs": [],
   "source": [
    "from selenium import webdriver\n",
    "\n",
    "# ChromeDriver起動\n",
    "def generate_dirver():\n",
    "  options = webdriver.ChromeOptions()\n",
    "  options.add_argument('--headless')\n",
    "  options.add_argument('--no-sandbox')\n",
    "  options.add_argument('--disable-dev-shm-usage')\n",
    "  driver = webdriver.Chrome('chromedriver',options=options)\n",
    "  return driver\n",
    "\n",
    "driver = generate_dirver()"
   ]
  },
  {
   "cell_type": "code",
   "execution_count": null,
   "id": "southern-moment",
   "metadata": {},
   "outputs": [],
   "source": []
  },
  {
   "cell_type": "code",
   "execution_count": null,
   "id": "equipped-parent",
   "metadata": {},
   "outputs": [],
   "source": []
  },
  {
   "cell_type": "markdown",
   "id": "partial-straight",
   "metadata": {},
   "source": [
    "# Exercise 03-3 問題"
   ]
  },
  {
   "cell_type": "markdown",
   "id": "hungarian-efficiency",
   "metadata": {},
   "source": [
    "#### "
   ]
  },
  {
   "cell_type": "code",
   "execution_count": null,
   "id": "focused-mouth",
   "metadata": {},
   "outputs": [],
   "source": []
  },
  {
   "cell_type": "code",
   "execution_count": null,
   "id": "indie-disaster",
   "metadata": {},
   "outputs": [],
   "source": []
  },
  {
   "cell_type": "markdown",
   "id": "temporal-balance",
   "metadata": {},
   "source": [
    "---\n",
    "# 次回やることを少し先取り pandas DataFrame型 \n",
    "\n",
    "ここまで、クローリング及びスクレイピングを用いてweb情報の取得を行いました。\n",
    "\n",
    "そこから取得したデータを分析していくのですが、そのデータはpandas DataFrame型に格納され保存するのが一般的です。\n",
    "\n",
    "次回DataFrame型を詳しく解説し簡単なデータ分析を行いますが、今回は簡単な説明とデータの保存方法を紹介します。"
   ]
  },
  {
   "cell_type": "markdown",
   "id": "amazing-rendering",
   "metadata": {},
   "source": [
    "## pandasとは\n",
    "外部ライブラリでcsv/excel/バイナリデータの読み込み/書き込みを行うライブラリ。\n",
    "\n",
    "データの加工なども行うのでデータクレンジングなどデータを加工する前処理と解析後のデータ保存などで大活躍する。\n",
    "\n",
    "データを扱う際は必須となるであろうライブラリ。"
   ]
  },
  {
   "cell_type": "markdown",
   "id": "pending-courtesy",
   "metadata": {},
   "source": [
    "### pandasのデータフレームとは\n",
    "データフレームは、数値ベクトルや文字ベクトル、因子ベクトル(文字型ベクトル)などの異なる型のデータをまとめて1 つの変数として持っている型。\n",
    "\n",
    "外見は行列と同じ 2 次元配列であるが、データフレームの各行・列はラベルを必ず持ち,ラベルによる操作が可能である点が普通の行列と異なる。\n",
    "\n",
    "しかも各列の要素の型はバラバラでも構わないので、ベクトルやリストで持っているデータをデータフレームに変換することで統計解析がやりやすくなる。"
   ]
  },
  {
   "cell_type": "code",
   "execution_count": 21,
   "id": "resistant-crisis",
   "metadata": {},
   "outputs": [
    {
     "name": "stdout",
     "output_type": "stream",
     "text": [
      "<class 'pandas.core.frame.DataFrame'>\n"
     ]
    },
    {
     "data": {
      "text/html": [
       "<div>\n",
       "<style scoped>\n",
       "    .dataframe tbody tr th:only-of-type {\n",
       "        vertical-align: middle;\n",
       "    }\n",
       "\n",
       "    .dataframe tbody tr th {\n",
       "        vertical-align: top;\n",
       "    }\n",
       "\n",
       "    .dataframe thead th {\n",
       "        text-align: right;\n",
       "    }\n",
       "</style>\n",
       "<table border=\"1\" class=\"dataframe\">\n",
       "  <thead>\n",
       "    <tr style=\"text-align: right;\">\n",
       "      <th></th>\n",
       "      <th>No</th>\n",
       "      <th>コード・名称</th>\n",
       "      <th>市場</th>\n",
       "      <th>終値</th>\n",
       "      <th>前日比</th>\n",
       "      <th>前日比.1</th>\n",
       "      <th>出来高</th>\n",
       "    </tr>\n",
       "  </thead>\n",
       "  <tbody>\n",
       "    <tr>\n",
       "      <th>0</th>\n",
       "      <td>1</td>\n",
       "      <td>4512　わかもと製薬(株)</td>\n",
       "      <td>東証1部</td>\n",
       "      <td>314</td>\n",
       "      <td>25.60</td>\n",
       "      <td>64</td>\n",
       "      <td>15622000</td>\n",
       "    </tr>\n",
       "    <tr>\n",
       "      <th>1</th>\n",
       "      <td>2</td>\n",
       "      <td>4755　楽天(株)</td>\n",
       "      <td>東証1部</td>\n",
       "      <td>1545</td>\n",
       "      <td>24.10</td>\n",
       "      <td>300</td>\n",
       "      <td>124227900</td>\n",
       "    </tr>\n",
       "    <tr>\n",
       "      <th>2</th>\n",
       "      <td>3</td>\n",
       "      <td>5476　日本高周波鋼業(株)</td>\n",
       "      <td>東証1部</td>\n",
       "      <td>461</td>\n",
       "      <td>21.00</td>\n",
       "      <td>80</td>\n",
       "      <td>1076800</td>\n",
       "    </tr>\n",
       "    <tr>\n",
       "      <th>3</th>\n",
       "      <td>4</td>\n",
       "      <td>3467　アグレ都市デザイン(株)</td>\n",
       "      <td>東証1部</td>\n",
       "      <td>1067</td>\n",
       "      <td>16.36</td>\n",
       "      <td>150</td>\n",
       "      <td>25500</td>\n",
       "    </tr>\n",
       "    <tr>\n",
       "      <th>4</th>\n",
       "      <td>5</td>\n",
       "      <td>3662　(株)エイチーム</td>\n",
       "      <td>東証1部</td>\n",
       "      <td>1651</td>\n",
       "      <td>15.37</td>\n",
       "      <td>220</td>\n",
       "      <td>2161700</td>\n",
       "    </tr>\n",
       "    <tr>\n",
       "      <th>...</th>\n",
       "      <td>...</td>\n",
       "      <td>...</td>\n",
       "      <td>...</td>\n",
       "      <td>...</td>\n",
       "      <td>...</td>\n",
       "      <td>...</td>\n",
       "      <td>...</td>\n",
       "    </tr>\n",
       "    <tr>\n",
       "      <th>95</th>\n",
       "      <td>96</td>\n",
       "      <td>7266　(株)今仙電機製作所</td>\n",
       "      <td>東証1部</td>\n",
       "      <td>817</td>\n",
       "      <td>4.61</td>\n",
       "      <td>36</td>\n",
       "      <td>83200</td>\n",
       "    </tr>\n",
       "    <tr>\n",
       "      <th>96</th>\n",
       "      <td>97</td>\n",
       "      <td>4980　デクセリアルズ(株)</td>\n",
       "      <td>東証1部</td>\n",
       "      <td>1923</td>\n",
       "      <td>4.57</td>\n",
       "      <td>84</td>\n",
       "      <td>877600</td>\n",
       "    </tr>\n",
       "    <tr>\n",
       "      <th>97</th>\n",
       "      <td>98</td>\n",
       "      <td>8219　青山商事(株)</td>\n",
       "      <td>東証1部</td>\n",
       "      <td>846</td>\n",
       "      <td>4.57</td>\n",
       "      <td>37</td>\n",
       "      <td>1305700</td>\n",
       "    </tr>\n",
       "    <tr>\n",
       "      <th>98</th>\n",
       "      <td>99</td>\n",
       "      <td>8511　日本証券金融(株)</td>\n",
       "      <td>東証1部</td>\n",
       "      <td>664</td>\n",
       "      <td>4.57</td>\n",
       "      <td>29</td>\n",
       "      <td>524700</td>\n",
       "    </tr>\n",
       "    <tr>\n",
       "      <th>99</th>\n",
       "      <td>100</td>\n",
       "      <td>4331　(株)テイクアンドギヴ・ニーズ</td>\n",
       "      <td>東証1部</td>\n",
       "      <td>986</td>\n",
       "      <td>4.56</td>\n",
       "      <td>43</td>\n",
       "      <td>402600</td>\n",
       "    </tr>\n",
       "  </tbody>\n",
       "</table>\n",
       "<p>100 rows × 7 columns</p>\n",
       "</div>"
      ],
      "text/plain": [
       "     No                コード・名称    市場    終値    前日比  前日比.1        出来高\n",
       "0     1        4512　わかもと製薬(株)  東証1部   314  25.60     64   15622000\n",
       "1     2            4755　楽天(株)  東証1部  1545  24.10    300  124227900\n",
       "2     3       5476　日本高周波鋼業(株)  東証1部   461  21.00     80    1076800\n",
       "3     4     3467　アグレ都市デザイン(株)  東証1部  1067  16.36    150      25500\n",
       "4     5         3662　(株)エイチーム  東証1部  1651  15.37    220    2161700\n",
       "..  ...                   ...   ...   ...    ...    ...        ...\n",
       "95   96       7266　(株)今仙電機製作所  東証1部   817   4.61     36      83200\n",
       "96   97       4980　デクセリアルズ(株)  東証1部  1923   4.57     84     877600\n",
       "97   98          8219　青山商事(株)  東証1部   846   4.57     37    1305700\n",
       "98   99        8511　日本証券金融(株)  東証1部   664   4.57     29     524700\n",
       "99  100  4331　(株)テイクアンドギヴ・ニーズ  東証1部   986   4.56     43     402600\n",
       "\n",
       "[100 rows x 7 columns]"
      ]
     },
     "execution_count": 21,
     "metadata": {},
     "output_type": "execute_result"
    }
   ],
   "source": [
    "# pandas をインポートする\n",
    "import pandas as pd\n",
    "\n",
    "#株式投資メモからページ内のTαble群を取得\n",
    "dfs =  pd.read_html(\"https://kabuoji3.com/ranking/?date=2021-03-15&type=1&market=3\")\n",
    "#DataFrame型を複数持つリストを返す\n",
    "fetched_df = dfs[0]\n",
    "print(type(fetched_df))\n",
    "fetched_df"
   ]
  },
  {
   "cell_type": "markdown",
   "id": "molecular-disposal",
   "metadata": {},
   "source": [
    "### pandas.Series型\n",
    "Series型は一次元のデータフレームです。　DataFrame型の1列(カラム)のデータに相当します。\n",
    "[![Image from Gyazo](https://i.gyazo.com/4928a1fae957841d740b77f51a40e79a.png)](https://gyazo.com/4928a1fae957841d740b77f51a40e79a)"
   ]
  },
  {
   "cell_type": "code",
   "execution_count": 18,
   "id": "phantom-mistress",
   "metadata": {},
   "outputs": [
    {
     "name": "stdout",
     "output_type": "stream",
     "text": [
      "0     0\n",
      "1    10\n",
      "2    20\n",
      "3    30\n",
      "4    40\n",
      "5    50\n",
      "6    60\n",
      "7    70\n",
      "8    80\n",
      "9    90\n",
      "dtype: int64 <class 'pandas.core.series.Series'>\n"
     ]
    }
   ],
   "source": [
    "# Series オブジェクトは一次元の配列を扱うときに使用する。\n",
    "# 右側はデータフレームのインデックス( index )で、左が要素( values )となっている。\n",
    "df = pd.Series([0,10,20,30,40,50,60,70,80,90])\n",
    "print(df, type(df))"
   ]
  },
  {
   "cell_type": "code",
   "execution_count": 24,
   "id": "eastern-hebrew",
   "metadata": {},
   "outputs": [
    {
     "name": "stdout",
     "output_type": "stream",
     "text": [
      "a     0\n",
      "b    10\n",
      "c    20\n",
      "d    30\n",
      "e    40\n",
      "f    50\n",
      "g    60\n",
      "h    70\n",
      "i    80\n",
      "j    90\n",
      "dtype: int64\n",
      "-----------\n",
      "data_frame_02.values : [ 0 10 20 30 40 50 60 70 80 90]\n",
      "data_frame_02.index : Index(['a', 'b', 'c', 'd', 'e', 'f', 'g', 'h', 'i', 'j'], dtype='object')\n"
     ]
    }
   ],
   "source": [
    "# index は 名づけることが可能で、index と values はそれぞれ別々に取り出し可能\n",
    "df2 = pd.Series([0,10,20,30,40,50,60,70,80,90],index = [\"a\",\"b\",\"c\",\"d\",\"e\",\"f\",\"g\",\"h\",\"i\",\"j\"])\n",
    "print(df2)\n",
    "print(\"-----------\")\n",
    "print(f\"data_frame_02.values : {df2.values}\")\n",
    "print(f\"data_frame_02.index : {df2.index}\")"
   ]
  },
  {
   "cell_type": "markdown",
   "id": "super-intent",
   "metadata": {},
   "source": [
    "### pandas.DataFrame型\n",
    "DataFrame型は2次元のデータフレームです。　\n",
    "[![Image from Gyazo](https://i.gyazo.com/5521a94a7c3eda774cfdc5afca2c53bb.png)](https://gyazo.com/5521a94a7c3eda774cfdc5afca2c53bb)"
   ]
  },
  {
   "cell_type": "code",
   "execution_count": 31,
   "id": "damaged-healing",
   "metadata": {},
   "outputs": [
    {
     "data": {
      "text/html": [
       "<div>\n",
       "<style scoped>\n",
       "    .dataframe tbody tr th:only-of-type {\n",
       "        vertical-align: middle;\n",
       "    }\n",
       "\n",
       "    .dataframe tbody tr th {\n",
       "        vertical-align: top;\n",
       "    }\n",
       "\n",
       "    .dataframe thead th {\n",
       "        text-align: right;\n",
       "    }\n",
       "</style>\n",
       "<table border=\"1\" class=\"dataframe\">\n",
       "  <thead>\n",
       "    <tr style=\"text-align: right;\">\n",
       "      <th></th>\n",
       "      <th>a</th>\n",
       "      <th>b</th>\n",
       "      <th>c</th>\n",
       "    </tr>\n",
       "  </thead>\n",
       "  <tbody>\n",
       "    <tr>\n",
       "      <th>0</th>\n",
       "      <td>1</td>\n",
       "      <td>4</td>\n",
       "      <td>7</td>\n",
       "    </tr>\n",
       "    <tr>\n",
       "      <th>1</th>\n",
       "      <td>2</td>\n",
       "      <td>5</td>\n",
       "      <td>8</td>\n",
       "    </tr>\n",
       "    <tr>\n",
       "      <th>2</th>\n",
       "      <td>3</td>\n",
       "      <td>6</td>\n",
       "      <td>9</td>\n",
       "    </tr>\n",
       "  </tbody>\n",
       "</table>\n",
       "</div>"
      ],
      "text/plain": [
       "   a  b  c\n",
       "0  1  4  7\n",
       "1  2  5  8\n",
       "2  3  6  9"
      ]
     },
     "execution_count": 31,
     "metadata": {},
     "output_type": "execute_result"
    }
   ],
   "source": [
    "# Series オブジェクトが一次元配列であることは理解\n",
    "# 次は二次元配列を扱う DataFrame オブジェクトを見ていく。\n",
    "data_3 = {\"a\":[1,2,3],\n",
    "           \"b\":[4,5,6],\n",
    "           \"c\":[7,8,9]}\n",
    "df3 = pd.DataFrame(data_3)\n",
    "# jupyter では DataFrame 型などは print 関数を用いないほうが見やすくなる。\n",
    "df3\n",
    "\n",
    "# ここで、\"a\" \"b\" \"c\" は列名であり、あくまでも インデックスは 0, 1, 2 となっている。\n",
    "# こちらもインデックスの名前は変更可能"
   ]
  },
  {
   "cell_type": "markdown",
   "id": "prescription-oriental",
   "metadata": {},
   "source": [
    "### csvデータとして保存\n",
    "今回はcsvデータとして保存を行います。pandasのto_csvメソッドを利用することで保存することができます。"
   ]
  },
  {
   "cell_type": "code",
   "execution_count": 35,
   "id": "viral-cycle",
   "metadata": {},
   "outputs": [],
   "source": [
    "#株式投資メモからページ内のTαble群を取得\n",
    "dfs =  pd.read_html(\"https://kabuoji3.com/ranking/?date=2021-03-15&type=1&market=3\")\n",
    "#DataFrame型を複数持つリストを返す\n",
    "fetched_df = dfs[0]\n",
    "fetched_df.to_csv('to_csv_out.csv')"
   ]
  },
  {
   "cell_type": "markdown",
   "id": "architectural-eclipse",
   "metadata": {},
   "source": [
    "# Exercise 03-4 問題"
   ]
  },
  {
   "cell_type": "markdown",
   "id": "hollow-terminology",
   "metadata": {},
   "source": [
    "### 　(1) Series型\n",
    "```python\n",
    "\n",
    " 3 匹の動物を要素とした一次元データフレーム animal を作成せよ\n",
    "\n",
    "```"
   ]
  },
  {
   "cell_type": "code",
   "execution_count": 26,
   "id": "prescription-surgeon",
   "metadata": {},
   "outputs": [],
   "source": [
    " #ここに記述せよ"
   ]
  },
  {
   "cell_type": "markdown",
   "id": "respiratory-reception",
   "metadata": {},
   "source": [
    "### 　(２) DataFrame型\n",
    "```python\n",
    "\n",
    " df3 を用いて index の値を適当に書き換えた df3_updated を作成せよ\n",
    "\n",
    "```"
   ]
  },
  {
   "cell_type": "code",
   "execution_count": 32,
   "id": "urban-commission",
   "metadata": {},
   "outputs": [
    {
     "data": {
      "text/html": [
       "<div>\n",
       "<style scoped>\n",
       "    .dataframe tbody tr th:only-of-type {\n",
       "        vertical-align: middle;\n",
       "    }\n",
       "\n",
       "    .dataframe tbody tr th {\n",
       "        vertical-align: top;\n",
       "    }\n",
       "\n",
       "    .dataframe thead th {\n",
       "        text-align: right;\n",
       "    }\n",
       "</style>\n",
       "<table border=\"1\" class=\"dataframe\">\n",
       "  <thead>\n",
       "    <tr style=\"text-align: right;\">\n",
       "      <th></th>\n",
       "      <th>a</th>\n",
       "      <th>b</th>\n",
       "      <th>c</th>\n",
       "    </tr>\n",
       "  </thead>\n",
       "  <tbody>\n",
       "    <tr>\n",
       "      <th>0</th>\n",
       "      <td>1</td>\n",
       "      <td>4</td>\n",
       "      <td>7</td>\n",
       "    </tr>\n",
       "    <tr>\n",
       "      <th>1</th>\n",
       "      <td>2</td>\n",
       "      <td>5</td>\n",
       "      <td>8</td>\n",
       "    </tr>\n",
       "    <tr>\n",
       "      <th>2</th>\n",
       "      <td>3</td>\n",
       "      <td>6</td>\n",
       "      <td>9</td>\n",
       "    </tr>\n",
       "  </tbody>\n",
       "</table>\n",
       "</div>"
      ],
      "text/plain": [
       "   a  b  c\n",
       "0  1  4  7\n",
       "1  2  5  8\n",
       "2  3  6  9"
      ]
     },
     "execution_count": 32,
     "metadata": {},
     "output_type": "execute_result"
    }
   ],
   "source": [
    "# Series オブジェクトが一次元配列であることは理解\n",
    "# 次は二次元配列を扱う DataFrame オブジェクトを見ていく。\n",
    "data_3 = {\"a\":[1,2,3],\n",
    "           \"b\":[4,5,6],\n",
    "           \"c\":[7,8,9]}\n",
    "df3 = pd.DataFrame(data_3)\n",
    "df3\n",
    "#ここに記述せよ"
   ]
  },
  {
   "cell_type": "markdown",
   "id": "electoral-allen",
   "metadata": {},
   "source": [
    "### 　(3) to_csvと pandas.read_csv()\n",
    "```python\n",
    "\n",
    "授業でto_csvをし保存したcsvデータを pandas.read_csv()で呼び出せ\n",
    "\n",
    "\n",
    "```\n",
    "**ググってみよう!!**"
   ]
  },
  {
   "cell_type": "code",
   "execution_count": null,
   "id": "expressed-procedure",
   "metadata": {},
   "outputs": [],
   "source": [
    "#ここに記述せよ"
   ]
  }
 ],
 "metadata": {
  "kernelspec": {
   "display_name": "Python 3",
   "language": "python",
   "name": "python3"
  },
  "language_info": {
   "codemirror_mode": {
    "name": "ipython",
    "version": 3
   },
   "file_extension": ".py",
   "mimetype": "text/x-python",
   "name": "python",
   "nbconvert_exporter": "python",
   "pygments_lexer": "ipython3",
   "version": "3.8.8"
  }
 },
 "nbformat": 4,
 "nbformat_minor": 5
}
