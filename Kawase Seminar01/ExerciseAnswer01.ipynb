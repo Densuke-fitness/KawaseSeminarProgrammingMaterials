{
 "cells": [
  {
   "cell_type": "markdown",
   "metadata": {},
   "source": [
    "<p style=\"text-align:center\"><font size=\"10\" > Exercise Answer 01</font></p>\n",
    "\n",
    "---\n",
    "---"
   ]
  },
  {
   "cell_type": "markdown",
   "metadata": {},
   "source": [
    "# Exercise 01-1 解答"
   ]
  },
  {
   "cell_type": "code",
   "execution_count": 11,
   "metadata": {
    "scrolled": true
   },
   "outputs": [
    {
     "name": "stdout",
     "output_type": "stream",
     "text": [
      "半角数字を入力してください：\n",
      "<class 'str'>\n"
     ]
    }
   ],
   "source": [
    "#(1)\n",
    "n = input(\"半角数字を入力してください：\")\n",
    "# ここに記述せよ\n",
    "print(type(n))"
   ]
  },
  {
   "cell_type": "code",
   "execution_count": 12,
   "metadata": {},
   "outputs": [
    {
     "data": {
      "text/plain": [
       "int"
      ]
     },
     "execution_count": 12,
     "metadata": {},
     "output_type": "execute_result"
    }
   ],
   "source": [
    "#(2)\n",
    "list1 = [0, \"1\", 2, \"3\", 4, \"5\", 6, \"7\", 8, \"9\", 10]\n",
    "# ここに記述せよ\n",
    "type(list1[6])"
   ]
  },
  {
   "cell_type": "code",
   "execution_count": 13,
   "metadata": {},
   "outputs": [
    {
     "data": {
      "text/plain": [
       "4"
      ]
     },
     "execution_count": 13,
     "metadata": {},
     "output_type": "execute_result"
    }
   ],
   "source": [
    "#(3)\n",
    "list2 = [0, 1., \"2\", True, [4]]\n",
    "# ここに記述せよ\n",
    "list2[4][0]"
   ]
  },
  {
   "cell_type": "code",
   "execution_count": 14,
   "metadata": {},
   "outputs": [
    {
     "data": {
      "text/plain": [
       "[0, 1, 2, 3, 4, 5]"
      ]
     },
     "execution_count": 14,
     "metadata": {},
     "output_type": "execute_result"
    }
   ],
   "source": [
    "#(4)\n",
    "list3 = [0, 1, 2, 3, 4, 5, 6, 7, 8, 9, 10]\n",
    "# ここに記述せよ\n",
    "list3[0:6]"
   ]
  },
  {
   "cell_type": "code",
   "execution_count": 15,
   "metadata": {},
   "outputs": [
    {
     "data": {
      "text/plain": [
       "[[0, 1, 2], 1, 2, 3, 4, 5, 6]"
      ]
     },
     "execution_count": 15,
     "metadata": {},
     "output_type": "execute_result"
    }
   ],
   "source": [
    "#(5)\n",
    "list4 = [0, 1, 2, 3, 4, 5, 6]\n",
    "# ここに記述せよ\n",
    "list4[0] = [0, 1, 2]\n",
    "list4"
   ]
  },
  {
   "cell_type": "markdown",
   "metadata": {},
   "source": [
    "---\n",
    "# Exercise 01-2 解答"
   ]
  },
  {
   "cell_type": "code",
   "execution_count": 16,
   "metadata": {},
   "outputs": [
    {
     "name": "stdout",
     "output_type": "stream",
     "text": [
      "False\n"
     ]
    }
   ],
   "source": [
    "#(1)\n",
    "int_n = 10\n",
    "str_n = \"10\"\n",
    "# ここに記述せよ\n",
    "print(int_n == str_n)"
   ]
  },
  {
   "cell_type": "code",
   "execution_count": 2,
   "metadata": {},
   "outputs": [],
   "source": [
    "#(2) -1\n",
    "list15 = []\n",
    "n1 = input(\"整数①を入れてください：\")\n",
    "n2 = input(\"整数②を入れてください：\")\n",
    "# ここに記述せよ\n",
    "n1 = int(n1)\n",
    "n2 = int(n2)\n",
    "\n",
    "if n1 < n2 :\n",
    "    list15.append(n1)\n",
    "    list15.append(n2)\n",
    "else :\n",
    "    list15.append(n2)\n",
    "    list15.append(n1)\n",
    "print(list15)"
   ]
  },
  {
   "cell_type": "code",
   "execution_count": null,
   "metadata": {},
   "outputs": [],
   "source": [
    "#(2) -2 別解\n",
    "list15 = []\n",
    "n1 = input(\"整数①を入れてください：\")\n",
    "n2 = input(\"整数②を入れてください：\")\n",
    "# ここに記述せよ\n",
    "\n",
    "n1 = int(n1)\n",
    "n2 = int(n2)\n",
    "\n",
    "list15.append(n1)\n",
    "list15.append(n2)\n",
    "\n",
    "list15.sort()\n",
    "print(list15)"
   ]
  },
  {
   "cell_type": "code",
   "execution_count": null,
   "metadata": {},
   "outputs": [],
   "source": [
    "#(3)\n",
    "def find_the_distance(dis1= [0, 1], dis2=[1, 0] ):\n",
    "    x = dis1[0] -  dis2[0]\n",
    "    y = dis1[1] -  dis2[1]\n",
    "    return (x**2 + y**2)**(1/2)\n",
    "\n",
    "# print(find_the_distance([0, 1], [1, 0]))"
   ]
  },
  {
   "cell_type": "markdown",
   "metadata": {},
   "source": [
    "## Tamura Challenge"
   ]
  },
  {
   "cell_type": "code",
   "execution_count": null,
   "metadata": {},
   "outputs": [],
   "source": [
    "#(4) -1\n",
    "def fibo(n):\n",
    "    if n == 1 or  n == 2:\n",
    "        return 1\n",
    "    return fibo(n - 1) + fibo(n - 2)\n",
    "\n",
    "#print(10)"
   ]
  },
  {
   "cell_type": "code",
   "execution_count": null,
   "metadata": {},
   "outputs": [],
   "source": [
    "#(4) -2　別解\n",
    "fibo_dict = {1:1, 2:1}\n",
    "def fibo(n) :\n",
    "    if n in fibo_dict :\n",
    "        return fibo_dict[n]\n",
    "    else :\n",
    "        fibo_dict[n] = fibo(n - 1) + fibo(n - 2)\n",
    "        return fibo(n - 1) + fibo(n - 2)\n",
    "    \n",
    "# print(fibo(100))"
   ]
  },
  {
   "cell_type": "code",
   "execution_count": null,
   "metadata": {},
   "outputs": [],
   "source": [
    "#(5) -1 \n",
    "words = \"たけやぶやけた\" \n",
    "\n",
    "def is_parondome(words)  :\n",
    "    return words == words [::-1]\n",
    "\n",
    "#print(is_parondome(words)) "
   ]
  },
  {
   "cell_type": "code",
   "execution_count": null,
   "metadata": {},
   "outputs": [],
   "source": [
    "#(5) -2 別解　(forやimportを使用)\n",
    "import math\n",
    "words = \"たけやぶやけた\"\n",
    " \n",
    "def is_parondome(word)  :\n",
    "    start = 0\n",
    "    end = (len(word) -1)\n",
    "    for i in range(math.floor(len(word)/2)):\n",
    "        if word[start] == word[end] :\n",
    "            start += 1\n",
    "            end -= 1\n",
    "            pass\n",
    "        \n",
    "        else :\n",
    "            return False\n",
    "    \n",
    "    return True\n",
    "\n",
    "print(is_parondome(word)) "
   ]
  },
  {
   "cell_type": "code",
   "execution_count": null,
   "metadata": {},
   "outputs": [],
   "source": [
    "#(6)田村の直近の3000円コースの結果はこちら"
   ]
  },
  {
   "cell_type": "markdown",
   "metadata": {},
   "source": [
    "[![Image from Gyazo](https://i.gyazo.com/4909c66e1a81df799e383ede46e3d098.png)](https://gyazo.com/4909c66e1a81df799e383ede46e3d098)"
   ]
  },
  {
   "cell_type": "markdown",
   "metadata": {},
   "source": [
    "## Tamura Ultimate"
   ]
  },
  {
   "cell_type": "code",
   "execution_count": null,
   "metadata": {},
   "outputs": [],
   "source": [
    "#(7)Tamura Ultimate①\n",
    "word = \"1Aa2Bb3Cc\"\n",
    "def sort_word(word = \"1Aa2Bb3Cc\"):\n",
    "    word_li = [word[idx] for idx in range(len(word))]\n",
    "    return \"\".join(sorted(word_li))\n",
    "\n",
    "# print(sort_word(\"1Aa2Bb3Cc\"))"
   ]
  },
  {
   "cell_type": "code",
   "execution_count": null,
   "metadata": {},
   "outputs": [],
   "source": [
    "#(8) Tamura Ultimate②\n",
    "word1 = \"star\" \n",
    "word2 = \"rats\"\n",
    " \n",
    "def check_anagram(word1, word2) :\n",
    "    map = {}\n",
    "    for idx in range(len(word1)) :\n",
    "        if word1[idx] in map :\n",
    "            map[word1[idx]] += 1\n",
    "        else :\n",
    "            map[word1[idx]] = 1 \n",
    "    for idx in range(len(word2)) :\n",
    "        if word2[idx] in map :\n",
    "            map[word2[idx]] -= 1\n",
    "        else :\n",
    "            map[word2[idx]] = 1 \n",
    "    for k , v in map.items() :\n",
    "        if v != 0 :\n",
    "            return False\n",
    "    return True\n",
    "\n",
    "# print(check_anagram(word1, word2))"
   ]
  },
  {
   "cell_type": "code",
   "execution_count": null,
   "metadata": {},
   "outputs": [],
   "source": [
    "#(9) Tamura Ultimate\n",
    "input_values =  [0, [1], 2, [3, [4, 5], 6]]\n",
    "\n",
    "#深さ優先探索\n",
    "def dfs(input_values =  [0, [1], 2, [3, [4, 5], 6]]):\n",
    "    for value in input_values:\n",
    "        if isinstance(value, int) :\n",
    "            print(value, end=\" \")\n",
    "        else:\n",
    "            dfs(value) \n",
    "    return \"\"\n",
    "# print(dfs(input_values))  "
   ]
  }
 ],
 "metadata": {
  "kernelspec": {
   "display_name": "Python 3",
   "language": "python",
   "name": "python3"
  },
  "language_info": {
   "codemirror_mode": {
    "name": "ipython",
    "version": 3
   },
   "file_extension": ".py",
   "mimetype": "text/x-python",
   "name": "python",
   "nbconvert_exporter": "python",
   "pygments_lexer": "ipython3",
   "version": "3.8.8"
  }
 },
 "nbformat": 4,
 "nbformat_minor": 4
}
