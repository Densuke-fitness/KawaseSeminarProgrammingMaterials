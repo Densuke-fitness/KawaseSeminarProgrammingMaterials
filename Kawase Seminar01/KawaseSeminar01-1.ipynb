{
 "cells": [
  {
   "cell_type": "markdown",
   "metadata": {},
   "source": [
    "<p style=\"text-align:center\"><font size=\"10\" >Kawase Seminar 01-1</font></p>"
   ]
  },
  {
   "cell_type": "markdown",
   "metadata": {},
   "source": [
    "# **1.1 初めてのプログラム**"
   ]
  },
  {
   "cell_type": "markdown",
   "metadata": {},
   "source": [
    "## ようこそ世界"
   ]
  },
  {
   "cell_type": "markdown",
   "metadata": {},
   "source": [
    "下のコードを一つ一つ実行していきましょう。  \n",
    "実行は上にある**▶**マークをクリックすると実行できます。"
   ]
  },
  {
   "cell_type": "code",
   "execution_count": 122,
   "metadata": {},
   "outputs": [],
   "source": [
    "print('Hello World')"
   ]
  },
  {
   "cell_type": "markdown",
   "metadata": {},
   "source": [
    "## print関数(出力関数)"
   ]
  },
  {
   "cell_type": "markdown",
   "metadata": {},
   "source": [
    "ゲームでは、あるボタンを押すとそのボタンの**入力**を元に、ゲーム画面に動きとして結果(**出力**)されます。\n",
    "\n",
    "プログラミングも同様で、出力関数を呼び出すことで結果を表示させることができます。"
   ]
  },
  {
   "cell_type": "code",
   "execution_count": 123,
   "metadata": {},
   "outputs": [],
   "source": [
    "# print関数 自体が出力命令なので、()の中身を文字列に変換して出力を行う。\n",
    "print('Hello World')"
   ]
  },
  {
   "cell_type": "markdown",
   "metadata": {},
   "source": [
    "ipynb形式では、print()をしなくても最後の行の値のみ出力してくれます"
   ]
  },
  {
   "cell_type": "code",
   "execution_count": 10,
   "metadata": {},
   "outputs": [
    {
     "data": {
      "text/plain": [
       "'Hello World'"
      ]
     },
     "execution_count": 10,
     "metadata": {},
     "output_type": "execute_result"
    }
   ],
   "source": [
    "'Hello World'"
   ]
  },
  {
   "cell_type": "markdown",
   "metadata": {},
   "source": [
    "ipynb形式のファイルではコードを記述している場所を**セル**と言います。"
   ]
  },
  {
   "cell_type": "code",
   "execution_count": 124,
   "metadata": {
    "scrolled": true
   },
   "outputs": [],
   "source": [
    "print('Hello' + 'World')"
   ]
  },
  {
   "cell_type": "code",
   "execution_count": 125,
   "metadata": {},
   "outputs": [],
   "source": [
    "#カンマで区切りながら出力することもできます\n",
    "print('Hello', 'World')"
   ]
  },
  {
   "cell_type": "code",
   "execution_count": 126,
   "metadata": {},
   "outputs": [],
   "source": [
    "# end　= \"\" をすると 改行せずに出力されます\n",
    "print('Hello' ,end=\"\")\n",
    "print('Python')"
   ]
  },
  {
   "cell_type": "markdown",
   "metadata": {},
   "source": [
    "## type関数 データ型の確認\n",
    "数値や文字には「型」が存在しています。  \n",
    "「型」によってふるまう役割が異なるので必ず習得しましょう。"
   ]
  },
  {
   "cell_type": "code",
   "execution_count": 49,
   "metadata": {},
   "outputs": [],
   "source": [
    "# type関数 type(値)で中身の型を確認する。"
   ]
  },
  {
   "cell_type": "code",
   "execution_count": 127,
   "metadata": {},
   "outputs": [],
   "source": [
    "# 値：100 の型を調べる\n",
    "print(100, type(100))"
   ]
  },
  {
   "cell_type": "code",
   "execution_count": 128,
   "metadata": {},
   "outputs": [],
   "source": [
    "#　お会計が1234(円) -> int型\n",
    "print(1234, type(1234))"
   ]
  },
  {
   "cell_type": "code",
   "execution_count": 129,
   "metadata": {},
   "outputs": [],
   "source": [
    "# 学籍番号が1234 -> str型\n",
    "print(\"1234\", type(\"1234\"))"
   ]
  },
  {
   "cell_type": "code",
   "execution_count": 130,
   "metadata": {},
   "outputs": [],
   "source": [
    "# ソフトボール投げの距離が123.4 (m)-> float型\n",
    "print(123.4, type(123.4))"
   ]
  },
  {
   "cell_type": "code",
   "execution_count": 131,
   "metadata": {},
   "outputs": [],
   "source": [
    "#　真偽値  -> bool型\n",
    "print(True, type(True))\n",
    "print(False, type(True))"
   ]
  },
  {
   "cell_type": "code",
   "execution_count": 132,
   "metadata": {},
   "outputs": [],
   "source": [
    "#値によっては型を変更することもできます。\n",
    "# int() で文字列の数字の場合に型を変更（キャスト）することができる\n",
    "print(int(\"10\") , type(int(\"10\")))\n",
    "\n",
    "# str() で文字列の数字の場合に型を変更（キャスト）することができる\n",
    "print(str(20) , type(str(20)))"
   ]
  },
  {
   "cell_type": "markdown",
   "metadata": {},
   "source": [
    "## 演算子の確認\n",
    "演算子は**型**によって扱いが変わります。  \n",
    "ここでは「数値の型同士」の計算を行っていますがこれ以外にも種類は存在します。"
   ]
  },
  {
   "cell_type": "code",
   "execution_count": null,
   "metadata": {},
   "outputs": [],
   "source": [
    "# 足し算\n",
    "1 + 2"
   ]
  },
  {
   "cell_type": "code",
   "execution_count": null,
   "metadata": {},
   "outputs": [],
   "source": [
    "# 引き算\n",
    "1 - 2"
   ]
  },
  {
   "cell_type": "code",
   "execution_count": null,
   "metadata": {},
   "outputs": [],
   "source": [
    "# 掛け算\n",
    "2 * 3"
   ]
  },
  {
   "cell_type": "code",
   "execution_count": null,
   "metadata": {},
   "outputs": [],
   "source": [
    "# 累乗\n",
    "2 ** 3"
   ]
  },
  {
   "cell_type": "code",
   "execution_count": null,
   "metadata": {},
   "outputs": [],
   "source": [
    "# 割り算\n",
    "7 / 3"
   ]
  },
  {
   "cell_type": "code",
   "execution_count": null,
   "metadata": {},
   "outputs": [],
   "source": [
    "# 割り算（商を小数点切り捨てで取得）\n",
    "7 // 3"
   ]
  },
  {
   "cell_type": "code",
   "execution_count": null,
   "metadata": {},
   "outputs": [],
   "source": [
    "# 割り算（余りを取得）\n",
    "7 % 3"
   ]
  },
  {
   "cell_type": "code",
   "execution_count": null,
   "metadata": {},
   "outputs": [],
   "source": [
    "# 等価\n",
    "# ※ 正しい場合は True、間違っている場合は False と表示される\n",
    "1 == 1"
   ]
  },
  {
   "cell_type": "code",
   "execution_count": null,
   "metadata": {},
   "outputs": [],
   "source": [
    "1 == 2"
   ]
  },
  {
   "cell_type": "code",
   "execution_count": null,
   "metadata": {},
   "outputs": [],
   "source": [
    "# 非等価\n",
    "1 != 2"
   ]
  },
  {
   "cell_type": "code",
   "execution_count": null,
   "metadata": {},
   "outputs": [],
   "source": [
    "1 != 1"
   ]
  },
  {
   "cell_type": "code",
   "execution_count": null,
   "metadata": {},
   "outputs": [],
   "source": [
    "# 小なり\n",
    "1 < 2"
   ]
  },
  {
   "cell_type": "code",
   "execution_count": null,
   "metadata": {},
   "outputs": [],
   "source": [
    "1 < 1"
   ]
  },
  {
   "cell_type": "code",
   "execution_count": null,
   "metadata": {},
   "outputs": [],
   "source": [
    "# 小なりイコール\n",
    "1 <= 2"
   ]
  },
  {
   "cell_type": "code",
   "execution_count": null,
   "metadata": {},
   "outputs": [],
   "source": [
    "1 <= 1 "
   ]
  },
  {
   "cell_type": "code",
   "execution_count": null,
   "metadata": {},
   "outputs": [],
   "source": [
    "1 <= 0"
   ]
  },
  {
   "cell_type": "code",
   "execution_count": null,
   "metadata": {},
   "outputs": [],
   "source": [
    "# 大なり\n",
    "1 > 0"
   ]
  },
  {
   "cell_type": "code",
   "execution_count": null,
   "metadata": {},
   "outputs": [],
   "source": [
    "1 > 1"
   ]
  },
  {
   "cell_type": "code",
   "execution_count": null,
   "metadata": {},
   "outputs": [],
   "source": [
    "# 大なりイコール\n",
    "1 >= 0"
   ]
  },
  {
   "cell_type": "code",
   "execution_count": null,
   "metadata": {},
   "outputs": [],
   "source": [
    "1 >= 1"
   ]
  },
  {
   "cell_type": "code",
   "execution_count": null,
   "metadata": {},
   "outputs": [],
   "source": [
    "1 >= 2"
   ]
  },
  {
   "cell_type": "markdown",
   "metadata": {},
   "source": [
    "## コメント\n",
    "相手に理解できるようにコメントを書いておきましょう。"
   ]
  },
  {
   "cell_type": "code",
   "execution_count": 30,
   "metadata": {},
   "outputs": [],
   "source": [
    "# Pythonでは行内の「#」以降がコメントになります。"
   ]
  },
  {
   "cell_type": "code",
   "execution_count": 31,
   "metadata": {},
   "outputs": [],
   "source": [
    "# 以下の行はコメントなので実行されません。\n",
    "# 1 + 2\n",
    "\n",
    "# コメントはメモを残すばかりではなく、特定の文（処理）を無効にする場合に利用することもあります。\n",
    "# このように、処理をコメント化することを「コメントアウト」と呼びます。"
   ]
  },
  {
   "cell_type": "markdown",
   "metadata": {},
   "source": [
    "PEP8というPythonの書き方を定めたものに夜と、コメントは行のごとに書くことが適切とされています"
   ]
  },
  {
   "cell_type": "code",
   "execution_count": 133,
   "metadata": {
    "scrolled": true
   },
   "outputs": [],
   "source": [
    "#ダメな例\n",
    "1 + 2 #この書き方はよくないです\n",
    "\n",
    "#良い例\n",
    "# このように処理の上にコメントを記述したりします。\n",
    "1 + 2"
   ]
  },
  {
   "cell_type": "markdown",
   "metadata": {},
   "source": [
    "---\n",
    "''' ''' をすると、複数行を一気にコメントアウトすることができます。"
   ]
  },
  {
   "cell_type": "code",
   "execution_count": 35,
   "metadata": {},
   "outputs": [
    {
     "name": "stdout",
     "output_type": "stream",
     "text": [
      "\n",
      "お願いマッスル\n",
      "めっちゃモテたい\n",
      "お願いマッスル\n",
      "めっちゃ痩せたい、YES\n",
      "お願いマッスル\n",
      "めっちゃモテたいから\n",
      "ウー！(キレてるよ！)\n",
      "ハー！(キレてるよ！)\n",
      "筋肉にお願い！\n",
      "\n",
      "\n"
     ]
    }
   ],
   "source": [
    "print('''\n",
    "お願いマッスル\n",
    "めっちゃモテたい\n",
    "お願いマッスル\n",
    "めっちゃ痩せたい、YES\n",
    "お願いマッスル\n",
    "めっちゃモテたいから\n",
    "ウー！(キレてるよ！)\n",
    "ハー！(キレてるよ！)\n",
    "筋肉にお願い！\n",
    "\n",
    "''')"
   ]
  },
  {
   "cell_type": "markdown",
   "metadata": {},
   "source": [
    "---\n",
    "---\n",
    "# **1.2 変数の宣言と格納**\n",
    "数値や文字を格納することで何度も使うことができます。  \n",
    "変数は情報を一時的に**保存**する役割を持っています。"
   ]
  },
  {
   "cell_type": "code",
   "execution_count": 134,
   "metadata": {},
   "outputs": [],
   "source": [
    "# 変数名：width に 値：300 を代入\n",
    "width = 300\n",
    "# widthの中身を確認\n",
    "print(width)"
   ]
  },
  {
   "cell_type": "code",
   "execution_count": 135,
   "metadata": {},
   "outputs": [],
   "source": [
    "width = 300\n",
    "height = 80\n",
    "# width(300) * height(80) の計算を行う\n",
    "print(width * height)"
   ]
  },
  {
   "cell_type": "code",
   "execution_count": 137,
   "metadata": {},
   "outputs": [],
   "source": [
    "# 定義されていない変数を使用しようとするとエラーが発生する\n",
    "print(depth)"
   ]
  },
  {
   "cell_type": "code",
   "execution_count": 136,
   "metadata": {},
   "outputs": [],
   "source": [
    "# 変数は同時に複数の宣言と代入が可能（同値）\n",
    "arg1 = arg2 = 10\n",
    "print(arg1)\n",
    "print(arg2)"
   ]
  },
  {
   "cell_type": "code",
   "execution_count": 138,
   "metadata": {},
   "outputs": [],
   "source": [
    "# このような書き方をすると１行で複数の変数の宣言と代入ができる（異なる値）\n",
    "arg3, arg4 = 30, 40\n",
    "print(arg1)\n",
    "print(arg2)"
   ]
  },
  {
   "cell_type": "markdown",
   "metadata": {},
   "source": [
    "変数名はわかりやすく書きましょう。コードを見るだけでどんな値が入っているのかをわかるようになるのがポイントです。"
   ]
  },
  {
   "cell_type": "code",
   "execution_count": 139,
   "metadata": {},
   "outputs": [],
   "source": [
    "# ダメな例\n",
    "a, b = \"Kawase\", \"Hironori\"\n",
    "print(b, a)\n",
    "\n",
    "#良い例\n",
    "family_name, first_name = \"Kawase\", \"Hironori\"\n",
    "print(first_name, family_name)"
   ]
  },
  {
   "cell_type": "markdown",
   "metadata": {},
   "source": [
    "## input関数\n",
    "ユーザーに入力してもらう場合に使用します。  "
   ]
  },
  {
   "cell_type": "code",
   "execution_count": null,
   "metadata": {},
   "outputs": [],
   "source": [
    "# input() で操作者からの入力を受けつける\n",
    "input_value = input()\n",
    "input_value"
   ]
  },
  {
   "cell_type": "code",
   "execution_count": 140,
   "metadata": {},
   "outputs": [],
   "source": [
    "# input( 文字列 ) の書き方をすると、入力時にメッセージを付与することができる\n",
    "input_value = input('値を入力してください。')\n",
    "input_value"
   ]
  },
  {
   "cell_type": "markdown",
   "metadata": {},
   "source": [
    "## 予約語\n",
    "変数名や関数として定義できないものが予約語です。\n",
    "\n",
    "print,int, type, for , if などがpythonなどがあります。"
   ]
  },
  {
   "cell_type": "code",
   "execution_count": 121,
   "metadata": {},
   "outputs": [],
   "source": [
    "## print = 1 -> pythonがバグるのでやってはいけない。"
   ]
  },
  {
   "cell_type": "markdown",
   "metadata": {},
   "source": [
    "  \n",
    "---\n",
    "# 1.3 リストの作成\n",
    "複数の情報を同時に持つリストについて学習していきましょう。"
   ]
  },
  {
   "cell_type": "code",
   "execution_count": 141,
   "metadata": {},
   "outputs": [],
   "source": [
    "# 数字が複数格納されたリストを作成\n",
    "list1 = [10, 20, 30]\n",
    "list1"
   ]
  },
  {
   "cell_type": "code",
   "execution_count": 142,
   "metadata": {},
   "outputs": [],
   "source": [
    "# 文字列が複数格納されたリストを作成\n",
    "list2 = ['田村', '河瀬']\n",
    "list2"
   ]
  },
  {
   "cell_type": "code",
   "execution_count": 143,
   "metadata": {},
   "outputs": [],
   "source": [
    "# リストの要素は型が異なっても問題ない\n",
    "list3 = [3.14, 10, True, '山田']\n",
    "list3"
   ]
  },
  {
   "cell_type": "markdown",
   "metadata": {},
   "source": [
    "---\n",
    "## リストの要素を参照\n",
    "リストの中の特定の要素を取り出していきましょう。  \n",
    "インデックスの始まりに注意しましょう!!"
   ]
  },
  {
   "cell_type": "code",
   "execution_count": 144,
   "metadata": {},
   "outputs": [],
   "source": [
    "# list1 から ０番目 の要素を取得する ※インデックスは０から始まる\n",
    "list1 = [10, 20, 30]\n",
    "list1[0]"
   ]
  },
  {
   "cell_type": "code",
   "execution_count": 145,
   "metadata": {},
   "outputs": [],
   "source": [
    "# list1 から １番目 の要素を取得する ※インデックスは０から始まる\n",
    "list1 = [10, 20, 30]\n",
    "list1[1]"
   ]
  },
  {
   "cell_type": "code",
   "execution_count": 146,
   "metadata": {},
   "outputs": [],
   "source": [
    "# 存在しないインデックスを指定した場合はエラーが発生する\n",
    "list1 = [10, 20, 30]\n",
    "list1[3]"
   ]
  },
  {
   "cell_type": "code",
   "execution_count": 147,
   "metadata": {},
   "outputs": [],
   "source": [
    "# 負の数をインデックスに指定するとリストを後ろから順に参照できる\n",
    "# list1 から 後ろから１番目 の要素を取得する\n",
    "# 以下は list1[2] に相当する\n",
    "list1 = [10, 20, 30]\n",
    "list1[-1]"
   ]
  },
  {
   "cell_type": "code",
   "execution_count": 148,
   "metadata": {},
   "outputs": [],
   "source": [
    "# list1 から 後ろから２番目 の要素を取得する\n",
    "list1 = [10, 20, 30]\n",
    "list1[-2]"
   ]
  },
  {
   "cell_type": "code",
   "execution_count": 149,
   "metadata": {},
   "outputs": [],
   "source": [
    "# 負の数の場合でも存在しないインデックスを指定した場合はエラーが発生する\n",
    "list1 = [10, 20, 30]\n",
    "list1[-4]"
   ]
  },
  {
   "cell_type": "markdown",
   "metadata": {},
   "source": [
    "---\n",
    "## リストの要素を範囲で参照\n",
    "スライス記法をマスターすることで複雑な取り出し方が可能になります。  \n",
    "使う場面は少ないですが、効率的に取得できるので覚えておきましょう。"
   ]
  },
  {
   "cell_type": "code",
   "execution_count": 150,
   "metadata": {},
   "outputs": [],
   "source": [
    "# list1 から ０番目 ～ ２番目 まで(２番目を含めない)の範囲を取得する\n",
    "list1 = [10, 20, 30]\n",
    "list1[0:2]"
   ]
  },
  {
   "cell_type": "code",
   "execution_count": 151,
   "metadata": {},
   "outputs": [],
   "source": [
    "# 開始 に何も指定しない場合は「最初の要素～」を意味する\n",
    "# list1 から 最初の要素 ～ ２番目 までの要素を取得する\n",
    "list1 = [10, 20, 30]\n",
    "list1[:2]"
   ]
  },
  {
   "cell_type": "code",
   "execution_count": 152,
   "metadata": {},
   "outputs": [],
   "source": [
    "# 終了 に何も指定しない場合は「～最後の要素まで」を意味する\n",
    "# list1 から １番目 ～ 最後の要素 までの要素を取得する\n",
    "list1 = [10, 20, 30]\n",
    "list1[1:]"
   ]
  },
  {
   "cell_type": "code",
   "execution_count": 153,
   "metadata": {},
   "outputs": [],
   "source": [
    "# 開始 と 終了 のどちらもからの場合はすべての要素を取得する\n",
    "# ※リストをコピーした別物のリストを用意する\n",
    "# 　よって、以下の list1[:] と list1 は中身の要素は同じだが実態は異なるものである。\n",
    "list1 = [10, 20, 30]\n",
    "list1[:]"
   ]
  },
  {
   "cell_type": "code",
   "execution_count": 155,
   "metadata": {},
   "outputs": [],
   "source": [
    "# list1 の要素を　２個飛ばしで取得する\n",
    "list1 = [10, 20, 30]\n",
    "list1[::2]"
   ]
  },
  {
   "cell_type": "code",
   "execution_count": 156,
   "metadata": {},
   "outputs": [],
   "source": [
    "# list1 の要素を　逆順で取得する\n",
    "list1 = [10, 20, 30]\n",
    "list1[::-1]"
   ]
  },
  {
   "cell_type": "markdown",
   "metadata": {},
   "source": [
    "---\n",
    "## リストの要素を変更\n",
    "要素の変更は、indexを指定することで行うことができます"
   ]
  },
  {
   "cell_type": "code",
   "execution_count": 157,
   "metadata": {},
   "outputs": [],
   "source": [
    "list1 = [10, 20, 30]\n",
    "# list1 の ０番目 の要素を １００ に変更する\n",
    "list1[0] = 100\n",
    "list1[0]"
   ]
  },
  {
   "cell_type": "code",
   "execution_count": 158,
   "metadata": {},
   "outputs": [],
   "source": [
    "# list1 の ０番目 の型を str型 に変更する\n",
    "list1 = [10, 20, 30]\n",
    "list1[0] = str(list1[0])\n",
    "list1"
   ]
  },
  {
   "cell_type": "code",
   "execution_count": 159,
   "metadata": {},
   "outputs": [],
   "source": [
    "list1 = [10, 20, 30]\n",
    "#indexごとの値を一気に変えることもできる\n",
    "list1[0] , list1[1]=  list1[1] , list1[0]\n",
    "list1"
   ]
  },
  {
   "cell_type": "markdown",
   "metadata": {},
   "source": [
    "---\n",
    "# Exercise 01-1 問題"
   ]
  },
  {
   "cell_type": "markdown",
   "metadata": {},
   "source": [
    "### (1) 型と出力\n",
    "以下の問題をprint関数を用いて出力せよ\n",
    "```python\n",
    "n = input(\"半角数字を入力してください：\")\n",
    "この時 n の型を出力せよ。\n",
    "```"
   ]
  },
  {
   "cell_type": "code",
   "execution_count": null,
   "metadata": {},
   "outputs": [],
   "source": [
    "n = input(\"半角数字を入力してください：\")\n",
    "# ここに記述せよ"
   ]
  },
  {
   "cell_type": "markdown",
   "metadata": {},
   "source": [
    "### (2) 型とリスト\n",
    "```python\n",
    "list1 = [0, \"1\", 2, \"3\", 4, \"5\", 6, \"7\", 8, \"9\", 10]がある。\n",
    "この時list1[6]の型を調べよ。\n",
    "```"
   ]
  },
  {
   "cell_type": "code",
   "execution_count": 115,
   "metadata": {},
   "outputs": [],
   "source": [
    "list1 = [0, \"1\", 2, \"3\", 4, \"5\", 6, \"7\", 8, \"9\", 10]\n",
    "# ここに記述せよ"
   ]
  },
  {
   "cell_type": "markdown",
   "metadata": {},
   "source": [
    "### (3)リストの中のリスト(二次配列)\n",
    "```python\n",
    "list2 = [0, 1., \"2\", True, [4]]がある。\n",
    "この時【4】のみを取り出せ。([4]ではなく、4のみを解とする)\n",
    "```"
   ]
  },
  {
   "cell_type": "code",
   "execution_count": 114,
   "metadata": {},
   "outputs": [],
   "source": [
    "list2 = [0, 1., \"2\", True, [4]]\n",
    "# ここに記述せよ"
   ]
  },
  {
   "cell_type": "markdown",
   "metadata": {},
   "source": [
    "### (4) リストの取り出し\n",
    "\n",
    "```python\n",
    "list3 = [0, 1, 2, 3, 4, 5, 6, 7, 8, 9, 10]に対して\n",
    "[1, 2, 3, 4, 5]のみを取り出せ。\n",
    "```"
   ]
  },
  {
   "cell_type": "code",
   "execution_count": 118,
   "metadata": {},
   "outputs": [],
   "source": [
    "list3 = [0, 1, 2, 3, 4, 5, 6, 7, 8, 9, 10]\n",
    "# ここに記述せよ"
   ]
  },
  {
   "cell_type": "markdown",
   "metadata": {},
   "source": [
    "### (5)リストの更新\n",
    "\n",
    "```python\n",
    "list4 = [0, 1, 2, 3, 4, 5, 6]がある。\n",
    "list4[0]を [0, 1, 2]に変更して\n",
    "[[0, 1, 2], 1, 2, 3, 4, 5, 6]を表示させよ。\n",
    "```"
   ]
  },
  {
   "cell_type": "code",
   "execution_count": 120,
   "metadata": {},
   "outputs": [],
   "source": [
    "list4 = [0, 1, 2, 3, 4, 5, 6]\n",
    "# ここに記述せよ"
   ]
  }
 ],
 "metadata": {
  "kernelspec": {
   "display_name": "Python 3",
   "language": "python",
   "name": "python3"
  },
  "language_info": {
   "codemirror_mode": {
    "name": "ipython",
    "version": 3
   },
   "file_extension": ".py",
   "mimetype": "text/x-python",
   "name": "python",
   "nbconvert_exporter": "python",
   "pygments_lexer": "ipython3",
   "version": "3.8.8"
  }
 },
 "nbformat": 4,
 "nbformat_minor": 4
}
