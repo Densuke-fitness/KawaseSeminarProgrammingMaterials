{
 "cells": [
  {
   "cell_type": "markdown",
   "metadata": {},
   "source": [
    "<p style=\"text-align:center\"><font size=\"10\" > Exercise Answer 05</font></p>\n",
    "\n",
    "---\n",
    "---"
   ]
  },
  {
   "cell_type": "markdown",
   "metadata": {},
   "source": [
    "# Exercise 05-1 解答(あくまでも田村の回答)"
   ]
  },
  {
   "cell_type": "markdown",
   "metadata": {},
   "source": [
    "### スクレイピング部分\n",
    "- プログラミングを用いて、YJFの掲示板から日時、タイトル、コメントを含む生のメッセージデータを収集\n",
    "\n",
    "### テキストマイニング部分①\n",
    "- メッセージデータから句読点や日本語以外の文字を削除してノイズを除去\n",
    "- 前処理データの一部を用いたSVM分類用のトレーニングデータの作成\n",
    "    - メッセージデータの中から1000個のメッセージをランダムに選択\n",
    "    - ないため、Antweiler and Frank (2004)やDas and Chen (2007)に倣って手動で強気、弱気、中立のメッセージに分類\n",
    "    - 次に、分類されたメッセージの中から、「売り」「買い」「高」など、強気・弱気の感情に大きく関係するキーワードを選択\n",
    "    -  SVMを用いて、メッセージデータに含まれるキーワードの組み合わせと頻度に基づいて、メッセージを強気、弱気、中立に分類する\n",
    "    \n",
    "### テキストマイニング部分②\n",
    "- 前処理されたすべてのメッセージはをMeCabを用いて解析しメッセージを言葉単位に分解\n",
    "- 言葉単位に分解したデータを元に、学習させたSVMを使いすべてのメッセージを3つのセンチメントクラスに分類\n",
    "\n",
    "---"
   ]
  },
  {
   "cell_type": "markdown",
   "metadata": {},
   "source": [
    "# Exercise 05-2 解答(あくまでも田村の回答)\n",
    "\n",
    "## 今回のスクレイピング部分\n",
    "プログラミングを用いて、YJFの掲示板から日時、タイトル、コメントを含む生のメッセージデータを収集\n",
    "\n",
    "## 課題や不確実な部分\n",
    "1. 論文で集めるメッセージのデータ数とその期間はいくつか\n",
    "    1. 企業ごとに集める数は? \n",
    "    2. 企業ごとで集める期間の設定は?　\n",
    "2. 筆者はPerlで実装したがPythonでスクレイピングをする際に差異はないのか\n",
    "3. タイトル、コメントの取得方法の具体的な内容は何か\n",
    "    1. スクレイピングの際にYJFは動的ページなので対策が必要\n",
    "    2. データを保存する際のデータ構造の設定が不明確\n",
    "    \n",
    " ---"
   ]
  },
  {
   "cell_type": "markdown",
   "metadata": {},
   "source": [
    "# Exercise 05-3 解答(あくまでも田村の回答)\n",
    "\n",
    "## 実装の手順(TODO)\n",
    "\n",
    "\n",
    "1. 環境構築\n",
    " 1. pip install　でseleniumなどのスクレイピングライブラリを取得\n",
    " 2. chrome driverが必要な場合、google colabのOSにインストールする\n",
    " \n",
    " \n",
    "2. 実装(プログラムの動き)\n",
    " 1. 取得したい企業のスレッドにアクセスする\n",
    " 2. 最下部までメッセージをスクロールする\n",
    " 3. クローリングでメッセージデータを取得する\n",
    " 4. 全てのメッセージを取得したら次のスレッドに行く\n",
    " \n",
    " 5. A~Dを繰り返し、取得したい日付までのデータを取得できたらプログラムを終了する\n",
    " 6. 取得したメッセージデータをpandasDataFrameに格納し、csv形式で保存する\n",
    "\n",
    "\n"
   ]
  }
 ],
 "metadata": {
  "kernelspec": {
   "display_name": "Python 3",
   "language": "python",
   "name": "python3"
  },
  "language_info": {
   "codemirror_mode": {
    "name": "ipython",
    "version": 3
   },
   "file_extension": ".py",
   "mimetype": "text/x-python",
   "name": "python",
   "nbconvert_exporter": "python",
   "pygments_lexer": "ipython3",
   "version": "3.8.8"
  }
 },
 "nbformat": 4,
 "nbformat_minor": 4
}
