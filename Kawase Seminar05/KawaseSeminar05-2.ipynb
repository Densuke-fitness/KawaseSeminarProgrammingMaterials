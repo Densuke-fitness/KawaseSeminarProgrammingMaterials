{
  "nbformat": 4,
  "nbformat_minor": 0,
  "metadata": {
    "colab": {
      "name": "KawaseSeminar05-2.ipynb",
      "provenance": [],
      "collapsed_sections": [],
      "toc_visible": true
    },
    "kernelspec": {
      "name": "python3",
      "display_name": "Python 3"
    },
    "language_info": {
      "name": "python"
    }
  },
  "cells": [
    {
      "cell_type": "markdown",
      "metadata": {
        "id": "kYbVVCIy1Dda"
      },
      "source": [
        "<p style=\"text-align:center\"><font size=\"10\" >Kawase Seminar 05-2</font></p>\n",
        "\n",
        "全2回にわけて実際の論文の手法を実践し、スクレイピングとテキストマイングの利用を体験していきます。\n",
        "\n",
        "そんな第5, 6回では、1.実際に現状を把握する, 2.解くための筋道を立てる, 3.Densuke(田村)が実装したコードを読んで2の筋道が実際に正しかったのか確認する, といったことを逐次行っていきます。\n",
        "\n",
        "今回以降は、時間の関係上実装はそこまで行えませんがかなりの学びになるので、皆さんも各自でトライして頂けると良いと思われます💪\n",
        "\n",
        "### **やること**\n",
        "-  今回実装する論文の手法を把握する\n",
        "-  スクレイピング分野における実装を大まかに考える\n",
        "-  大まかな実装を細かい単位に分解し具体的なロジックを組み立てる\n",
        "-  **ロジックをもとに実装する ->イマココ**\n",
        "\n",
        "\n",
        "今回のコードを読む目的としては、どのように田村が実装したのかを田村の思考を理解し、\n",
        "\n",
        "実際に自分で書く際の糧になってもらいことにあります。\n",
        "\n",
        "\n",
        "---\n",
        "### **田村のTODOメモ**\n",
        "1. 環境構築\n",
        " 1. pip install　でseleniumなどのスクレイピングライブラリを取得\n",
        " 2. chrome driverが必要な場合、google colabのOSにインストールする\n",
        " \n",
        " \n",
        "2. 実装(プログラムの動き)\n",
        " 1. 取得したい企業のスレッドにアクセスする\n",
        " 2. 最下部までメッセージをスクロールする\n",
        " 3. クローリングでメッセージデータを取得する\n",
        " 4. 全てのメッセージを取得したら次のスレッドに行く\n",
        " \n",
        " 5. 1~4を繰り返し、取得したい最初の日付から最後に日付までのデータを取得できたらプログラムを終了する\n",
        " 6. 取得したメッセージデータをpandasDataFrameに格納し、csv形式で保存する\n"
      ]
    },
    {
      "cell_type": "markdown",
      "metadata": {
        "id": "PRMayfIQu-L7"
      },
      "source": [
        "## 1. 環境構築\n",
        "\n",
        "**1.1 pip install　でseleniumなどのスクレイピングライブラリを取得**\n",
        "\n",
        "\n",
        "**1.2 chrome driverが必要な場合、google colabのOSにインストールする**"
      ]
    },
    {
      "cell_type": "code",
      "metadata": {
        "id": "N_nkf5fz1Iqd",
        "colab": {
          "base_uri": "https://localhost:8080/"
        },
        "outputId": "3755a8eb-804c-4ae2-f89d-e4e0cdb746de"
      },
      "source": [
        "#seleniumのインストール\n",
        "# reference https://enjoy-a-lot.com/google-colaboratory-selenium/#toc1\n",
        "!pip install selenium\n",
        "\n",
        "!apt-get update\n",
        "!apt install chromium-chromedriver\n",
        "!cp /usr/lib/chromium-browser/chromedriver /usr/bin"
      ],
      "execution_count": 11,
      "outputs": [
        {
          "output_type": "stream",
          "text": [
            "Collecting selenium\n",
            "\u001b[?25l  Downloading https://files.pythonhosted.org/packages/80/d6/4294f0b4bce4de0abf13e17190289f9d0613b0a44e5dd6a7f5ca98459853/selenium-3.141.0-py2.py3-none-any.whl (904kB)\n",
            "\u001b[K     |████████████████████████████████| 911kB 5.4MB/s \n",
            "\u001b[?25hRequirement already satisfied: urllib3 in /usr/local/lib/python3.7/dist-packages (from selenium) (1.24.3)\n",
            "Installing collected packages: selenium\n",
            "Successfully installed selenium-3.141.0\n",
            "Ign:1 https://developer.download.nvidia.com/compute/cuda/repos/ubuntu1804/x86_64  InRelease\n",
            "Get:2 https://cloud.r-project.org/bin/linux/ubuntu bionic-cran40/ InRelease [3,626 B]\n",
            "Hit:3 http://archive.ubuntu.com/ubuntu bionic InRelease\n",
            "Get:4 http://security.ubuntu.com/ubuntu bionic-security InRelease [88.7 kB]\n",
            "Get:5 http://ppa.launchpad.net/c2d4u.team/c2d4u4.0+/ubuntu bionic InRelease [15.9 kB]\n",
            "Ign:6 https://developer.download.nvidia.com/compute/machine-learning/repos/ubuntu1804/x86_64  InRelease\n",
            "Hit:7 https://developer.download.nvidia.com/compute/cuda/repos/ubuntu1804/x86_64  Release\n",
            "Hit:8 https://developer.download.nvidia.com/compute/machine-learning/repos/ubuntu1804/x86_64  Release\n",
            "Get:9 http://archive.ubuntu.com/ubuntu bionic-updates InRelease [88.7 kB]\n",
            "Hit:10 http://ppa.launchpad.net/cran/libgit2/ubuntu bionic InRelease\n",
            "Get:11 https://cloud.r-project.org/bin/linux/ubuntu bionic-cran40/ Packages [52.7 kB]\n",
            "Get:12 http://archive.ubuntu.com/ubuntu bionic-backports InRelease [74.6 kB]\n",
            "Get:13 http://ppa.launchpad.net/deadsnakes/ppa/ubuntu bionic InRelease [15.9 kB]\n",
            "Hit:14 http://ppa.launchpad.net/graphics-drivers/ppa/ubuntu bionic InRelease\n",
            "Get:17 http://ppa.launchpad.net/c2d4u.team/c2d4u4.0+/ubuntu bionic/main Sources [1,750 kB]\n",
            "Get:18 http://security.ubuntu.com/ubuntu bionic-security/universe amd64 Packages [1,402 kB]\n",
            "Get:19 http://archive.ubuntu.com/ubuntu bionic-updates/main amd64 Packages [2,476 kB]\n",
            "Get:20 http://security.ubuntu.com/ubuntu bionic-security/main amd64 Packages [2,045 kB]\n",
            "Get:21 http://ppa.launchpad.net/c2d4u.team/c2d4u4.0+/ubuntu bionic/main amd64 Packages [895 kB]\n",
            "Get:22 http://archive.ubuntu.com/ubuntu bionic-updates/universe amd64 Packages [2,173 kB]\n",
            "Get:23 http://ppa.launchpad.net/deadsnakes/ppa/ubuntu bionic/main amd64 Packages [39.5 kB]\n",
            "Fetched 11.1 MB in 3s (3,360 kB/s)\n",
            "Reading package lists... Done\n",
            "Reading package lists... Done\n",
            "Building dependency tree       \n",
            "Reading state information... Done\n",
            "The following additional packages will be installed:\n",
            "  chromium-browser chromium-browser-l10n chromium-codecs-ffmpeg-extra\n",
            "Suggested packages:\n",
            "  webaccounts-chromium-extension unity-chromium-extension\n",
            "The following NEW packages will be installed:\n",
            "  chromium-browser chromium-browser-l10n chromium-chromedriver\n",
            "  chromium-codecs-ffmpeg-extra\n",
            "0 upgraded, 4 newly installed, 0 to remove and 62 not upgraded.\n",
            "Need to get 83.2 MB of archives.\n",
            "After this operation, 282 MB of additional disk space will be used.\n",
            "Get:1 http://archive.ubuntu.com/ubuntu bionic-updates/universe amd64 chromium-codecs-ffmpeg-extra amd64 89.0.4389.90-0ubuntu0.18.04.2 [1,127 kB]\n",
            "Get:2 http://archive.ubuntu.com/ubuntu bionic-updates/universe amd64 chromium-browser amd64 89.0.4389.90-0ubuntu0.18.04.2 [73.6 MB]\n",
            "Get:3 http://archive.ubuntu.com/ubuntu bionic-updates/universe amd64 chromium-browser-l10n all 89.0.4389.90-0ubuntu0.18.04.2 [3,809 kB]\n",
            "Get:4 http://archive.ubuntu.com/ubuntu bionic-updates/universe amd64 chromium-chromedriver amd64 89.0.4389.90-0ubuntu0.18.04.2 [4,697 kB]\n",
            "Fetched 83.2 MB in 10s (8,165 kB/s)\n",
            "Selecting previously unselected package chromium-codecs-ffmpeg-extra.\n",
            "(Reading database ... 160980 files and directories currently installed.)\n",
            "Preparing to unpack .../chromium-codecs-ffmpeg-extra_89.0.4389.90-0ubuntu0.18.04.2_amd64.deb ...\n",
            "Unpacking chromium-codecs-ffmpeg-extra (89.0.4389.90-0ubuntu0.18.04.2) ...\n",
            "Selecting previously unselected package chromium-browser.\n",
            "Preparing to unpack .../chromium-browser_89.0.4389.90-0ubuntu0.18.04.2_amd64.deb ...\n",
            "Unpacking chromium-browser (89.0.4389.90-0ubuntu0.18.04.2) ...\n",
            "Selecting previously unselected package chromium-browser-l10n.\n",
            "Preparing to unpack .../chromium-browser-l10n_89.0.4389.90-0ubuntu0.18.04.2_all.deb ...\n",
            "Unpacking chromium-browser-l10n (89.0.4389.90-0ubuntu0.18.04.2) ...\n",
            "Selecting previously unselected package chromium-chromedriver.\n",
            "Preparing to unpack .../chromium-chromedriver_89.0.4389.90-0ubuntu0.18.04.2_amd64.deb ...\n",
            "Unpacking chromium-chromedriver (89.0.4389.90-0ubuntu0.18.04.2) ...\n",
            "Setting up chromium-codecs-ffmpeg-extra (89.0.4389.90-0ubuntu0.18.04.2) ...\n",
            "Setting up chromium-browser (89.0.4389.90-0ubuntu0.18.04.2) ...\n",
            "update-alternatives: using /usr/bin/chromium-browser to provide /usr/bin/x-www-browser (x-www-browser) in auto mode\n",
            "update-alternatives: using /usr/bin/chromium-browser to provide /usr/bin/gnome-www-browser (gnome-www-browser) in auto mode\n",
            "Setting up chromium-chromedriver (89.0.4389.90-0ubuntu0.18.04.2) ...\n",
            "Setting up chromium-browser-l10n (89.0.4389.90-0ubuntu0.18.04.2) ...\n",
            "Processing triggers for man-db (2.8.3-2ubuntu0.1) ...\n",
            "Processing triggers for hicolor-icon-theme (0.17-2) ...\n",
            "Processing triggers for mime-support (3.60ubuntu1) ...\n",
            "Processing triggers for libc-bin (2.27-3ubuntu1.2) ...\n",
            "/sbin/ldconfig.real: /usr/local/lib/python3.7/dist-packages/ideep4py/lib/libmkldnn.so.0 is not a symbolic link\n",
            "\n",
            "cp: '/usr/lib/chromium-browser/chromedriver' and '/usr/bin/chromedriver' are the same file\n"
          ],
          "name": "stdout"
        }
      ]
    },
    {
      "cell_type": "markdown",
      "metadata": {
        "id": "wuGSsA4Uva8D"
      },
      "source": [
        "\n",
        "## 2. 実装(プログラムの動き)"
      ]
    },
    {
      "cell_type": "markdown",
      "metadata": {
        "id": "1wB2y5NwvlaX"
      },
      "source": [
        "### 試しに動くか確認する"
      ]
    },
    {
      "cell_type": "code",
      "metadata": {
        "id": "GyPwDTOR1g1U",
        "colab": {
          "base_uri": "https://localhost:8080/"
        },
        "outputId": "c13ce55d-8fdb-4d29-f0a8-7392d72dce94"
      },
      "source": [
        "from selenium import webdriver\n",
        "\n",
        "options = webdriver.ChromeOptions()\n",
        "options.add_argument('--headless')\n",
        "options.add_argument('--no-sandbox')\n",
        "options.add_argument('--disable-dev-shm-usage')\n",
        "driver = webdriver.Chrome('chromedriver',options=options)\n",
        "driver.get(\"https://enjoy-a-lot.com/\")  \n",
        "title = driver.find_element_by_class_name('logo-header')\n",
        "print(title.text)"
      ],
      "execution_count": 22,
      "outputs": [
        {
          "output_type": "stream",
          "text": [
            "web_log\n"
          ],
          "name": "stdout"
        }
      ]
    },
    {
      "cell_type": "markdown",
      "metadata": {
        "id": "MgQup9Rfv_jb"
      },
      "source": [
        "  **2.2 最下部までメッセージをスクロールする**"
      ]
    },
    {
      "cell_type": "markdown",
      "metadata": {
        "id": "fLqRG9B_wEPu"
      },
      "source": [
        "ページスクロールの対策\n",
        "https://teratail.com/questions/122242"
      ]
    },
    {
      "cell_type": "code",
      "metadata": {
        "id": "dWr8NsaS1wXh",
        "colab": {
          "base_uri": "https://localhost:8080/"
        },
        "outputId": "7aa56f95-755a-4128-847f-882da5d21f56"
      },
      "source": [
        "import time\n",
        "\n",
        "from selenium import webdriver\n",
        "\n",
        "# Google Drive起動\n",
        "options = webdriver.ChromeOptions()\n",
        "options.add_argument('--headless')\n",
        "options.add_argument('--no-sandbox')\n",
        "options.add_argument('--disable-dev-shm-usage')\n",
        "driver = webdriver.Chrome('chromedriver',options=options)\n",
        "\n",
        "# yahoo表示\n",
        "driver.get('https://finance.yahoo.co.jp/cm/message/1004684/a5aaa1bca5sa5ca5af')\n",
        "\n",
        "# javascriptを実行してページの最下部へ移動\n",
        "# https://teratail.com/questions/122242\n",
        "html01=driver.page_source\n",
        "count = 0\n",
        "while True:\n",
        "    driver.execute_script(\"window.scrollTo(0, document.body.scrollHeight);\")\n",
        "    time.sleep(3)\n",
        "    count += 1\n",
        "    print(count)\n",
        "    html02=driver.page_source\n",
        "    if html01!=html02:\n",
        "        html01=html02\n",
        "    else:\n",
        "        break\n",
        "\n",
        "# https://www.mittsu-kosen.com/%E3%80%90pythonxselenium%E3%80%91web%E3%82%B9%E3%82%AF%E3%83%AC%E3%82%A4%E3%83%94%E3%83%B3%E3%82%B0%E3%81%A7%E3%82%88%E3%81%8F%E4%BD%BF%E3%81%86%E6%93%8D%E4%BD%9C%E3%83%A1%E3%82%BD%E3%83%83/#i-2\n",
        "test = driver.find_elements_by_class_name(\"comText\")\n",
        "\n",
        "\n",
        "print(\"終了しました\")\n",
        "test"
      ],
      "execution_count": 23,
      "outputs": [
        {
          "output_type": "stream",
          "text": [
            "1\n",
            "2\n",
            "3\n",
            "4\n",
            "5\n",
            "6\n",
            "7\n",
            "8\n",
            "9\n",
            "10\n",
            "11\n",
            "終了しました\n"
          ],
          "name": "stdout"
        },
        {
          "output_type": "execute_result",
          "data": {
            "text/plain": [
              "[<selenium.webdriver.remote.webelement.WebElement (session=\"a3a9b89cce4a12cc90c80841ad7a5fe2\", element=\"f0fafc13-f5ac-4a32-bf39-f393936658c1\")>,\n",
              " <selenium.webdriver.remote.webelement.WebElement (session=\"a3a9b89cce4a12cc90c80841ad7a5fe2\", element=\"a441e051-c056-4317-9e2c-f6b907668ef8\")>,\n",
              " <selenium.webdriver.remote.webelement.WebElement (session=\"a3a9b89cce4a12cc90c80841ad7a5fe2\", element=\"a173c565-5ce9-4136-be60-a631299b7dba\")>,\n",
              " <selenium.webdriver.remote.webelement.WebElement (session=\"a3a9b89cce4a12cc90c80841ad7a5fe2\", element=\"7e2bdf7f-b2de-477f-8e6c-b3d528221f75\")>,\n",
              " <selenium.webdriver.remote.webelement.WebElement (session=\"a3a9b89cce4a12cc90c80841ad7a5fe2\", element=\"b21d5994-b975-4c68-91c0-241fca43983b\")>,\n",
              " <selenium.webdriver.remote.webelement.WebElement (session=\"a3a9b89cce4a12cc90c80841ad7a5fe2\", element=\"fa507d68-606d-4587-aec2-f8bc49b4c0a0\")>,\n",
              " <selenium.webdriver.remote.webelement.WebElement (session=\"a3a9b89cce4a12cc90c80841ad7a5fe2\", element=\"1a731c44-0d3e-412b-848a-7262ed938882\")>,\n",
              " <selenium.webdriver.remote.webelement.WebElement (session=\"a3a9b89cce4a12cc90c80841ad7a5fe2\", element=\"dbf3f168-53c2-4e70-8cbf-c4078b886456\")>,\n",
              " <selenium.webdriver.remote.webelement.WebElement (session=\"a3a9b89cce4a12cc90c80841ad7a5fe2\", element=\"f971ef9f-a12f-4297-9be9-b98dfa119046\")>,\n",
              " <selenium.webdriver.remote.webelement.WebElement (session=\"a3a9b89cce4a12cc90c80841ad7a5fe2\", element=\"6926663d-f549-4ee5-8803-4aaac4d8b625\")>,\n",
              " <selenium.webdriver.remote.webelement.WebElement (session=\"a3a9b89cce4a12cc90c80841ad7a5fe2\", element=\"a009d6ef-5320-46f8-bfab-757b22870688\")>,\n",
              " <selenium.webdriver.remote.webelement.WebElement (session=\"a3a9b89cce4a12cc90c80841ad7a5fe2\", element=\"e75d3175-e850-48dd-9341-51c8d5808074\")>,\n",
              " <selenium.webdriver.remote.webelement.WebElement (session=\"a3a9b89cce4a12cc90c80841ad7a5fe2\", element=\"21a8bb3f-edb4-4213-aa29-64cec55bcebb\")>,\n",
              " <selenium.webdriver.remote.webelement.WebElement (session=\"a3a9b89cce4a12cc90c80841ad7a5fe2\", element=\"9284857f-7fdd-4a0d-9aee-8a7b5f2dfe76\")>,\n",
              " <selenium.webdriver.remote.webelement.WebElement (session=\"a3a9b89cce4a12cc90c80841ad7a5fe2\", element=\"7ff19f65-022a-4e03-b5a8-d65a13f51cba\")>,\n",
              " <selenium.webdriver.remote.webelement.WebElement (session=\"a3a9b89cce4a12cc90c80841ad7a5fe2\", element=\"bf7fa0d6-1f42-47b9-957f-cae3eb85bcc1\")>,\n",
              " <selenium.webdriver.remote.webelement.WebElement (session=\"a3a9b89cce4a12cc90c80841ad7a5fe2\", element=\"005eb13f-8ca1-4789-87b6-a94b4f40b121\")>,\n",
              " <selenium.webdriver.remote.webelement.WebElement (session=\"a3a9b89cce4a12cc90c80841ad7a5fe2\", element=\"1b2170d1-352b-4cb1-ad36-a3240fa47da3\")>,\n",
              " <selenium.webdriver.remote.webelement.WebElement (session=\"a3a9b89cce4a12cc90c80841ad7a5fe2\", element=\"f98924d9-a16c-4cb4-8445-21181093d5ef\")>,\n",
              " <selenium.webdriver.remote.webelement.WebElement (session=\"a3a9b89cce4a12cc90c80841ad7a5fe2\", element=\"e1b163b2-af68-4f4d-af8f-1d10ab4d0854\")>,\n",
              " <selenium.webdriver.remote.webelement.WebElement (session=\"a3a9b89cce4a12cc90c80841ad7a5fe2\", element=\"3c098525-5150-46fd-82be-8a1e9d9ce15b\")>,\n",
              " <selenium.webdriver.remote.webelement.WebElement (session=\"a3a9b89cce4a12cc90c80841ad7a5fe2\", element=\"64b8b811-0527-4095-b04d-2bff87046093\")>,\n",
              " <selenium.webdriver.remote.webelement.WebElement (session=\"a3a9b89cce4a12cc90c80841ad7a5fe2\", element=\"695299bf-f585-45cd-83b3-c6c6246e4926\")>,\n",
              " <selenium.webdriver.remote.webelement.WebElement (session=\"a3a9b89cce4a12cc90c80841ad7a5fe2\", element=\"39c2bce8-7293-4479-8c44-a65f5c54bff1\")>,\n",
              " <selenium.webdriver.remote.webelement.WebElement (session=\"a3a9b89cce4a12cc90c80841ad7a5fe2\", element=\"b9246650-6f11-4e0e-b0bd-91a5a45e10cc\")>,\n",
              " <selenium.webdriver.remote.webelement.WebElement (session=\"a3a9b89cce4a12cc90c80841ad7a5fe2\", element=\"ef861b93-4730-41a4-8c12-31248936fa47\")>,\n",
              " <selenium.webdriver.remote.webelement.WebElement (session=\"a3a9b89cce4a12cc90c80841ad7a5fe2\", element=\"7aff7e87-fb37-4e50-aa35-d661d296bcd6\")>,\n",
              " <selenium.webdriver.remote.webelement.WebElement (session=\"a3a9b89cce4a12cc90c80841ad7a5fe2\", element=\"5c2062a6-996a-43f0-8220-fb23a275f45e\")>,\n",
              " <selenium.webdriver.remote.webelement.WebElement (session=\"a3a9b89cce4a12cc90c80841ad7a5fe2\", element=\"e4e67c16-5b4c-4e1b-ac51-713d0ff778e4\")>,\n",
              " <selenium.webdriver.remote.webelement.WebElement (session=\"a3a9b89cce4a12cc90c80841ad7a5fe2\", element=\"e980c2c6-bc1d-4cb7-8a0b-70f22d007af0\")>,\n",
              " <selenium.webdriver.remote.webelement.WebElement (session=\"a3a9b89cce4a12cc90c80841ad7a5fe2\", element=\"544147d3-f100-4ac5-95f7-7900a1c75232\")>,\n",
              " <selenium.webdriver.remote.webelement.WebElement (session=\"a3a9b89cce4a12cc90c80841ad7a5fe2\", element=\"4540dab4-9740-42b0-aa05-819b37370b22\")>,\n",
              " <selenium.webdriver.remote.webelement.WebElement (session=\"a3a9b89cce4a12cc90c80841ad7a5fe2\", element=\"d97f6fb7-0141-4d4a-b77e-2d26d5fcbdd4\")>,\n",
              " <selenium.webdriver.remote.webelement.WebElement (session=\"a3a9b89cce4a12cc90c80841ad7a5fe2\", element=\"897efb9e-6a16-4bf6-bed6-6680bb5e782f\")>,\n",
              " <selenium.webdriver.remote.webelement.WebElement (session=\"a3a9b89cce4a12cc90c80841ad7a5fe2\", element=\"34b5a13b-4427-420c-a522-b4a99742fd3d\")>,\n",
              " <selenium.webdriver.remote.webelement.WebElement (session=\"a3a9b89cce4a12cc90c80841ad7a5fe2\", element=\"5dfcdffa-ea82-47c9-af8c-e22a78dcbe34\")>,\n",
              " <selenium.webdriver.remote.webelement.WebElement (session=\"a3a9b89cce4a12cc90c80841ad7a5fe2\", element=\"f881d839-06f7-469c-80b8-d4887cc869f8\")>,\n",
              " <selenium.webdriver.remote.webelement.WebElement (session=\"a3a9b89cce4a12cc90c80841ad7a5fe2\", element=\"5fd2982b-1933-4d90-92f3-481ad41b2d69\")>,\n",
              " <selenium.webdriver.remote.webelement.WebElement (session=\"a3a9b89cce4a12cc90c80841ad7a5fe2\", element=\"93b94aea-0b98-4cd1-aab1-6df777351023\")>,\n",
              " <selenium.webdriver.remote.webelement.WebElement (session=\"a3a9b89cce4a12cc90c80841ad7a5fe2\", element=\"dca39dc9-7782-412d-86e1-fa69e76d519d\")>,\n",
              " <selenium.webdriver.remote.webelement.WebElement (session=\"a3a9b89cce4a12cc90c80841ad7a5fe2\", element=\"cc27d0cc-5042-4eba-a97c-a80f7f55b109\")>,\n",
              " <selenium.webdriver.remote.webelement.WebElement (session=\"a3a9b89cce4a12cc90c80841ad7a5fe2\", element=\"43dc0439-0769-471c-8180-1eeaf28ef06b\")>,\n",
              " <selenium.webdriver.remote.webelement.WebElement (session=\"a3a9b89cce4a12cc90c80841ad7a5fe2\", element=\"9993538e-249c-4171-aaf3-1f8b5f8bda73\")>,\n",
              " <selenium.webdriver.remote.webelement.WebElement (session=\"a3a9b89cce4a12cc90c80841ad7a5fe2\", element=\"db36db2f-5dd2-45fc-b905-fee64b3e29d4\")>,\n",
              " <selenium.webdriver.remote.webelement.WebElement (session=\"a3a9b89cce4a12cc90c80841ad7a5fe2\", element=\"2cb131c6-dac7-43a2-8bee-a70352c4aa58\")>,\n",
              " <selenium.webdriver.remote.webelement.WebElement (session=\"a3a9b89cce4a12cc90c80841ad7a5fe2\", element=\"4aae045b-0644-4a50-beb8-45dd3fd5567d\")>,\n",
              " <selenium.webdriver.remote.webelement.WebElement (session=\"a3a9b89cce4a12cc90c80841ad7a5fe2\", element=\"7710a3d7-4edb-4a3f-a6e7-4054116d7c98\")>,\n",
              " <selenium.webdriver.remote.webelement.WebElement (session=\"a3a9b89cce4a12cc90c80841ad7a5fe2\", element=\"db4fd0c4-fc28-404d-91c3-754a62db54f9\")>,\n",
              " <selenium.webdriver.remote.webelement.WebElement (session=\"a3a9b89cce4a12cc90c80841ad7a5fe2\", element=\"377dba71-d8ab-440c-afb8-d3fffe2530df\")>,\n",
              " <selenium.webdriver.remote.webelement.WebElement (session=\"a3a9b89cce4a12cc90c80841ad7a5fe2\", element=\"7e7aabea-aa7d-46f9-ad47-ad3f7c4a9b03\")>,\n",
              " <selenium.webdriver.remote.webelement.WebElement (session=\"a3a9b89cce4a12cc90c80841ad7a5fe2\", element=\"7c738767-8a1b-4815-848f-e16605fcd6c3\")>,\n",
              " <selenium.webdriver.remote.webelement.WebElement (session=\"a3a9b89cce4a12cc90c80841ad7a5fe2\", element=\"0d6597d8-235e-471d-b17b-fffaa36d4295\")>,\n",
              " <selenium.webdriver.remote.webelement.WebElement (session=\"a3a9b89cce4a12cc90c80841ad7a5fe2\", element=\"d74a7758-67c5-4904-8712-227781a6d33e\")>,\n",
              " <selenium.webdriver.remote.webelement.WebElement (session=\"a3a9b89cce4a12cc90c80841ad7a5fe2\", element=\"181a0cbf-36f3-49a5-a714-ef02a874d334\")>,\n",
              " <selenium.webdriver.remote.webelement.WebElement (session=\"a3a9b89cce4a12cc90c80841ad7a5fe2\", element=\"bf083199-ef6e-4090-a703-e44125e12b35\")>,\n",
              " <selenium.webdriver.remote.webelement.WebElement (session=\"a3a9b89cce4a12cc90c80841ad7a5fe2\", element=\"a5e36ef7-4046-472e-8bd7-e1edbb208971\")>,\n",
              " <selenium.webdriver.remote.webelement.WebElement (session=\"a3a9b89cce4a12cc90c80841ad7a5fe2\", element=\"3139ab1d-5dae-400b-8dd1-54049cf4ba99\")>,\n",
              " <selenium.webdriver.remote.webelement.WebElement (session=\"a3a9b89cce4a12cc90c80841ad7a5fe2\", element=\"dcc61043-a7a4-4e56-a56c-bc3f0be83d7c\")>,\n",
              " <selenium.webdriver.remote.webelement.WebElement (session=\"a3a9b89cce4a12cc90c80841ad7a5fe2\", element=\"8294dcda-382b-49c2-ab49-0a12e8d64551\")>,\n",
              " <selenium.webdriver.remote.webelement.WebElement (session=\"a3a9b89cce4a12cc90c80841ad7a5fe2\", element=\"a3281d6d-5a7b-4798-a5b9-3d10c1c9a6ba\")>,\n",
              " <selenium.webdriver.remote.webelement.WebElement (session=\"a3a9b89cce4a12cc90c80841ad7a5fe2\", element=\"9d105b4a-1ebe-4c7b-9ade-9ea19d184bfe\")>,\n",
              " <selenium.webdriver.remote.webelement.WebElement (session=\"a3a9b89cce4a12cc90c80841ad7a5fe2\", element=\"8b151af1-bbec-4630-8896-db3181841ca4\")>,\n",
              " <selenium.webdriver.remote.webelement.WebElement (session=\"a3a9b89cce4a12cc90c80841ad7a5fe2\", element=\"6f6b39bf-38c1-42c9-b46c-a9dd75e41006\")>,\n",
              " <selenium.webdriver.remote.webelement.WebElement (session=\"a3a9b89cce4a12cc90c80841ad7a5fe2\", element=\"2d097323-6754-4c63-986b-19af34fad73b\")>,\n",
              " <selenium.webdriver.remote.webelement.WebElement (session=\"a3a9b89cce4a12cc90c80841ad7a5fe2\", element=\"f9334b9e-17c1-477c-8db3-d734fecbbf27\")>,\n",
              " <selenium.webdriver.remote.webelement.WebElement (session=\"a3a9b89cce4a12cc90c80841ad7a5fe2\", element=\"df1693b5-7aa7-4c27-9d81-58f4cc2a78a6\")>,\n",
              " <selenium.webdriver.remote.webelement.WebElement (session=\"a3a9b89cce4a12cc90c80841ad7a5fe2\", element=\"b6904f12-b2ac-4a33-8b93-18281509df03\")>,\n",
              " <selenium.webdriver.remote.webelement.WebElement (session=\"a3a9b89cce4a12cc90c80841ad7a5fe2\", element=\"b10e078c-c54e-4190-808b-5f38e5139a25\")>,\n",
              " <selenium.webdriver.remote.webelement.WebElement (session=\"a3a9b89cce4a12cc90c80841ad7a5fe2\", element=\"16361597-0399-471b-a817-28639bf3d06e\")>,\n",
              " <selenium.webdriver.remote.webelement.WebElement (session=\"a3a9b89cce4a12cc90c80841ad7a5fe2\", element=\"cd192a15-0aaf-422f-b222-3d4a63c3abff\")>,\n",
              " <selenium.webdriver.remote.webelement.WebElement (session=\"a3a9b89cce4a12cc90c80841ad7a5fe2\", element=\"269196d3-1c52-4b77-9a5b-5d39ebcf9586\")>,\n",
              " <selenium.webdriver.remote.webelement.WebElement (session=\"a3a9b89cce4a12cc90c80841ad7a5fe2\", element=\"882d37cc-6e45-4923-92c5-bfd7b13ec8dc\")>,\n",
              " <selenium.webdriver.remote.webelement.WebElement (session=\"a3a9b89cce4a12cc90c80841ad7a5fe2\", element=\"75c1651e-c29c-41e9-8948-eb3dbd27335f\")>,\n",
              " <selenium.webdriver.remote.webelement.WebElement (session=\"a3a9b89cce4a12cc90c80841ad7a5fe2\", element=\"d35aabf7-47ae-489b-8c5f-e82a2b7a509f\")>,\n",
              " <selenium.webdriver.remote.webelement.WebElement (session=\"a3a9b89cce4a12cc90c80841ad7a5fe2\", element=\"315acda7-74f8-4905-a63a-e8c6e4dcacf7\")>,\n",
              " <selenium.webdriver.remote.webelement.WebElement (session=\"a3a9b89cce4a12cc90c80841ad7a5fe2\", element=\"8b513af7-d4be-446f-8537-c270cf8e2a6a\")>,\n",
              " <selenium.webdriver.remote.webelement.WebElement (session=\"a3a9b89cce4a12cc90c80841ad7a5fe2\", element=\"267848a9-86dd-455f-b147-00321dc5bff1\")>,\n",
              " <selenium.webdriver.remote.webelement.WebElement (session=\"a3a9b89cce4a12cc90c80841ad7a5fe2\", element=\"2e7237be-4989-4c29-ba10-95e474855855\")>,\n",
              " <selenium.webdriver.remote.webelement.WebElement (session=\"a3a9b89cce4a12cc90c80841ad7a5fe2\", element=\"3f14d320-1a54-409e-8381-f0fe10592940\")>,\n",
              " <selenium.webdriver.remote.webelement.WebElement (session=\"a3a9b89cce4a12cc90c80841ad7a5fe2\", element=\"51a0fc4d-4f7c-4590-b4d0-ad1ae54dc292\")>,\n",
              " <selenium.webdriver.remote.webelement.WebElement (session=\"a3a9b89cce4a12cc90c80841ad7a5fe2\", element=\"fe6737eb-59d1-4f1b-b45a-4c685405e2cb\")>,\n",
              " <selenium.webdriver.remote.webelement.WebElement (session=\"a3a9b89cce4a12cc90c80841ad7a5fe2\", element=\"c3696857-8c5b-4de7-81b8-0777e6b4b930\")>,\n",
              " <selenium.webdriver.remote.webelement.WebElement (session=\"a3a9b89cce4a12cc90c80841ad7a5fe2\", element=\"a088e40b-4cb6-45fa-87c7-947a993a8ca8\")>,\n",
              " <selenium.webdriver.remote.webelement.WebElement (session=\"a3a9b89cce4a12cc90c80841ad7a5fe2\", element=\"b419cd62-8a23-4b6c-aa18-f1005d43e62e\")>,\n",
              " <selenium.webdriver.remote.webelement.WebElement (session=\"a3a9b89cce4a12cc90c80841ad7a5fe2\", element=\"b3b2fb40-295f-49e7-8693-ec3950a646cf\")>,\n",
              " <selenium.webdriver.remote.webelement.WebElement (session=\"a3a9b89cce4a12cc90c80841ad7a5fe2\", element=\"0fe08c64-c740-46da-b894-b06b7210c6b4\")>,\n",
              " <selenium.webdriver.remote.webelement.WebElement (session=\"a3a9b89cce4a12cc90c80841ad7a5fe2\", element=\"c0f60dda-081c-44e7-97e5-579e22238b07\")>,\n",
              " <selenium.webdriver.remote.webelement.WebElement (session=\"a3a9b89cce4a12cc90c80841ad7a5fe2\", element=\"a687c2e3-df81-4bd1-8d70-77f642304f12\")>,\n",
              " <selenium.webdriver.remote.webelement.WebElement (session=\"a3a9b89cce4a12cc90c80841ad7a5fe2\", element=\"a8f18dc9-8fb9-4435-8b11-5f28b6c5b2b3\")>,\n",
              " <selenium.webdriver.remote.webelement.WebElement (session=\"a3a9b89cce4a12cc90c80841ad7a5fe2\", element=\"873887d9-b3ba-4a32-8004-33eff8ceb39b\")>,\n",
              " <selenium.webdriver.remote.webelement.WebElement (session=\"a3a9b89cce4a12cc90c80841ad7a5fe2\", element=\"927d5184-dac3-4f6f-8e9e-024cb08a6726\")>,\n",
              " <selenium.webdriver.remote.webelement.WebElement (session=\"a3a9b89cce4a12cc90c80841ad7a5fe2\", element=\"72af5d18-c0b3-4125-84de-decde48295c9\")>,\n",
              " <selenium.webdriver.remote.webelement.WebElement (session=\"a3a9b89cce4a12cc90c80841ad7a5fe2\", element=\"0ae5c72b-6811-4bac-a18e-3e169d9812db\")>,\n",
              " <selenium.webdriver.remote.webelement.WebElement (session=\"a3a9b89cce4a12cc90c80841ad7a5fe2\", element=\"9fc69acc-d45d-4d8e-995e-b11be7ac15b6\")>,\n",
              " <selenium.webdriver.remote.webelement.WebElement (session=\"a3a9b89cce4a12cc90c80841ad7a5fe2\", element=\"37b5bb11-a201-4528-b294-b2d88cc0a8ca\")>,\n",
              " <selenium.webdriver.remote.webelement.WebElement (session=\"a3a9b89cce4a12cc90c80841ad7a5fe2\", element=\"12157288-64d9-488c-9ad1-2770c3d2f7f1\")>,\n",
              " <selenium.webdriver.remote.webelement.WebElement (session=\"a3a9b89cce4a12cc90c80841ad7a5fe2\", element=\"14d4ad28-e757-4a40-9ecd-dfa7ae45eaf6\")>,\n",
              " <selenium.webdriver.remote.webelement.WebElement (session=\"a3a9b89cce4a12cc90c80841ad7a5fe2\", element=\"1fa1492a-c402-41c0-b4e1-4cf7f00096e5\")>,\n",
              " <selenium.webdriver.remote.webelement.WebElement (session=\"a3a9b89cce4a12cc90c80841ad7a5fe2\", element=\"19f97df2-3fa3-4293-b152-82724925e81a\")>,\n",
              " <selenium.webdriver.remote.webelement.WebElement (session=\"a3a9b89cce4a12cc90c80841ad7a5fe2\", element=\"16f12746-74e2-401c-bc58-afdfa7a9ba69\")>,\n",
              " <selenium.webdriver.remote.webelement.WebElement (session=\"a3a9b89cce4a12cc90c80841ad7a5fe2\", element=\"5319ace5-4db9-4b1b-9ad3-943e50f8cec9\")>,\n",
              " <selenium.webdriver.remote.webelement.WebElement (session=\"a3a9b89cce4a12cc90c80841ad7a5fe2\", element=\"04ecb443-9498-4bfd-8e94-99929d76eb30\")>,\n",
              " <selenium.webdriver.remote.webelement.WebElement (session=\"a3a9b89cce4a12cc90c80841ad7a5fe2\", element=\"0689eb4d-f6ff-4710-9d80-9601a6041276\")>,\n",
              " <selenium.webdriver.remote.webelement.WebElement (session=\"a3a9b89cce4a12cc90c80841ad7a5fe2\", element=\"ad9a9162-1234-40de-88df-8139e76e5bed\")>,\n",
              " <selenium.webdriver.remote.webelement.WebElement (session=\"a3a9b89cce4a12cc90c80841ad7a5fe2\", element=\"6943d259-b81f-450b-aef1-ac57d29fdd8e\")>,\n",
              " <selenium.webdriver.remote.webelement.WebElement (session=\"a3a9b89cce4a12cc90c80841ad7a5fe2\", element=\"b053a52d-69aa-4b50-a075-0bae14dfc77d\")>,\n",
              " <selenium.webdriver.remote.webelement.WebElement (session=\"a3a9b89cce4a12cc90c80841ad7a5fe2\", element=\"d4b8f306-b24a-4f2d-b680-367a2c08d691\")>,\n",
              " <selenium.webdriver.remote.webelement.WebElement (session=\"a3a9b89cce4a12cc90c80841ad7a5fe2\", element=\"83ab3d1d-84e6-43dd-882e-92ffbc3881c8\")>,\n",
              " <selenium.webdriver.remote.webelement.WebElement (session=\"a3a9b89cce4a12cc90c80841ad7a5fe2\", element=\"d2a0f475-41e0-40ee-9ed4-a36c67c64ae4\")>,\n",
              " <selenium.webdriver.remote.webelement.WebElement (session=\"a3a9b89cce4a12cc90c80841ad7a5fe2\", element=\"8f6f0e9e-c62e-46ee-901a-96c733219250\")>,\n",
              " <selenium.webdriver.remote.webelement.WebElement (session=\"a3a9b89cce4a12cc90c80841ad7a5fe2\", element=\"e442ce92-0e5c-4cba-b7f8-0b5955ee385a\")>,\n",
              " <selenium.webdriver.remote.webelement.WebElement (session=\"a3a9b89cce4a12cc90c80841ad7a5fe2\", element=\"233151bf-43cb-47e9-8dae-b4542e1372d6\")>,\n",
              " <selenium.webdriver.remote.webelement.WebElement (session=\"a3a9b89cce4a12cc90c80841ad7a5fe2\", element=\"aa809f8d-0adf-4b9b-a29e-2e3958093090\")>,\n",
              " <selenium.webdriver.remote.webelement.WebElement (session=\"a3a9b89cce4a12cc90c80841ad7a5fe2\", element=\"e2cdf176-5ef7-48f2-932f-bb8491fd7923\")>,\n",
              " <selenium.webdriver.remote.webelement.WebElement (session=\"a3a9b89cce4a12cc90c80841ad7a5fe2\", element=\"5f2b7e1e-d579-41ba-862d-f3b55945bb37\")>,\n",
              " <selenium.webdriver.remote.webelement.WebElement (session=\"a3a9b89cce4a12cc90c80841ad7a5fe2\", element=\"3aba4ffa-972b-4242-952d-82a41503fa96\")>,\n",
              " <selenium.webdriver.remote.webelement.WebElement (session=\"a3a9b89cce4a12cc90c80841ad7a5fe2\", element=\"ec67421f-645f-41f8-8cbd-f9df2c7d435e\")>,\n",
              " <selenium.webdriver.remote.webelement.WebElement (session=\"a3a9b89cce4a12cc90c80841ad7a5fe2\", element=\"03d68fd3-ce16-452e-a4b8-280336501653\")>,\n",
              " <selenium.webdriver.remote.webelement.WebElement (session=\"a3a9b89cce4a12cc90c80841ad7a5fe2\", element=\"d82c9598-58cc-44e3-95f8-7b04375c1668\")>,\n",
              " <selenium.webdriver.remote.webelement.WebElement (session=\"a3a9b89cce4a12cc90c80841ad7a5fe2\", element=\"08483451-912b-4855-b1a2-08e427995c74\")>,\n",
              " <selenium.webdriver.remote.webelement.WebElement (session=\"a3a9b89cce4a12cc90c80841ad7a5fe2\", element=\"896e0012-406a-49dd-9e58-ef16e6c93656\")>,\n",
              " <selenium.webdriver.remote.webelement.WebElement (session=\"a3a9b89cce4a12cc90c80841ad7a5fe2\", element=\"ec4ef803-1e5f-46fc-a048-101e83ad7789\")>,\n",
              " <selenium.webdriver.remote.webelement.WebElement (session=\"a3a9b89cce4a12cc90c80841ad7a5fe2\", element=\"c0b7dde3-31f7-40a6-a25b-0515529fe8ac\")>,\n",
              " <selenium.webdriver.remote.webelement.WebElement (session=\"a3a9b89cce4a12cc90c80841ad7a5fe2\", element=\"24dbe7ef-e9c1-4dfa-b7a7-016ec90cee6a\")>,\n",
              " <selenium.webdriver.remote.webelement.WebElement (session=\"a3a9b89cce4a12cc90c80841ad7a5fe2\", element=\"7d5676db-fd56-4696-8c9e-7d72357cddda\")>,\n",
              " <selenium.webdriver.remote.webelement.WebElement (session=\"a3a9b89cce4a12cc90c80841ad7a5fe2\", element=\"eefe58a7-02ea-4da6-a720-8ce10eeb8a83\")>,\n",
              " <selenium.webdriver.remote.webelement.WebElement (session=\"a3a9b89cce4a12cc90c80841ad7a5fe2\", element=\"8063271f-b4b3-4c89-8438-5afd832b7f59\")>,\n",
              " <selenium.webdriver.remote.webelement.WebElement (session=\"a3a9b89cce4a12cc90c80841ad7a5fe2\", element=\"3241025a-74ae-4810-a259-e5a05f4432fe\")>,\n",
              " <selenium.webdriver.remote.webelement.WebElement (session=\"a3a9b89cce4a12cc90c80841ad7a5fe2\", element=\"f9c4b26a-683d-4d9e-9e66-93cba746ba66\")>,\n",
              " <selenium.webdriver.remote.webelement.WebElement (session=\"a3a9b89cce4a12cc90c80841ad7a5fe2\", element=\"67f841c9-79ce-46a3-af86-6a0f74e7e309\")>,\n",
              " <selenium.webdriver.remote.webelement.WebElement (session=\"a3a9b89cce4a12cc90c80841ad7a5fe2\", element=\"7b8d1f71-a2e3-4d95-944f-f6ca00fe5eb8\")>,\n",
              " <selenium.webdriver.remote.webelement.WebElement (session=\"a3a9b89cce4a12cc90c80841ad7a5fe2\", element=\"b671314a-63d3-42ea-a70e-3de175093cea\")>,\n",
              " <selenium.webdriver.remote.webelement.WebElement (session=\"a3a9b89cce4a12cc90c80841ad7a5fe2\", element=\"46c04850-5021-46e8-9dd9-09400d72f395\")>,\n",
              " <selenium.webdriver.remote.webelement.WebElement (session=\"a3a9b89cce4a12cc90c80841ad7a5fe2\", element=\"dbd284fb-d9da-4a77-a25b-fe9ced4e528c\")>,\n",
              " <selenium.webdriver.remote.webelement.WebElement (session=\"a3a9b89cce4a12cc90c80841ad7a5fe2\", element=\"9274710a-2c14-4d0c-8ca2-ca6d8746e3e2\")>,\n",
              " <selenium.webdriver.remote.webelement.WebElement (session=\"a3a9b89cce4a12cc90c80841ad7a5fe2\", element=\"2ec9ff3f-fa63-4dfb-a381-30c6ec81c920\")>,\n",
              " <selenium.webdriver.remote.webelement.WebElement (session=\"a3a9b89cce4a12cc90c80841ad7a5fe2\", element=\"6a0f757a-708c-4081-b5ce-6654fc759416\")>,\n",
              " <selenium.webdriver.remote.webelement.WebElement (session=\"a3a9b89cce4a12cc90c80841ad7a5fe2\", element=\"e69a1337-585f-4870-81d3-da784e23f61b\")>,\n",
              " <selenium.webdriver.remote.webelement.WebElement (session=\"a3a9b89cce4a12cc90c80841ad7a5fe2\", element=\"1f162d9f-ccb2-4689-9aea-cde73837ac0f\")>,\n",
              " <selenium.webdriver.remote.webelement.WebElement (session=\"a3a9b89cce4a12cc90c80841ad7a5fe2\", element=\"bebd6693-7db8-47ec-945c-69a54319c2ec\")>,\n",
              " <selenium.webdriver.remote.webelement.WebElement (session=\"a3a9b89cce4a12cc90c80841ad7a5fe2\", element=\"065ad62e-4408-487d-acf0-91d8c11e8c98\")>,\n",
              " <selenium.webdriver.remote.webelement.WebElement (session=\"a3a9b89cce4a12cc90c80841ad7a5fe2\", element=\"e6dd09d1-95db-4e22-9d6a-d15672f0f470\")>,\n",
              " <selenium.webdriver.remote.webelement.WebElement (session=\"a3a9b89cce4a12cc90c80841ad7a5fe2\", element=\"de488582-27c2-414a-ab70-947776a85753\")>,\n",
              " <selenium.webdriver.remote.webelement.WebElement (session=\"a3a9b89cce4a12cc90c80841ad7a5fe2\", element=\"0b61b432-190b-4f89-8027-02bf759bd5cf\")>,\n",
              " <selenium.webdriver.remote.webelement.WebElement (session=\"a3a9b89cce4a12cc90c80841ad7a5fe2\", element=\"400e8796-de5d-4a97-9113-8e9cfa37757c\")>,\n",
              " <selenium.webdriver.remote.webelement.WebElement (session=\"a3a9b89cce4a12cc90c80841ad7a5fe2\", element=\"267191ff-1af6-4016-acaf-1d3dc43629df\")>,\n",
              " <selenium.webdriver.remote.webelement.WebElement (session=\"a3a9b89cce4a12cc90c80841ad7a5fe2\", element=\"4ed9927d-d9b4-4f92-90ea-91244e647866\")>,\n",
              " <selenium.webdriver.remote.webelement.WebElement (session=\"a3a9b89cce4a12cc90c80841ad7a5fe2\", element=\"b62c1987-307f-49d4-9d4f-0d8473d9ecc8\")>,\n",
              " <selenium.webdriver.remote.webelement.WebElement (session=\"a3a9b89cce4a12cc90c80841ad7a5fe2\", element=\"cc2a98f5-78a2-4614-a056-022772c832df\")>,\n",
              " <selenium.webdriver.remote.webelement.WebElement (session=\"a3a9b89cce4a12cc90c80841ad7a5fe2\", element=\"fa3888d2-6f3c-4672-8457-d6fb755f140d\")>,\n",
              " <selenium.webdriver.remote.webelement.WebElement (session=\"a3a9b89cce4a12cc90c80841ad7a5fe2\", element=\"b0cca76c-249f-407e-bc05-2422826a23f7\")>,\n",
              " <selenium.webdriver.remote.webelement.WebElement (session=\"a3a9b89cce4a12cc90c80841ad7a5fe2\", element=\"548a4e50-4622-48c5-be91-80390fd418cf\")>,\n",
              " <selenium.webdriver.remote.webelement.WebElement (session=\"a3a9b89cce4a12cc90c80841ad7a5fe2\", element=\"20efe741-32a8-439c-a516-a96f23bd0a7e\")>,\n",
              " <selenium.webdriver.remote.webelement.WebElement (session=\"a3a9b89cce4a12cc90c80841ad7a5fe2\", element=\"3f27201d-bceb-4d9c-96ee-ef12453b68d2\")>,\n",
              " <selenium.webdriver.remote.webelement.WebElement (session=\"a3a9b89cce4a12cc90c80841ad7a5fe2\", element=\"73d1a59a-a5e3-42f4-acd3-760e2d8eccd1\")>,\n",
              " <selenium.webdriver.remote.webelement.WebElement (session=\"a3a9b89cce4a12cc90c80841ad7a5fe2\", element=\"abb174e4-8882-437f-9ed2-338a8690684d\")>,\n",
              " <selenium.webdriver.remote.webelement.WebElement (session=\"a3a9b89cce4a12cc90c80841ad7a5fe2\", element=\"3a8d7fd8-474a-48c7-b225-5af820c1080b\")>,\n",
              " <selenium.webdriver.remote.webelement.WebElement (session=\"a3a9b89cce4a12cc90c80841ad7a5fe2\", element=\"f80c38d9-cea3-4121-a790-61a9a15aa8d1\")>,\n",
              " <selenium.webdriver.remote.webelement.WebElement (session=\"a3a9b89cce4a12cc90c80841ad7a5fe2\", element=\"01f593ac-e463-449e-9850-922cd658cf43\")>,\n",
              " <selenium.webdriver.remote.webelement.WebElement (session=\"a3a9b89cce4a12cc90c80841ad7a5fe2\", element=\"26315336-db6e-4435-96e4-2a29a410a484\")>,\n",
              " <selenium.webdriver.remote.webelement.WebElement (session=\"a3a9b89cce4a12cc90c80841ad7a5fe2\", element=\"90032496-c93c-467b-8f25-9fd463fe40aa\")>,\n",
              " <selenium.webdriver.remote.webelement.WebElement (session=\"a3a9b89cce4a12cc90c80841ad7a5fe2\", element=\"1a4b8f1f-a358-4b18-a7c1-8ee18a85b7dc\")>,\n",
              " <selenium.webdriver.remote.webelement.WebElement (session=\"a3a9b89cce4a12cc90c80841ad7a5fe2\", element=\"2cd4991a-8323-4db7-a161-0dc96d1c2ee4\")>,\n",
              " <selenium.webdriver.remote.webelement.WebElement (session=\"a3a9b89cce4a12cc90c80841ad7a5fe2\", element=\"aacfec26-b69f-49fa-ac51-43ce8ec828f8\")>,\n",
              " <selenium.webdriver.remote.webelement.WebElement (session=\"a3a9b89cce4a12cc90c80841ad7a5fe2\", element=\"f3288c9d-6840-4066-b6ce-a0dcace68b76\")>,\n",
              " <selenium.webdriver.remote.webelement.WebElement (session=\"a3a9b89cce4a12cc90c80841ad7a5fe2\", element=\"9bf279e0-9b75-42a5-9385-9a2d08e019a2\")>,\n",
              " <selenium.webdriver.remote.webelement.WebElement (session=\"a3a9b89cce4a12cc90c80841ad7a5fe2\", element=\"ae2f3e32-80ce-4998-be11-63f5ed38f5a7\")>,\n",
              " <selenium.webdriver.remote.webelement.WebElement (session=\"a3a9b89cce4a12cc90c80841ad7a5fe2\", element=\"8e905462-a222-4926-9c58-ea3cb563cc66\")>,\n",
              " <selenium.webdriver.remote.webelement.WebElement (session=\"a3a9b89cce4a12cc90c80841ad7a5fe2\", element=\"283a86da-45c8-4121-aec4-6c4f7146adee\")>,\n",
              " <selenium.webdriver.remote.webelement.WebElement (session=\"a3a9b89cce4a12cc90c80841ad7a5fe2\", element=\"0088a815-6c2d-4e54-b37a-975b13f16ded\")>,\n",
              " <selenium.webdriver.remote.webelement.WebElement (session=\"a3a9b89cce4a12cc90c80841ad7a5fe2\", element=\"a68eda02-e786-4602-8974-5ab452ab3c77\")>,\n",
              " <selenium.webdriver.remote.webelement.WebElement (session=\"a3a9b89cce4a12cc90c80841ad7a5fe2\", element=\"a2ad0b21-09d1-4394-8328-1edc357b5802\")>,\n",
              " <selenium.webdriver.remote.webelement.WebElement (session=\"a3a9b89cce4a12cc90c80841ad7a5fe2\", element=\"30d03b1b-4106-42ad-88f5-dddc6d6da816\")>,\n",
              " <selenium.webdriver.remote.webelement.WebElement (session=\"a3a9b89cce4a12cc90c80841ad7a5fe2\", element=\"38a2225c-a6b3-4b22-aefd-50b58a7880c9\")>,\n",
              " <selenium.webdriver.remote.webelement.WebElement (session=\"a3a9b89cce4a12cc90c80841ad7a5fe2\", element=\"e2f69095-18eb-4420-bf9a-ed96ff2cb51c\")>,\n",
              " <selenium.webdriver.remote.webelement.WebElement (session=\"a3a9b89cce4a12cc90c80841ad7a5fe2\", element=\"9b1acb3d-f3d4-4fa6-842c-9bec5e063612\")>,\n",
              " <selenium.webdriver.remote.webelement.WebElement (session=\"a3a9b89cce4a12cc90c80841ad7a5fe2\", element=\"f8981163-fda3-436a-9f32-643cd9e0a80b\")>,\n",
              " <selenium.webdriver.remote.webelement.WebElement (session=\"a3a9b89cce4a12cc90c80841ad7a5fe2\", element=\"497a8f77-0acf-4cde-94ef-2cc49312410e\")>,\n",
              " <selenium.webdriver.remote.webelement.WebElement (session=\"a3a9b89cce4a12cc90c80841ad7a5fe2\", element=\"f860c1d5-43fa-4ec0-960a-15e8065a5290\")>,\n",
              " <selenium.webdriver.remote.webelement.WebElement (session=\"a3a9b89cce4a12cc90c80841ad7a5fe2\", element=\"f64eb0af-98d2-4d19-b33a-3f0e08b0ffb0\")>,\n",
              " <selenium.webdriver.remote.webelement.WebElement (session=\"a3a9b89cce4a12cc90c80841ad7a5fe2\", element=\"76014094-6f2d-4b89-9f69-4261736a949e\")>,\n",
              " <selenium.webdriver.remote.webelement.WebElement (session=\"a3a9b89cce4a12cc90c80841ad7a5fe2\", element=\"41a74fd8-5c21-4918-b257-1b3ecda9ee1d\")>,\n",
              " <selenium.webdriver.remote.webelement.WebElement (session=\"a3a9b89cce4a12cc90c80841ad7a5fe2\", element=\"fbf0bd21-e2ad-4924-9321-493a818262c0\")>,\n",
              " <selenium.webdriver.remote.webelement.WebElement (session=\"a3a9b89cce4a12cc90c80841ad7a5fe2\", element=\"85a5a685-17a0-4d47-b6e4-e1ae3d11db1f\")>,\n",
              " <selenium.webdriver.remote.webelement.WebElement (session=\"a3a9b89cce4a12cc90c80841ad7a5fe2\", element=\"580849ca-a330-4ff1-8dcb-4805a134fd2e\")>,\n",
              " <selenium.webdriver.remote.webelement.WebElement (session=\"a3a9b89cce4a12cc90c80841ad7a5fe2\", element=\"2861e3ed-f55c-4b73-aebf-04018cdbe6d7\")>,\n",
              " <selenium.webdriver.remote.webelement.WebElement (session=\"a3a9b89cce4a12cc90c80841ad7a5fe2\", element=\"2c2fcafd-680b-410b-a19d-4aaf8f103e4d\")>,\n",
              " <selenium.webdriver.remote.webelement.WebElement (session=\"a3a9b89cce4a12cc90c80841ad7a5fe2\", element=\"6577a8a4-b154-48a8-a05d-427e09fe893d\")>,\n",
              " <selenium.webdriver.remote.webelement.WebElement (session=\"a3a9b89cce4a12cc90c80841ad7a5fe2\", element=\"9fb6eed8-2e5c-4925-92b5-504f2e863127\")>,\n",
              " <selenium.webdriver.remote.webelement.WebElement (session=\"a3a9b89cce4a12cc90c80841ad7a5fe2\", element=\"3f58a81e-2754-470c-857a-42b043f00b29\")>,\n",
              " <selenium.webdriver.remote.webelement.WebElement (session=\"a3a9b89cce4a12cc90c80841ad7a5fe2\", element=\"04e46560-2cb7-4ca6-8ff8-a01502a6ea62\")>,\n",
              " <selenium.webdriver.remote.webelement.WebElement (session=\"a3a9b89cce4a12cc90c80841ad7a5fe2\", element=\"6437befb-3be8-4f36-84f4-b4cf7ddafe4f\")>,\n",
              " <selenium.webdriver.remote.webelement.WebElement (session=\"a3a9b89cce4a12cc90c80841ad7a5fe2\", element=\"893df777-d20f-4307-9c53-dc607d60af23\")>,\n",
              " <selenium.webdriver.remote.webelement.WebElement (session=\"a3a9b89cce4a12cc90c80841ad7a5fe2\", element=\"96094f03-b3eb-429d-853e-7b82288a3805\")>,\n",
              " <selenium.webdriver.remote.webelement.WebElement (session=\"a3a9b89cce4a12cc90c80841ad7a5fe2\", element=\"0581fdaf-a420-4193-b414-181f796125cd\")>,\n",
              " <selenium.webdriver.remote.webelement.WebElement (session=\"a3a9b89cce4a12cc90c80841ad7a5fe2\", element=\"72862b48-68bb-471b-a541-2e043c34e608\")>,\n",
              " <selenium.webdriver.remote.webelement.WebElement (session=\"a3a9b89cce4a12cc90c80841ad7a5fe2\", element=\"f3a2251d-bc0b-4e84-9407-e232af984d56\")>,\n",
              " <selenium.webdriver.remote.webelement.WebElement (session=\"a3a9b89cce4a12cc90c80841ad7a5fe2\", element=\"4b44a7a3-e34e-4acb-a675-72fb392546db\")>,\n",
              " <selenium.webdriver.remote.webelement.WebElement (session=\"a3a9b89cce4a12cc90c80841ad7a5fe2\", element=\"d1722c19-2748-4fa4-924d-c6fab425a471\")>,\n",
              " <selenium.webdriver.remote.webelement.WebElement (session=\"a3a9b89cce4a12cc90c80841ad7a5fe2\", element=\"0971e4b8-40b1-4441-bcb7-6fb1d3a5e53e\")>,\n",
              " <selenium.webdriver.remote.webelement.WebElement (session=\"a3a9b89cce4a12cc90c80841ad7a5fe2\", element=\"4a1177e5-7a39-445b-84b6-04d8bbb362f2\")>,\n",
              " <selenium.webdriver.remote.webelement.WebElement (session=\"a3a9b89cce4a12cc90c80841ad7a5fe2\", element=\"085a0901-47e7-4a05-a42a-05ab42b4235d\")>,\n",
              " <selenium.webdriver.remote.webelement.WebElement (session=\"a3a9b89cce4a12cc90c80841ad7a5fe2\", element=\"c4a900d6-8ea3-4120-942a-6db813d1f1c0\")>,\n",
              " <selenium.webdriver.remote.webelement.WebElement (session=\"a3a9b89cce4a12cc90c80841ad7a5fe2\", element=\"ea696f29-9e31-4108-8f44-458a78c27088\")>,\n",
              " <selenium.webdriver.remote.webelement.WebElement (session=\"a3a9b89cce4a12cc90c80841ad7a5fe2\", element=\"ee5fd5af-0165-4773-83ba-9b017f2e092f\")>,\n",
              " <selenium.webdriver.remote.webelement.WebElement (session=\"a3a9b89cce4a12cc90c80841ad7a5fe2\", element=\"4cf699e2-f57b-4ab4-b44e-e548b48f241a\")>,\n",
              " <selenium.webdriver.remote.webelement.WebElement (session=\"a3a9b89cce4a12cc90c80841ad7a5fe2\", element=\"adeb6494-7a29-4435-9568-a1d003593911\")>,\n",
              " <selenium.webdriver.remote.webelement.WebElement (session=\"a3a9b89cce4a12cc90c80841ad7a5fe2\", element=\"ca2372e5-02f5-4296-9f34-59b49b851745\")>,\n",
              " <selenium.webdriver.remote.webelement.WebElement (session=\"a3a9b89cce4a12cc90c80841ad7a5fe2\", element=\"7e9ab776-88cb-4b0a-84dd-9932745b9599\")>,\n",
              " <selenium.webdriver.remote.webelement.WebElement (session=\"a3a9b89cce4a12cc90c80841ad7a5fe2\", element=\"1ca413c5-5e52-447f-9666-ff224608fd15\")>,\n",
              " <selenium.webdriver.remote.webelement.WebElement (session=\"a3a9b89cce4a12cc90c80841ad7a5fe2\", element=\"a2b85c32-2c5b-4c10-800a-a1a2fb1feb07\")>,\n",
              " <selenium.webdriver.remote.webelement.WebElement (session=\"a3a9b89cce4a12cc90c80841ad7a5fe2\", element=\"4f54317a-54ee-423e-bf36-89a5bddf78f1\")>,\n",
              " <selenium.webdriver.remote.webelement.WebElement (session=\"a3a9b89cce4a12cc90c80841ad7a5fe2\", element=\"fc4bbe96-1baf-40ae-9d3a-813c84ccd0d3\")>]"
            ]
          },
          "metadata": {
            "tags": []
          },
          "execution_count": 23
        }
      ]
    },
    {
      "cell_type": "markdown",
      "metadata": {
        "id": "ZU7Rlro2wqE_"
      },
      "source": [
        " **2.3 クローリングでメッセージデータ(日付とメッセージ)を取得する**\n"
      ]
    },
    {
      "cell_type": "code",
      "metadata": {
        "id": "dMgGyLYy1wZ9",
        "colab": {
          "base_uri": "https://localhost:8080/"
        },
        "outputId": "08c643e6-50c0-48d9-a23e-ce223afa3c32"
      },
      "source": [
        "import re\n",
        "com_text_values = []\n",
        "com_date_values = []\n",
        " \n",
        "com_text = driver.find_elements_by_class_name(\"comText\")\n",
        "\n",
        "for idx in range(len(com_text)):\n",
        "  com_text_values.append(com_text[idx].text)\n",
        "  tmp = driver.find_elements_by_class_name(\"comment\")[idx].find_elements_by_tag_name(\"a\")\n",
        "  for val in tmp :\n",
        "    if len(re.findall('.*月.*日*', val.text)) :\n",
        "      com_date_values.append(val.text)\n",
        "      break\n",
        "print(len(com_text_values), len(com_date_values))  "
      ],
      "execution_count": 24,
      "outputs": [
        {
          "output_type": "stream",
          "text": [
            "213 213\n"
          ],
          "name": "stdout"
        }
      ]
    },
    {
      "cell_type": "markdown",
      "metadata": {
        "id": "fP4GDt59wz2A"
      },
      "source": [
        "試しにデータをDataFrame型に入れてみる"
      ]
    },
    {
      "cell_type": "code",
      "metadata": {
        "colab": {
          "base_uri": "https://localhost:8080/",
          "height": 406
        },
        "id": "eLlK-wd1w_ma",
        "outputId": "1c477d00-d1dd-4bf3-ca40-61a20a65d0c5"
      },
      "source": [
        "import pandas as pd\n",
        "fetched_data = pd.DataFrame()\n",
        "fetched_data[\"Date\"] =  com_date_values\n",
        "fetched_data[\"Text\"] =  com_text_values\n",
        "fetched_data"
      ],
      "execution_count": 25,
      "outputs": [
        {
          "output_type": "execute_result",
          "data": {
            "text/html": [
              "<div>\n",
              "<style scoped>\n",
              "    .dataframe tbody tr th:only-of-type {\n",
              "        vertical-align: middle;\n",
              "    }\n",
              "\n",
              "    .dataframe tbody tr th {\n",
              "        vertical-align: top;\n",
              "    }\n",
              "\n",
              "    .dataframe thead th {\n",
              "        text-align: right;\n",
              "    }\n",
              "</style>\n",
              "<table border=\"1\" class=\"dataframe\">\n",
              "  <thead>\n",
              "    <tr style=\"text-align: right;\">\n",
              "      <th></th>\n",
              "      <th>Date</th>\n",
              "      <th>Text</th>\n",
              "    </tr>\n",
              "  </thead>\n",
              "  <tbody>\n",
              "    <tr>\n",
              "      <th>0</th>\n",
              "      <td>4月8日 10:04</td>\n",
              "      <td>予定より早く利食いました。皆さん、お世話になりました。ありがとうございました。利食いを早めた...</td>\n",
              "    </tr>\n",
              "    <tr>\n",
              "      <th>1</th>\n",
              "      <td>4月8日 09:39</td>\n",
              "      <td>おやっ、今日は何かいいことあったん？</td>\n",
              "    </tr>\n",
              "    <tr>\n",
              "      <th>2</th>\n",
              "      <td>4月8日 01:08</td>\n",
              "      <td>だから俺が言ったじゃん。\\nオービックは割高だって。案の定、俺が書き込みした後１０％近く下が...</td>\n",
              "    </tr>\n",
              "    <tr>\n",
              "      <th>3</th>\n",
              "      <td>4月8日 00:22</td>\n",
              "      <td>ここは株価が先取りしすぎて、どんなに業績がよくても、なかなか上がりませんね。含み損がいよいよ...</td>\n",
              "    </tr>\n",
              "    <tr>\n",
              "      <th>4</th>\n",
              "      <td>4月7日 17:52</td>\n",
              "      <td>20日線の、18000まで、\\n下がる可能性が、\\n少しありそう🤏</td>\n",
              "    </tr>\n",
              "    <tr>\n",
              "      <th>...</th>\n",
              "      <td>...</td>\n",
              "      <td>...</td>\n",
              "    </tr>\n",
              "    <tr>\n",
              "      <th>208</th>\n",
              "      <td>2月4日 12:45</td>\n",
              "      <td>当社はいい材料がないのよ\\n低迷続くよ</td>\n",
              "    </tr>\n",
              "    <tr>\n",
              "      <th>209</th>\n",
              "      <td>2月4日 11:44</td>\n",
              "      <td>うわ〜、ちょっと目を離したらもう一つ刺さってた\\n今日はここまでにして\\n出かけてくる</td>\n",
              "    </tr>\n",
              "    <tr>\n",
              "      <th>210</th>\n",
              "      <td>2月4日 10:02</td>\n",
              "      <td>後2000は下がる\\n株価が高すぎる</td>\n",
              "    </tr>\n",
              "    <tr>\n",
              "      <th>211</th>\n",
              "      <td>2月4日 09:49</td>\n",
              "      <td>わぅ、約定した！\\n喜ぶべきか、悲しむべきか</td>\n",
              "    </tr>\n",
              "    <tr>\n",
              "      <th>212</th>\n",
              "      <td>2月4日 04:00</td>\n",
              "      <td>2021/02/04に作成された(株)オービックについて話し合うスレッドです。\\nスレッドの...</td>\n",
              "    </tr>\n",
              "  </tbody>\n",
              "</table>\n",
              "<p>213 rows × 2 columns</p>\n",
              "</div>"
            ],
            "text/plain": [
              "           Date                                               Text\n",
              "0    4月8日 10:04  予定より早く利食いました。皆さん、お世話になりました。ありがとうございました。利食いを早めた...\n",
              "1    4月8日 09:39                                 おやっ、今日は何かいいことあったん？\n",
              "2    4月8日 01:08  だから俺が言ったじゃん。\\nオービックは割高だって。案の定、俺が書き込みした後１０％近く下が...\n",
              "3    4月8日 00:22  ここは株価が先取りしすぎて、どんなに業績がよくても、なかなか上がりませんね。含み損がいよいよ...\n",
              "4    4月7日 17:52                  20日線の、18000まで、\\n下がる可能性が、\\n少しありそう🤏\n",
              "..          ...                                                ...\n",
              "208  2月4日 12:45                                当社はいい材料がないのよ\\n低迷続くよ\n",
              "209  2月4日 11:44        うわ〜、ちょっと目を離したらもう一つ刺さってた\\n今日はここまでにして\\n出かけてくる\n",
              "210  2月4日 10:02                                 後2000は下がる\\n株価が高すぎる\n",
              "211  2月4日 09:49                             わぅ、約定した！\\n喜ぶべきか、悲しむべきか\n",
              "212  2月4日 04:00  2021/02/04に作成された(株)オービックについて話し合うスレッドです。\\nスレッドの...\n",
              "\n",
              "[213 rows x 2 columns]"
            ]
          },
          "metadata": {
            "tags": []
          },
          "execution_count": 25
        }
      ]
    },
    {
      "cell_type": "markdown",
      "metadata": {
        "id": "9Fo_xPnDxnHD"
      },
      "source": [
        "試しに保存もしてみる(**2.6 取得したメッセージデータをpandasDataFrameに格納し、csv形式で保存する**)"
      ]
    },
    {
      "cell_type": "code",
      "metadata": {
        "colab": {
          "base_uri": "https://localhost:8080/",
          "height": 406
        },
        "id": "4CF_yLxWxqAu",
        "outputId": "3671efb9-b5c3-4e58-b0df-7950b8e08677"
      },
      "source": [
        "import os\n",
        "#Sampleフォルダの作成\n",
        "if not os.path.exists(os.getcwd()+  \"/Sample\") :\n",
        "    os.mkdir(os.getcwd()+  \"/Sample\")\n",
        "\n",
        "import pandas as pd\n",
        "fetched_data.to_csv('/content/Sample/fetched_data.csv')\n",
        "df = pd.read_csv('/content/Sample/fetched_data.csv', index_col=0)\n",
        "df"
      ],
      "execution_count": 26,
      "outputs": [
        {
          "output_type": "execute_result",
          "data": {
            "text/html": [
              "<div>\n",
              "<style scoped>\n",
              "    .dataframe tbody tr th:only-of-type {\n",
              "        vertical-align: middle;\n",
              "    }\n",
              "\n",
              "    .dataframe tbody tr th {\n",
              "        vertical-align: top;\n",
              "    }\n",
              "\n",
              "    .dataframe thead th {\n",
              "        text-align: right;\n",
              "    }\n",
              "</style>\n",
              "<table border=\"1\" class=\"dataframe\">\n",
              "  <thead>\n",
              "    <tr style=\"text-align: right;\">\n",
              "      <th></th>\n",
              "      <th>Date</th>\n",
              "      <th>Text</th>\n",
              "    </tr>\n",
              "  </thead>\n",
              "  <tbody>\n",
              "    <tr>\n",
              "      <th>0</th>\n",
              "      <td>4月8日 10:04</td>\n",
              "      <td>予定より早く利食いました。皆さん、お世話になりました。ありがとうございました。利食いを早めた...</td>\n",
              "    </tr>\n",
              "    <tr>\n",
              "      <th>1</th>\n",
              "      <td>4月8日 09:39</td>\n",
              "      <td>おやっ、今日は何かいいことあったん？</td>\n",
              "    </tr>\n",
              "    <tr>\n",
              "      <th>2</th>\n",
              "      <td>4月8日 01:08</td>\n",
              "      <td>だから俺が言ったじゃん。\\nオービックは割高だって。案の定、俺が書き込みした後１０％近く下が...</td>\n",
              "    </tr>\n",
              "    <tr>\n",
              "      <th>3</th>\n",
              "      <td>4月8日 00:22</td>\n",
              "      <td>ここは株価が先取りしすぎて、どんなに業績がよくても、なかなか上がりませんね。含み損がいよいよ...</td>\n",
              "    </tr>\n",
              "    <tr>\n",
              "      <th>4</th>\n",
              "      <td>4月7日 17:52</td>\n",
              "      <td>20日線の、18000まで、\\n下がる可能性が、\\n少しありそう🤏</td>\n",
              "    </tr>\n",
              "    <tr>\n",
              "      <th>...</th>\n",
              "      <td>...</td>\n",
              "      <td>...</td>\n",
              "    </tr>\n",
              "    <tr>\n",
              "      <th>208</th>\n",
              "      <td>2月4日 12:45</td>\n",
              "      <td>当社はいい材料がないのよ\\n低迷続くよ</td>\n",
              "    </tr>\n",
              "    <tr>\n",
              "      <th>209</th>\n",
              "      <td>2月4日 11:44</td>\n",
              "      <td>うわ〜、ちょっと目を離したらもう一つ刺さってた\\n今日はここまでにして\\n出かけてくる</td>\n",
              "    </tr>\n",
              "    <tr>\n",
              "      <th>210</th>\n",
              "      <td>2月4日 10:02</td>\n",
              "      <td>後2000は下がる\\n株価が高すぎる</td>\n",
              "    </tr>\n",
              "    <tr>\n",
              "      <th>211</th>\n",
              "      <td>2月4日 09:49</td>\n",
              "      <td>わぅ、約定した！\\n喜ぶべきか、悲しむべきか</td>\n",
              "    </tr>\n",
              "    <tr>\n",
              "      <th>212</th>\n",
              "      <td>2月4日 04:00</td>\n",
              "      <td>2021/02/04に作成された(株)オービックについて話し合うスレッドです。\\nスレッドの...</td>\n",
              "    </tr>\n",
              "  </tbody>\n",
              "</table>\n",
              "<p>213 rows × 2 columns</p>\n",
              "</div>"
            ],
            "text/plain": [
              "           Date                                               Text\n",
              "0    4月8日 10:04  予定より早く利食いました。皆さん、お世話になりました。ありがとうございました。利食いを早めた...\n",
              "1    4月8日 09:39                                 おやっ、今日は何かいいことあったん？\n",
              "2    4月8日 01:08  だから俺が言ったじゃん。\\nオービックは割高だって。案の定、俺が書き込みした後１０％近く下が...\n",
              "3    4月8日 00:22  ここは株価が先取りしすぎて、どんなに業績がよくても、なかなか上がりませんね。含み損がいよいよ...\n",
              "4    4月7日 17:52                  20日線の、18000まで、\\n下がる可能性が、\\n少しありそう🤏\n",
              "..          ...                                                ...\n",
              "208  2月4日 12:45                                当社はいい材料がないのよ\\n低迷続くよ\n",
              "209  2月4日 11:44        うわ〜、ちょっと目を離したらもう一つ刺さってた\\n今日はここまでにして\\n出かけてくる\n",
              "210  2月4日 10:02                                 後2000は下がる\\n株価が高すぎる\n",
              "211  2月4日 09:49                             わぅ、約定した！\\n喜ぶべきか、悲しむべきか\n",
              "212  2月4日 04:00  2021/02/04に作成された(株)オービックについて話し合うスレッドです。\\nスレッドの...\n",
              "\n",
              "[213 rows x 2 columns]"
            ]
          },
          "metadata": {
            "tags": []
          },
          "execution_count": 26
        }
      ]
    },
    {
      "cell_type": "markdown",
      "metadata": {
        "id": "Z31ydZKLw0Ax"
      },
      "source": [
        "ここまでで、\n",
        "\n",
        "~~1. 取得したい企業のスレッドにアクセスする~~\n",
        "\n",
        "~~2. 最下部までメッセージをスクロールする~~\n",
        "\n",
        "~~3. クローリングでメッセージデータを取得する~~\n",
        "\n",
        "4. 全てのメッセージを取得したら次のスレッドに行く\n",
        "\n",
        "5. 1~4を繰り返し、取得したい最初の日付から最後に日付までのデータを取得できたらプログラムを終了する\n",
        "\n",
        "~~6. 取得したメッセージデータをpandasDataFrameに格納し、csv形式で保存する~~\n",
        "\n",
        "のそれぞれの機能ができました。ここから4, 5を作成し、1〜6を組み合わせます！\n"
      ]
    },
    {
      "cell_type": "markdown",
      "metadata": {
        "id": "8tNrMnfqyu-y"
      },
      "source": [
        "**2.4全てのメッセージを取得したら次のスレッドに行く**"
      ]
    },
    {
      "cell_type": "code",
      "metadata": {
        "colab": {
          "base_uri": "https://localhost:8080/"
        },
        "id": "UWMOGLVgyU-9",
        "outputId": "c92c1909-6970-4c71-c930-9c1a5d7ff1b9"
      },
      "source": [
        "import time\n",
        "\n",
        "from selenium import webdriver\n",
        "\n",
        "\n",
        "\n",
        "# Google Drive起動\n",
        "options = webdriver.ChromeOptions()\n",
        "options.add_argument('--headless')\n",
        "options.add_argument('--no-sandbox')\n",
        "options.add_argument('--disable-dev-shm-usage')\n",
        "driver = webdriver.Chrome('chromedriver',options=options)\n",
        "\n",
        "# yahoo表示\n",
        "driver.get('https://finance.yahoo.co.jp/cm/message/1004684/a5aaa1bca5sa5ca5af')\n",
        "\n",
        "url = driver.find_element_by_class_name(\"threadBefore\").find_element_by_tag_name(\"a\").get_attribute(\"href\")\n",
        "time.sleep(3)\n",
        "driver.get(url)\n",
        "# WebDriverWait(driver, 30).until(EC.presence_of_element_located((By.CSS_SELECTOR, \"body\")))\n",
        "\n",
        "# yahoo表示\n",
        "# https://a-zumi.net/python-selenium-find-element-by-link-text/\n",
        "\n",
        "\n",
        "#操作メソッド　\n",
        "# https://qiita.com/memakura/items/20a02161fa7e18d8a693#%E3%82%AF%E3%83%AA%E3%83%83%E3%82%AF%E3%81%99%E3%82%8B\n",
        "\n",
        "for txt in driver.find_elements_by_class_name(\"comText\") :\n",
        "  print(txt.text)"
      ],
      "execution_count": 27,
      "outputs": [
        {
          "output_type": "stream",
          "text": [
            "同じCMをいつまでも流す嫌味な会社\n",
            "ありがとう、確かに空売りしてる人少ないね\n",
            "信用の貸借倍率だよ\n",
            "これって何の倍率なん？\n",
            "倍率をみれば　買うのは　とにかく　今じゃない\n",
            "61倍\n",
            "ここは、毎日株価をチェックするような銘柄じゃないと思う。数ヶ月とか数年単価で大きくなっていくイメージ。\n",
            "\n",
            "短期での値幅求めるなら、さっと他に切りかえた方がストレスフリーかもしれない。\n",
            "\n",
            "とりあえず、半年後位目処に、新高値更新を。\n",
            "動きません…泣\n",
            "少し、上向きに動くのか？\n",
            "今日こそ動いてほしい。\n",
            "オービックリ…笑笑\n",
            "そうなれば嬉しい♡\n",
            "今日はオービックリの2万円台復帰でお願いします\n",
            "オービックって無借金経営だろ\n",
            "株価　株主対策要らねえわ\n",
            "上昇トレンドに転換するまで一か月かかる\n",
            "二度と投資しない銘柄\n",
            "目標株価　　17650円\n",
            "2000円の割高\n",
            "終わってる　魅力ない企業\n",
            "割高やね（笑）俺の邪道指数では15,000円です?????沖縄もクラスターでたーいへんです❢\n",
            "寿命が短い…思い当たります。笑\n",
            "キリンさん、面白いですね。\n",
            "プラテンしたよ！\n",
            "あと１０００円位落ちないと\n",
            "\n",
            "本格的に反転はできないんじゃないの？\n",
            "悲観的だと寿命が短いらしいよ\n",
            "コップに半分しか水がない　×\n",
            "コップに半分も水が残ってる　◯\n"
          ],
          "name": "stdout"
        }
      ]
    },
    {
      "cell_type": "markdown",
      "metadata": {
        "id": "SDguuRLiy7nC"
      },
      "source": [
        "**2.5 1~4を繰り返し、取得したい最初の日付から最後に日付までのデータを取得できたらプログラムを終了する**\n",
        "\n",
        "\n",
        "<<やる流れのメモ>>\n",
        "\n",
        "1. 取得したい日付を指定 最初と最後を指定\n",
        " -   datetime型に -> 変換\n",
        "\n",
        "2. スレッドの最初を driver.find　で取得\n",
        " - datetime型に -> 変換\n",
        " \n",
        "3. 指定した日付とfindした日付を比較\n",
        "  - end_dateを比較: 取得したい終わり日より現在参照しているスレッドの最初の日の大きい場合に、データの取得を開始する\n",
        "  - start_dateを比較: 指定した最初の取得日が現在見ているスレッドの最大より大きい場合に、データの取得を終了する\n"
      ]
    },
    {
      "cell_type": "code",
      "metadata": {
        "colab": {
          "base_uri": "https://localhost:8080/"
        },
        "id": "B-SoK2Y_y8Nn",
        "outputId": "d6182cf7-b157-4a35-ab28-d4d0485be8a2"
      },
      "source": [
        "import datetime\n",
        "# 1. 日付を指定 最初と最後を指定\n",
        "#  -   datetime型に -> 変換\n",
        "end_date = datetime.datetime(year=2021, month=3, day=5)\n",
        "start_date = datetime.datetime(year=2021, month=1, day=5)\n",
        "\n",
        "if start_date > end_date :\n",
        "  print(\"dateに問題があります\")\n",
        "\n",
        "else :\n",
        "  print(\"正常にdateを設定しました\")"
      ],
      "execution_count": 2,
      "outputs": [
        {
          "output_type": "stream",
          "text": [
            "正常にdateを設定しました\n"
          ],
          "name": "stdout"
        }
      ]
    },
    {
      "cell_type": "code",
      "metadata": {
        "colab": {
          "base_uri": "https://localhost:8080/"
        },
        "id": "WmTZhG6v0krf",
        "outputId": "14b3c589-f878-4a00-a1c1-30a7246a54ae"
      },
      "source": [
        "current_thread_first = datetime.datetime(year=2021, month=2, day=5)\n",
        "\n",
        "#現在参照しているスレッドの最初の日よりend_dateが大きい場合: trueの場合は欲しいデータがスレッド内にある\n",
        "current_thread_first < end_date\n",
        "\n",
        "#スレッドの最初⇩\n",
        "#   　　　　　　　　　    |----|\n",
        "#      |----------|\n",
        "#     enddate↑取得したいデータの日付の最後の日"
      ],
      "execution_count": 9,
      "outputs": [
        {
          "output_type": "execute_result",
          "data": {
            "text/plain": [
              "True"
            ]
          },
          "metadata": {
            "tags": []
          },
          "execution_count": 9
        }
      ]
    },
    {
      "cell_type": "code",
      "metadata": {
        "colab": {
          "base_uri": "https://localhost:8080/"
        },
        "id": "Uq8EmdOR0k3C",
        "outputId": "d258fc79-a756-423a-b800-75d526aa5525"
      },
      "source": [
        "current_thread_first = datetime.datetime(year=2020, month=11, day=5)\n",
        "\n",
        "#指定した最初の取得日が現在見ているスレッドの最大より大きい場合: trueの場合は欲しいデータを取り終えるため、データの取得を終了する\n",
        "current_thread_first < start_date\n",
        "\n",
        "# スレッドの最後⇩\n",
        "#   　　　      　 |---|\n",
        "#             |----------|\n",
        "#  start_date↑取得したいデータの日付の最初の日"
      ],
      "execution_count": 10,
      "outputs": [
        {
          "output_type": "execute_result",
          "data": {
            "text/plain": [
              "True"
            ]
          },
          "metadata": {
            "tags": []
          },
          "execution_count": 10
        }
      ]
    },
    {
      "cell_type": "markdown",
      "metadata": {
        "id": "ko5G2Gju2ofV"
      },
      "source": [
        "# 実際に組み合わせてみる"
      ]
    },
    {
      "cell_type": "code",
      "metadata": {
        "colab": {
          "base_uri": "https://localhost:8080/"
        },
        "id": "BSh1BvNR2vBn",
        "outputId": "9c6cee58-1ed6-495c-9256-7914e9f184aa"
      },
      "source": [
        "#seleniumのインストール\n",
        "# reference https://enjoy-a-lot.com/google-colaboratory-selenium/#toc1\n",
        "!pip install selenium\n",
        "\n",
        "!apt-get update\n",
        "!apt install chromium-chromedriver\n",
        "!cp /usr/lib/chromium-browser/chromedriver /usr/bin"
      ],
      "execution_count": 28,
      "outputs": [
        {
          "output_type": "stream",
          "text": [
            "Requirement already satisfied: selenium in /usr/local/lib/python3.7/dist-packages (3.141.0)\n",
            "Requirement already satisfied: urllib3 in /usr/local/lib/python3.7/dist-packages (from selenium) (1.24.3)\n",
            "Ign:1 https://developer.download.nvidia.com/compute/cuda/repos/ubuntu1804/x86_64  InRelease\n",
            "Hit:2 http://ppa.launchpad.net/c2d4u.team/c2d4u4.0+/ubuntu bionic InRelease\n",
            "Hit:3 http://archive.ubuntu.com/ubuntu bionic InRelease\n",
            "Hit:4 http://security.ubuntu.com/ubuntu bionic-security InRelease\n",
            "Hit:5 https://cloud.r-project.org/bin/linux/ubuntu bionic-cran40/ InRelease\n",
            "Hit:6 http://archive.ubuntu.com/ubuntu bionic-updates InRelease\n",
            "Ign:7 https://developer.download.nvidia.com/compute/machine-learning/repos/ubuntu1804/x86_64  InRelease\n",
            "Hit:8 https://developer.download.nvidia.com/compute/cuda/repos/ubuntu1804/x86_64  Release\n",
            "Hit:9 https://developer.download.nvidia.com/compute/machine-learning/repos/ubuntu1804/x86_64  Release\n",
            "Hit:10 http://archive.ubuntu.com/ubuntu bionic-backports InRelease\n",
            "Hit:11 http://ppa.launchpad.net/cran/libgit2/ubuntu bionic InRelease\n",
            "Hit:12 http://ppa.launchpad.net/deadsnakes/ppa/ubuntu bionic InRelease\n",
            "Hit:13 http://ppa.launchpad.net/graphics-drivers/ppa/ubuntu bionic InRelease\n",
            "Reading package lists... Done\n",
            "Reading package lists... Done\n",
            "Building dependency tree       \n",
            "Reading state information... Done\n",
            "chromium-chromedriver is already the newest version (89.0.4389.90-0ubuntu0.18.04.2).\n",
            "0 upgraded, 0 newly installed, 0 to remove and 62 not upgraded.\n",
            "cp: '/usr/lib/chromium-browser/chromedriver' and '/usr/bin/chromedriver' are the same file\n"
          ],
          "name": "stdout"
        }
      ]
    },
    {
      "cell_type": "code",
      "metadata": {
        "id": "wrvIeRL94XIn"
      },
      "source": [
        "from selenium import webdriver\n",
        "\n",
        "# Google Driver起動\n",
        "def generate_dirver():\n",
        "  options = webdriver.ChromeOptions()\n",
        "  options.add_argument('--headless')\n",
        "  options.add_argument('--no-sandbox')\n",
        "  options.add_argument('--disable-dev-shm-usage')\n",
        "  driver = webdriver.Chrome('chromedriver',options=options)\n",
        "  return driver\n",
        "\n",
        "#--------------\n",
        "def fetch_inc_name(driver) -> str:\n",
        "  date_thread = driver.find_element_by_xpath('//a[contains(@href,\"%s\")]' % date_url).text\n",
        "  inc_name = date_thread.split()[2]\n",
        "  return inc_name\n",
        "\n",
        "#--------------\n",
        "def scroll_webpage(driver) -> None:\n",
        "  # javascriptを実行してページの最下部へ移動\n",
        "  # https://teratail.com/questions/122242\n",
        "  html01=driver.page_source\n",
        "  count = 0\n",
        "  while True:\n",
        "      driver.execute_script(\"window.scrollTo(0, document.body.scrollHeight);\")\n",
        "      time.sleep(3)\n",
        "      count += 1\n",
        "      print(count)\n",
        "      html02=driver.page_source\n",
        "      if html01!=html02:\n",
        "          html01=html02\n",
        "      else:\n",
        "          break\n",
        "#--------------\n",
        "def move_before_thread_url(driver) -> None:\n",
        "  url = driver.find_element_by_class_name(\"threadBefore\").find_element_by_tag_name(\"a\").get_attribute(\"href\")\n",
        "  time.sleep(3)\n",
        "  driver.get(url)\n",
        "  \n",
        "\n",
        "##---------------\n",
        "import re\n",
        "import pandas as pd\n",
        "\n",
        "def fetch_thread_com_values(driver) -> pd.DataFrame: \n",
        "  com_text_values = []\n",
        "  com_date_values = []\n",
        "\n",
        "  #コメントのテキストを取得\n",
        "  com_text = driver.find_elements_by_class_name(\"comText\")\n",
        "  #コメントと日付を取得\n",
        "  for idx in range(len(com_text)):\n",
        "    #Date\n",
        "    tmp = driver.find_elements_by_class_name(\"comment\")[idx].find_elements_by_tag_name(\"a\")\n",
        "    count = 0\n",
        "    for val in tmp :\n",
        "      count += 1\n",
        "      if len(re.findall('.*月.*日*', val.text)) : \n",
        "        #Dateのvalをappend\n",
        "        com_date_values.append(val.text)\n",
        "        #Textのvalをappend\n",
        "        com_text_values.append(com_text[idx].text)\n",
        "        break\n",
        "    if count == len(tmp):\n",
        "      # \"コメントは非表示対象\"というものがあった場合\n",
        "      print(list(map(lambda x : x.text , tmp)))\n",
        "    \n",
        "  print(f\"com_text_values len: {len( com_text_values )}\")\n",
        "  print(f\"com_date_values len: {len( com_date_values )}\")\n",
        "  fetched_data = pd.DataFrame()\n",
        "  fetched_data[\"Date\"] =  com_date_values\n",
        "  fetched_data[\"Text\"] =  com_text_values\n",
        "  return fetched_data\n",
        "  # return com_text_values\n",
        "\n",
        "#--------------\n",
        "\n",
        "def extract_data_by_date(fetched_data: pd.DataFrame, start_date: datetime, end_date: datetime) -> pd.DataFrame: \n",
        "\n",
        "  #　微調整する\n",
        "  idx = 0\n",
        "  for idx in range(len(fetched_data[\"Date\"].values)):\n",
        "    if \"年\" not in fetched_data[\"Date\"].values[idx] :\n",
        "      fetched_data[\"Date\"].values[idx] = \"2021年\" + fetched_data[\"Date\"].values[idx]\n",
        " \n",
        "  func = lambda x: datetime.datetime.strptime(x, '%Y年%m月%d日 %H:%M%S')\n",
        "  fetched_data[\"Date\"] = fetched_data[\"Date\"].map(func)\n",
        "  \n",
        "  #必要な日付だけを抽出して保存する\n",
        "  #https://qiita.com/mSpring/items/6ec1ab28dcb261db2c73\n",
        "  extracted_data = fetched_data[(fetched_data[\"Date\"] >= start_date) & (fetched_data[\"Date\"] <= end_date) ]\n",
        "  return extracted_data\n",
        "\n",
        "import os\n",
        "def save_extracted_data_to_csv(extracted_data: pd.DataFrame, inc_name: str) -> None :\n",
        "  #Sampleフォルダの作成\n",
        "  if not os.path.exists(os.getcwd()+  \"/Sample\") :\n",
        "    os.mkdir(os.getcwd()+  \"/Sample\")\n",
        "  extracted_data.to_csv(f'/content/Sample/{inc_name}.csv')\n",
        "\n",
        "def read_csv_data(inc_name):\n",
        "  return pd.read_csv(f'/content/Sample/{inc_name}.csv', index_col=0)"
      ],
      "execution_count": 106,
      "outputs": []
    },
    {
      "cell_type": "code",
      "metadata": {
        "colab": {
          "base_uri": "https://localhost:8080/"
        },
        "id": "s4l6hmrE4XMP",
        "outputId": "1df65c5f-d0b6-49af-929e-451db9ece293"
      },
      "source": [
        "import datetime\n",
        "# 1. 日付を指定 最初と最後を指定\n",
        "#  -   datetime型に -> 変換\n",
        "end_date = datetime.datetime(year=2021, month=3, day=5)\n",
        "start_date = datetime.datetime(year=2021, month=1, day=5)\n",
        "\n",
        "if start_date > end_date :\n",
        "  print(\"dateに問題があります\")\n",
        "\n",
        "else :\n",
        "  print(\"正常にdateを設定しました\")\n",
        "\n",
        "#ある企業の最新のスレッド\n",
        "start_url = \"https://finance.yahoo.co.jp/cm/message/1835700/469ffa7e39f26681161f1f90b137072c/2\""
      ],
      "execution_count": 77,
      "outputs": [
        {
          "output_type": "stream",
          "text": [
            "正常にdateを設定しました\n"
          ],
          "name": "stdout"
        }
      ]
    },
    {
      "cell_type": "markdown",
      "metadata": {
        "id": "CS8Mb_yO4hgm"
      },
      "source": [
        "テストデータ\n",
        "\n",
        "- オービック\n",
        " - https://finance.yahoo.co.jp/cm/message/1004684/a5aaa1bca5sa5ca5af \n",
        " 読むにはここをクリックしてください\n",
        "- SANEI\t\n",
        " - https://finance.yahoo.co.jp/cm/message/1835669/8338eaef61ed9597989a053bce4a1891\n",
        "- ファンペップ\t\n",
        " - https://finance.yahoo.co.jp/cm/message/1835646/51c5d7fbb91b959380e70d6d9fa22cb7\n",
        "- 東和ハイシステム\t\n",
        "  - https://finance.yahoo.co.jp/cm/message/1835700/469ffa7e39f26681161f1f90b137072c/2\n",
        "- クリングルファーマ\n",
        " - https://finance.yahoo.co.jp/cm/message/1835646/c64343539df291f82976a870a3ac7d74/2"
      ]
    },
    {
      "cell_type": "code",
      "metadata": {
        "id": "ExQly1_94XPi"
      },
      "source": [
        "#自動操作をできるようにする\n",
        "driver = generate_dirver()"
      ],
      "execution_count": 79,
      "outputs": []
    },
    {
      "cell_type": "markdown",
      "metadata": {
        "id": "uBRkZp0U4qsD"
      },
      "source": [
        "# 注意　\n",
        "\n",
        "このプログラムは入れたURLが最新のスレッドであることを前提に組まれています"
      ]
    },
    {
      "cell_type": "code",
      "metadata": {
        "colab": {
          "base_uri": "https://localhost:8080/",
          "height": 873
        },
        "id": "wSv306Nw4XRb",
        "outputId": "fdf2adc1-90dc-4a03-d5e4-8c0b5819a005"
      },
      "source": [
        "import time\n",
        "import re\n",
        "\n",
        "#yahoofinanceにアクセス 企業ごとに設定\n",
        "driver.get(start_url)\n",
        "\n",
        "#aタグで見つけるためのモノ\n",
        "date_url = \"https://finance.yahoo.co.jp/cm/message\"\n",
        "\n",
        "#csvデータを取得\n",
        "inc_name = fetch_inc_name(driver)\n",
        "\n",
        "#最初に取得したものが最新であるという前提\n",
        "fetched_time = 0 \n",
        "\n",
        "#endとstartが含まれているデータを取得済みか判断するフラグ\n",
        "is_end_data_fetched = False\n",
        "is_start_data_fetched = False\n",
        "\n",
        "# 取得したDataFrame型の値を入れるモノ\n",
        "fetched_data_values = pd.DataFrame()\n",
        "fetched_data_values[\"Date\"] =[]\n",
        "fetched_data_values[\"Text\"] = []\n",
        "\n",
        "\n",
        "#---------------\n",
        "#ここで見るべきは、スレッドの日付よりend_dateが大きいかを見る\n",
        "#->前提として途中はなく常に最新のスレッドを起点にやる\n",
        "while not is_end_data_fetched :\n",
        "  fetched_time += 1\n",
        "  #スレッドのタイトルの日付を取得 (例: 4684 - (株)オービック 2021/02/04〜)\n",
        "  date_thread = driver.find_element_by_xpath('//a[contains(@href,\"%s\")]' % date_url).text\n",
        "  print(date_thread)\n",
        "  #取得したtheadから日付データを示すものに限定させる。  返り値例-> ex1) ['2021/02/04']   ex2) ['2020/01/23', '2021/02/03']\n",
        "  tmp = list(filter(lambda x : 1 == len(re.findall('.*/.*/*', x)), list(filter(lambda x : \"〜\" in x ,  date_thread.split()))[0].split(\"〜\")))\n",
        "  #tmpの0番目のデータを取得\n",
        "  date_before_tmp = datetime.datetime.strptime(tmp[0], '%Y/%m/%d')\n",
        "  #　取得したい終わり日より現在参照しているスレッドの最初の日の大きい場合\n",
        "  if end_date <= date_before_tmp :\n",
        "    #データの取得をしない\n",
        "    #最古の場合\n",
        "    if fetched_time != 1 and len(tmp) == 1:\n",
        "      print(f\"指定した企業：　{inc_name} はあなたが指定した日付のコメントデータを保持していませんでした。　end_date: {end_date}\")\n",
        "      break\n",
        "   \n",
        "  #取得できる場合(#　取得したい終わり日より現在参照しているスレッドの最初の日が小さい場合)\n",
        "  else:\n",
        "    #df = 取得する関数を呼び出す。\n",
        "    scroll_webpage(driver)\n",
        "    # test = fetch_thread_com_values(driver) \n",
        "    fetched_data = fetch_thread_com_values(driver) \n",
        "    fetched_data_values = pd.concat([fetched_data_values, fetched_data])\n",
        "    is_end_data_fetched = True\n",
        "    break\n",
        "  \n",
        "  #スレッドの移動\n",
        "  url = driver.find_element_by_class_name(\"threadBefore\").find_element_by_tag_name(\"a\").get_attribute(\"href\")\n",
        "  time.sleep(3)\n",
        "  driver.get(url)\n",
        "\n",
        "\n",
        "#---------------\n",
        "if not is_end_data_fetched :\n",
        "  # end_dataを取得できなかった場合(スレッドに欲しいdataがなかった場合)\n",
        "  pass\n",
        "\n",
        "#TODO 21;00 \n",
        "else:\n",
        "  while not is_start_data_fetched:\n",
        "\n",
        "    #スレッドの移動\n",
        "    url = driver.find_element_by_class_name(\"threadBefore\").find_element_by_tag_name(\"a\").get_attribute(\"href\")\n",
        "    time.sleep(3)\n",
        "    driver.get(url)\n",
        "\n",
        "    #スレッドのタイトルの日付を取得 (例: 4684 - (株)オービック 2021/02/04〜)\n",
        "    date_thread = driver.find_element_by_xpath('//a[contains(@href,\"%s\")]' % date_url).text\n",
        "    print(date_thread)\n",
        "    #取得したtheadから日付データを示すものに限定させる。  返り値例-> ex1) ['2021/02/04']   ex2) ['2020/01/23', '2021/02/03']\n",
        "    tmp = list(filter(lambda x : 1 == len(re.findall('.*/.*/*', x)), list(filter(lambda x : \"〜\" in x ,  date_thread.split()))[0].split(\"〜\")))\n",
        "    \n",
        "    #最古のスレッドに到達したかどうか\n",
        "    if len(tmp) == 1:\n",
        "      date_after_tmp = datetime.datetime.strptime(tmp[0], '%Y/%m/%d')\n",
        "    else:\n",
        "      date_after_tmp = datetime.datetime.strptime(tmp[1], '%Y/%m/%d')\n",
        "\n",
        "    #指定した最初の取得日が現在見ているスレッドの最大より大きいか\n",
        "    if start_date < date_after_tmp:\n",
        "      scroll_webpage(driver)\n",
        "      fetched_data = fetch_thread_com_values(driver) \n",
        "      fetched_data_values = pd.concat([fetched_data_values, fetched_data])\n",
        "      # test = fetch_thread_com_values(driver) \n",
        "\n",
        "    #最初の取得日を含むデータを既に取得している場合\n",
        "    else :\n",
        "      print(f\"指定した企業：　{inc_name} の指定した日付のコメントデータを取得しました。　start_date: {start_date}\")\n",
        "      is_start_data_fetched = True\n",
        "\n",
        "driver.close()\n",
        "print(\"-\"*100)\n",
        "fetched_data_values"
      ],
      "execution_count": 80,
      "outputs": [
        {
          "output_type": "stream",
          "text": [
            "4172 - 東和ハイシステム(株) 2020/12/29〜\n",
            "1\n",
            "2\n",
            "3\n",
            "4\n",
            "5\n",
            "6\n",
            "7\n",
            "8\n",
            "9\n",
            "10\n",
            "11\n",
            "12\n",
            "13\n",
            "14\n",
            "15\n",
            "16\n",
            "17\n",
            "18\n",
            "19\n",
            "20\n",
            "21\n",
            "22\n",
            "com_text_values len: 433\n",
            "com_date_values len: 433\n",
            "4172 - 東和ハイシステム(株) 〜2020/12/28\n",
            "指定した企業：　東和ハイシステム(株) の指定した日付のコメントデータを取得しました。　start_date: 2021-01-05 00:00:00\n",
            "----------------------------------------------------------------------------------------------------\n"
          ],
          "name": "stdout"
        },
        {
          "output_type": "execute_result",
          "data": {
            "text/html": [
              "<div>\n",
              "<style scoped>\n",
              "    .dataframe tbody tr th:only-of-type {\n",
              "        vertical-align: middle;\n",
              "    }\n",
              "\n",
              "    .dataframe tbody tr th {\n",
              "        vertical-align: top;\n",
              "    }\n",
              "\n",
              "    .dataframe thead th {\n",
              "        text-align: right;\n",
              "    }\n",
              "</style>\n",
              "<table border=\"1\" class=\"dataframe\">\n",
              "  <thead>\n",
              "    <tr style=\"text-align: right;\">\n",
              "      <th></th>\n",
              "      <th>Date</th>\n",
              "      <th>Text</th>\n",
              "    </tr>\n",
              "  </thead>\n",
              "  <tbody>\n",
              "    <tr>\n",
              "      <th>0</th>\n",
              "      <td>4月8日 17:59</td>\n",
              "      <td>いつになったら上がるのかねー\\nてか何でも良いから出来高欲しいわ。</td>\n",
              "    </tr>\n",
              "    <tr>\n",
              "      <th>1</th>\n",
              "      <td>4月8日 08:04</td>\n",
              "      <td>コロナ追い風</td>\n",
              "    </tr>\n",
              "    <tr>\n",
              "      <th>2</th>\n",
              "      <td>4月7日 11:39</td>\n",
              "      <td>月曜日の上げ分全て無駄に😞\\n積極的な情報発信で知名度を上げないと厳しいかな。</td>\n",
              "    </tr>\n",
              "    <tr>\n",
              "      <th>3</th>\n",
              "      <td>4月7日 11:03</td>\n",
              "      <td>毎日よー降ってくるのぉ～</td>\n",
              "    </tr>\n",
              "    <tr>\n",
              "      <th>4</th>\n",
              "      <td>4月6日 09:25</td>\n",
              "      <td>底堅い動きで監視。前回前々回より支持線弱し。次に期待か</td>\n",
              "    </tr>\n",
              "    <tr>\n",
              "      <th>...</th>\n",
              "      <td>...</td>\n",
              "      <td>...</td>\n",
              "    </tr>\n",
              "    <tr>\n",
              "      <th>428</th>\n",
              "      <td>2020年12月29日 08:09</td>\n",
              "      <td>しゃああああああああああ\\n\\n控えめに言って割高で買いが入りません\\n\\n大げさに言ったら...</td>\n",
              "    </tr>\n",
              "    <tr>\n",
              "      <th>429</th>\n",
              "      <td>2020年12月29日 07:49</td>\n",
              "      <td>なんか取り敢えずIPO出たら全部の名前言って、外れた奴は無かったことにして一切投稿せず、当た...</td>\n",
              "    </tr>\n",
              "    <tr>\n",
              "      <th>430</th>\n",
              "      <td>2020年12月29日 07:23</td>\n",
              "      <td>ウケたー\\n&gt;kkさんは明日GDからの3700円くらいで、しゃあああああザラ場高値ブレイク！...</td>\n",
              "    </tr>\n",
              "    <tr>\n",
              "      <th>431</th>\n",
              "      <td>2020年12月29日 06:59</td>\n",
              "      <td>ありそうで草\\n3700になっても誰も救われないが彼はバーチャだから気づけないだろう</td>\n",
              "    </tr>\n",
              "    <tr>\n",
              "      <th>432</th>\n",
              "      <td>2020年12月29日 04:00</td>\n",
              "      <td>2020/12/29に作成された東和ハイシステム(株)について話し合うスレッドです。\\nスレ...</td>\n",
              "    </tr>\n",
              "  </tbody>\n",
              "</table>\n",
              "<p>433 rows × 2 columns</p>\n",
              "</div>"
            ],
            "text/plain": [
              "                  Date                                               Text\n",
              "0           4月8日 17:59                  いつになったら上がるのかねー\\nてか何でも良いから出来高欲しいわ。\n",
              "1           4月8日 08:04                                             コロナ追い風\n",
              "2           4月7日 11:39            月曜日の上げ分全て無駄に😞\\n積極的な情報発信で知名度を上げないと厳しいかな。\n",
              "3           4月7日 11:03                                       毎日よー降ってくるのぉ～\n",
              "4           4月6日 09:25                        底堅い動きで監視。前回前々回より支持線弱し。次に期待か\n",
              "..                 ...                                                ...\n",
              "428  2020年12月29日 08:09  しゃああああああああああ\\n\\n控えめに言って割高で買いが入りません\\n\\n大げさに言ったら...\n",
              "429  2020年12月29日 07:49  なんか取り敢えずIPO出たら全部の名前言って、外れた奴は無かったことにして一切投稿せず、当た...\n",
              "430  2020年12月29日 07:23  ウケたー\\n>kkさんは明日GDからの3700円くらいで、しゃあああああザラ場高値ブレイク！...\n",
              "431  2020年12月29日 06:59         ありそうで草\\n3700になっても誰も救われないが彼はバーチャだから気づけないだろう\n",
              "432  2020年12月29日 04:00  2020/12/29に作成された東和ハイシステム(株)について話し合うスレッドです。\\nスレ...\n",
              "\n",
              "[433 rows x 2 columns]"
            ]
          },
          "metadata": {
            "tags": []
          },
          "execution_count": 80
        }
      ]
    },
    {
      "cell_type": "code",
      "metadata": {
        "colab": {
          "base_uri": "https://localhost:8080/",
          "height": 406
        },
        "id": "6OMjuP8H4XT2",
        "outputId": "34b1c3c9-14fb-42c9-c0bd-368d570d5090"
      },
      "source": [
        "extracted_data = extract_data_by_date(fetched_data, start_date, end_date) \n",
        "save_extracted_data_to_csv(extracted_data, inc_name) \n",
        "data = read_csv_data(inc_name)\n",
        "data"
      ],
      "execution_count": 108,
      "outputs": [
        {
          "output_type": "execute_result",
          "data": {
            "text/html": [
              "<div>\n",
              "<style scoped>\n",
              "    .dataframe tbody tr th:only-of-type {\n",
              "        vertical-align: middle;\n",
              "    }\n",
              "\n",
              "    .dataframe tbody tr th {\n",
              "        vertical-align: top;\n",
              "    }\n",
              "\n",
              "    .dataframe thead th {\n",
              "        text-align: right;\n",
              "    }\n",
              "</style>\n",
              "<table border=\"1\" class=\"dataframe\">\n",
              "  <thead>\n",
              "    <tr style=\"text-align: right;\">\n",
              "      <th></th>\n",
              "      <th>Date</th>\n",
              "      <th>Text</th>\n",
              "    </tr>\n",
              "  </thead>\n",
              "  <tbody>\n",
              "    <tr>\n",
              "      <th>37</th>\n",
              "      <td>2021-03-04 12:04:06</td>\n",
              "      <td>再ＩＮ(^ω^)\\nちょっと売られ過ぎ。</td>\n",
              "    </tr>\n",
              "    <tr>\n",
              "      <th>38</th>\n",
              "      <td>2021-03-04 12:03:00</td>\n",
              "      <td>春だな(´・ω・`)\\n株価も下がってきたね。\\n\\nさて、何度も何度も春だと書いてきたけれ...</td>\n",
              "    </tr>\n",
              "    <tr>\n",
              "      <th>39</th>\n",
              "      <td>2021-03-03 11:05:09</td>\n",
              "      <td>日経cnbc！</td>\n",
              "    </tr>\n",
              "    <tr>\n",
              "      <th>40</th>\n",
              "      <td>2021-03-03 11:00:01</td>\n",
              "      <td>春の珍事も終わりか(´・ω・`)\\nま、春だからねぇ…\\n春かぁ…</td>\n",
              "    </tr>\n",
              "    <tr>\n",
              "      <th>41</th>\n",
              "      <td>2021-03-03 10:01:07</td>\n",
              "      <td>地味だけど悪くないwww\\n中長期で持てばいいなwww</td>\n",
              "    </tr>\n",
              "    <tr>\n",
              "      <th>...</th>\n",
              "      <td>...</td>\n",
              "      <td>...</td>\n",
              "    </tr>\n",
              "    <tr>\n",
              "      <th>279</th>\n",
              "      <td>2021-01-05 11:00:04</td>\n",
              "      <td>ここもちょいちょい見とくかな(｡･ω･?)</td>\n",
              "    </tr>\n",
              "    <tr>\n",
              "      <th>280</th>\n",
              "      <td>2021-01-05 10:00:08</td>\n",
              "      <td>買い板3510―5300株　2件の5000株が消えた、見せ板か。</td>\n",
              "    </tr>\n",
              "    <tr>\n",
              "      <th>281</th>\n",
              "      <td>2021-01-05 09:03:07</td>\n",
              "      <td>もう少し増したいがなかなか落ちてこないべ、この辺が底でねーの？\\n抜けた歯が埋まったか（笑）</td>\n",
              "    </tr>\n",
              "    <tr>\n",
              "      <th>282</th>\n",
              "      <td>2021-01-05 09:00:09</td>\n",
              "      <td>昨日の安値近辺でイン予定</td>\n",
              "    </tr>\n",
              "    <tr>\n",
              "      <th>283</th>\n",
              "      <td>2021-01-05 09:00:09</td>\n",
              "      <td>帰ってきたでねーか（笑）</td>\n",
              "    </tr>\n",
              "  </tbody>\n",
              "</table>\n",
              "<p>247 rows × 2 columns</p>\n",
              "</div>"
            ],
            "text/plain": [
              "                    Date                                               Text\n",
              "37   2021-03-04 12:04:06                               再ＩＮ(^ω^)\\nちょっと売られ過ぎ。\n",
              "38   2021-03-04 12:03:00  春だな(´・ω・`)\\n株価も下がってきたね。\\n\\nさて、何度も何度も春だと書いてきたけれ...\n",
              "39   2021-03-03 11:05:09                                            日経cnbc！\n",
              "40   2021-03-03 11:00:01                  春の珍事も終わりか(´・ω・`)\\nま、春だからねぇ…\\n春かぁ…\n",
              "41   2021-03-03 10:01:07                        地味だけど悪くないwww\\n中長期で持てばいいなwww\n",
              "..                   ...                                                ...\n",
              "279  2021-01-05 11:00:04                              ここもちょいちょい見とくかな(｡･ω･?)\n",
              "280  2021-01-05 10:00:08                   買い板3510―5300株　2件の5000株が消えた、見せ板か。\n",
              "281  2021-01-05 09:03:07     もう少し増したいがなかなか落ちてこないべ、この辺が底でねーの？\\n抜けた歯が埋まったか（笑）\n",
              "282  2021-01-05 09:00:09                                       昨日の安値近辺でイン予定\n",
              "283  2021-01-05 09:00:09                                       帰ってきたでねーか（笑）\n",
              "\n",
              "[247 rows x 2 columns]"
            ]
          },
          "metadata": {
            "tags": []
          },
          "execution_count": 108
        }
      ]
    }
  ]
}