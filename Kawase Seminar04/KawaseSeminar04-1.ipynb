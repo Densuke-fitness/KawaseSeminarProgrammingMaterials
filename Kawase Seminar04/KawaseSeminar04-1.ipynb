{
 "cells": [
  {
   "cell_type": "markdown",
   "id": "educated-witch",
   "metadata": {},
   "source": [
    "<p style=\"text-align:center\"><font size=\"10\" >Kawase Seminar 04-1</font></p>"
   ]
  },
  {
   "cell_type": "markdown",
   "id": "computational-casting",
   "metadata": {},
   "source": [
    "# **テキストマイニング入門**\n",
    "04-1ではテキストマイニングの基礎となるデータ分析の説明ととpythonで分析をするための基本操作を学んでいきます。\n",
    "\n",
    "04-2 ではテキストマイニングの実践として、歌詞メーカーを実装していきます。"
   ]
  },
  {
   "cell_type": "markdown",
   "id": "adverse-spanking",
   "metadata": {},
   "source": [
    "**スライドで簡単なテキストマイニングの振り返り**\n",
    "https://docs.google.com/presentation/d/1jvaBd_rLNTmrY2NVpBajqVYrQKHr_bqSktMTsXcOZFY/edit#slide=id.gd91e1f37e_1_106"
   ]
  },
  {
   "cell_type": "markdown",
   "id": "weird-worship",
   "metadata": {},
   "source": [
    "# **1.テキストマイニングの概要**\n",
    "テキストマイニングは文字列においての**データ分析**です。\n",
    "\n",
    "そのためここではテキストマイニングについての基本知識を学んでいき、\n",
    "\n",
    "その次の章で全般的なデータ分析の説明とpythonによる分析の基本操作をレクチャーしていきます。\n",
    "\n",
    "\n",
    "## 1.1テキストマイニングとは\n",
    "[![Image from Gyazo](https://i.gyazo.com/733f034c5b1a698c0a083dab64b2327f.png)](https://gyazo.com/733f034c5b1a698c0a083dab64b2327f)\n",
    "\n",
    "テキストマイニングとは**文字列を対象としたデータマイニング(データを解析し有用な知識を取り出すこと)**のことを指します。\n",
    "\n",
    "テキストマイニングは、歌詞や口コミのレビューなどの文字列（文章）データに対して解析をおこない、分析者が求める答えを取り出すことができます。\n",
    "\n",
    "例えば、ある歌手の歌詞の言葉の傾向を調べたいとします。\n",
    "\n",
    "このとき、季節をテーマにした曲ならその季節に沿った単語であったり、恋愛を題材にした曲なら恋愛に沿った単語が使われることが想定されます。\n",
    "\n",
    "これを、実際に単語単位で集計し単語が多い順に並べたり、単語の傾向とプラス/マイナスの感情の単語が多いのかどうかなども判別したりもできます！\n",
    "\n",
    "このようなデータの分析方法がテキストマイニングです！\n",
    "\n",
    "---\n",
    "\n",
    "## 1.2テキストマイニングでできること\n",
    "\n",
    "ここではテキストマイニングでできることについて解説していきます。\n",
    "\n",
    "これを知ることで、実務でデータを扱う際にテキストマイニングが一手法として有効かどうかもわかるようになります。\n",
    "\n",
    "テキストマイニングでできることが主に4つです。\n",
    "\n",
    "### 文字列の可視化（技術:ワードクラウド）\n",
    "\n",
    "「文字列の可視化」とは、例えばcsvに格納されている文字列がどうなっているのか直感的に理解できる、ということができます。\n",
    "\n",
    "[![Image from Gyazo](https://i.gyazo.com/bb73872eb2e0b10ac7f98a57e98f9001.png)](https://gyazo.com/bb73872eb2e0b10ac7f98a57e98f9001)\n",
    "\n",
    "\n",
    "引用：いまさら聞けない文字の見える化「ワードクラウド」 ～入門編～\n",
    "\n",
    "### 文字列の繋がりの把握(技術:word2vec)\n",
    "\n",
    "\n",
    "### 文字列のデータ群を分解したときの傾向のグループ分け（技術:k-means法, SVM, トピックモデル）\n",
    "\n",
    "\n",
    "### 文字列の要素の抽象化（技術:主成分分析）\n",
    "\n",
    "\n",
    "\n",
    "様々なものを羅列しましたが、要するにテキストマイニングは、\n",
    "\n",
    "「文字列」に対して分析をするのにが用いられる、ということを知っていればとりあえずは大丈夫です。\n",
    "\n",
    "---\n"
   ]
  },
  {
   "cell_type": "markdown",
   "id": "familiar-cameroon",
   "metadata": {},
   "source": []
  },
  {
   "cell_type": "markdown",
   "id": "exterior-olympus",
   "metadata": {},
   "source": [
    "## 2. データ分析についてざっくり解説\n",
    "先ほどテキストマイニングについて説明しましたが、そもそものデータ分析についてざっくり解説していきます。\n",
    "\n",
    "\n",
    "### その前に、、、学習意欲向上のための導入\n",
    "ここ最近、「AIが仕事を奪う」や「機械学習は学んだほうが良い」などデータを使って何かをするプログラミングについて爆発的に叫ばれるようになりました。\n",
    "\n",
    "それもそのはず、データを使ったモノは数多く身の回りにあるためです。\n",
    "\n",
    "身近なところでは、Googleによる「自動翻訳」やAmazonショッピングの「オススメ（レコメンデーション）」などです。\n",
    "\n",
    "[![Image from Gyazo](https://i.gyazo.com/4abba809bf189658c9099ac245df1188.png)](https://gyazo.com/4abba809bf189658c9099ac245df1188)\n",
    "\n",
    "引用: DeepL Translate\n",
    "\n",
    "このように、今後もデータを使って社会のインフラが変わっていくことが言うまでもありません。\n",
    "\n",
    "しかし、データを使うこと（データ分析）がなぜ社会のインフラを変えうるのか、そもそもデータ分析は何なのか、を分かってないと、社会の変化に取り残されてしまったり、将来を見据えて行動することができなくなってしまいます。\n",
    "\n",
    "したがって、テキストマイニングにかぎらずデータ分析の知見はあったほうが良いと思われます💪"
   ]
  },
  {
   "cell_type": "code",
   "execution_count": null,
   "id": "timely-brighton",
   "metadata": {},
   "outputs": [],
   "source": []
  },
  {
   "cell_type": "markdown",
   "id": "arctic-corruption",
   "metadata": {},
   "source": [
    "1.1 機械学習とは\n",
    "与えられた情報から自動的にパターンを抽出(学習)して特定の処理を効率的に実行するプログラムを作成するための技術。"
   ]
  },
  {
   "cell_type": "code",
   "execution_count": null,
   "id": "reserved-platinum",
   "metadata": {},
   "outputs": [],
   "source": []
  },
  {
   "cell_type": "markdown",
   "id": "higher-wound",
   "metadata": {},
   "source": [
    "## reference\n",
    "今回は以前に田村が執筆した記事を参考に作成しています。興味がある方はぜひ見てください。\n",
    "\n",
    "- [Pythonでテキストマイニングをしよう！](https://defilabo.io/text_mining/#%E3%83%86%E3%82%AD%E3%82%B9%E3%83%88%E3%83%9E%E3%82%A4%E3%83%8B%E3%83%B3%E3%82%B0%E3%81%A8%E3%81%AF)\n",
    "\n",
    "- [Pythonによるデータ分析① タイタニックの生存予測をしよう！](https://defilabo.io/python_dataanalysis_01/#%E3%83%87%E3%83%BC%E3%82%BF%E5%88%86%E6%9E%90%E3%81%A8%E3%81%AF)\n",
    "- [Pythonで機械学習入門①教師あり学習編](https://defilabo.io/python_machinelearning_01/)\n",
    "\n",
    "その他の記事はこちら\n",
    "- [田村の記事まとめサイト](https://densuke.work/Articles.html)"
   ]
  }
 ],
 "metadata": {
  "kernelspec": {
   "display_name": "Python 3",
   "language": "python",
   "name": "python3"
  },
  "language_info": {
   "codemirror_mode": {
    "name": "ipython",
    "version": 3
   },
   "file_extension": ".py",
   "mimetype": "text/x-python",
   "name": "python",
   "nbconvert_exporter": "python",
   "pygments_lexer": "ipython3",
   "version": "3.8.8"
  }
 },
 "nbformat": 4,
 "nbformat_minor": 5
}
