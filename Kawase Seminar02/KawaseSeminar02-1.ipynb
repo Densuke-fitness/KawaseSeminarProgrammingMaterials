{
 "cells": [
  {
   "cell_type": "markdown",
   "id": "actual-caribbean",
   "metadata": {},
   "source": [
    "<p style=\"text-align:center\"><font size=\"10\" >Kawase Seminar 02-1</font></p>"
   ]
  },
  {
   "cell_type": "markdown",
   "id": "distributed-infrastructure",
   "metadata": {},
   "source": [
    "# 1.1 繰り返し文"
   ]
  },
  {
   "cell_type": "markdown",
   "id": "conventional-madrid",
   "metadata": {},
   "source": [
    "## for文\n",
    "例えば「1 から 10 まで連続で出力し、1~10までの合計を出してください。」と言われて\n",
    "\n",
    "1 つ 1 つ print 関数を書いたり合計を足していくのはしんどいです。\n",
    "\n",
    "この時for 文を使うことで簡潔に書くこと\n",
    "ができます。"
   ]
  },
  {
   "cell_type": "code",
   "execution_count": 47,
   "id": "diagnostic-history",
   "metadata": {},
   "outputs": [
    {
     "name": "stdout",
     "output_type": "stream",
     "text": [
      "0 1 2 3 4 5 6 7 8 9 \n",
      " 45\n"
     ]
    }
   ],
   "source": [
    "sum_num = 0\n",
    "# range関数を使用すると、数字分繰り返し処理をする\n",
    "for i in range(10):\n",
    "    print(i, end= \" \")\n",
    "    sum_num += i\n",
    "print(\"\\n\", sum_num)"
   ]
  },
  {
   "cell_type": "code",
   "execution_count": null,
   "id": "traditional-august",
   "metadata": {},
   "outputs": [],
   "source": [
    "# i には [0, 1, 2, 3, 4, 5] の 0 番目から１個ずつ格納される\n",
    "for i in [0, 1, 2, 3, 4, 5]:\n",
    "    print(i)"
   ]
  },
  {
   "cell_type": "code",
   "execution_count": 17,
   "id": "bright-table",
   "metadata": {},
   "outputs": [],
   "source": [
    "list1 = [0, 1, 2, 3, 4, 5, 6, 7, 8, 9, 10]\n",
    "#len関数でlist型やstr型の長さを求め、そこからrangeをする\n",
    "count = 100\n",
    "for idx in range(len(li)):\n",
    "    li[idx] -= count\n",
    "print(li)\n",
    "\n",
    "str1 =  \"こんにちは\"\n",
    "for idx in range(len(str1)):\n",
    "    print(str1[idx])"
   ]
  },
  {
   "cell_type": "code",
   "execution_count": 45,
   "id": "cleared-bottom",
   "metadata": {},
   "outputs": [
    {
     "name": "stdout",
     "output_type": "stream",
     "text": [
      "0 0\n",
      "0 1\n",
      "0 2\n",
      "1 0\n",
      "1 1\n",
      "1 2\n",
      "2 0\n",
      "2 1\n",
      "2 2\n"
     ]
    }
   ],
   "source": [
    "# forを2重にすることもできる\n",
    "for i in range(3):\n",
    "    for  k in range(3):\n",
    "        print(i, k )"
   ]
  },
  {
   "cell_type": "markdown",
   "id": "incoming-laptop",
   "metadata": {},
   "source": [
    "### pass, break, continue"
   ]
  },
  {
   "cell_type": "code",
   "execution_count": 34,
   "id": "quantitative-boating",
   "metadata": {},
   "outputs": [
    {
     "name": "stdout",
     "output_type": "stream",
     "text": [
      "start\n",
      "end\n"
     ]
    }
   ],
   "source": [
    "# pass を使ってみる\n",
    "# pass は構文内で使用可能 \n",
    "print(\"start\")\n",
    "for i in range(50):\n",
    "    pass\n",
    "print(\"end\")"
   ]
  },
  {
   "cell_type": "code",
   "execution_count": 43,
   "id": "rough-increase",
   "metadata": {},
   "outputs": [
    {
     "name": "stdout",
     "output_type": "stream",
     "text": [
      "1. 2. 4. 5. 7. 8. 10. 11. 13. 14. 16. 17. 19. 20. 22. 23. 25. 26. 28. 29. 31. 32. 34. 35. 37. 38. 40. 41. 43. 44. 46. 47. 49. "
     ]
    }
   ],
   "source": [
    "# continue を使ってみる\n",
    "# continue はループ内で使用可能\n",
    "for i in range(50):\n",
    "    # i が 3 で割り切れるかどうか\n",
    "    if i % 3 == 0:\n",
    "        continue \n",
    "    print(i, end=\". \")"
   ]
  },
  {
   "cell_type": "code",
   "execution_count": 42,
   "id": "hazardous-phenomenon",
   "metadata": {},
   "outputs": [
    {
     "name": "stdout",
     "output_type": "stream",
     "text": [
      "0, 1, 2, 3, 4, 5, 6, 7, 8, 9, 10, 11, 12, 13, 14, 15, 16, 17, 18, 19, 20, 21, 22, 23, 24, "
     ]
    }
   ],
   "source": [
    "# break を使ってみる\n",
    "# break はループ内で使用可能\n",
    "for i in range(50):\n",
    "    # i が 25 以上かどうか\n",
    "    if i >= 25:\n",
    "        break \n",
    "    print(i, end=\", \")"
   ]
  },
  {
   "cell_type": "markdown",
   "id": "coordinated-particular",
   "metadata": {},
   "source": [
    "## while文\n",
    "例えば「ループの中で毎回 1 から 10 の乱数を取得し、取得した乱数の合計値が 100 を超えた時にループが終了する」ような場合、\n",
    "\n",
    "for 文のような厳密に「何回ループする」といったループだと対応できません。\n",
    "\n",
    "そのような場合に活躍するものが while 文になります。"
   ]
  },
  {
   "cell_type": "code",
   "execution_count": null,
   "id": "ecological-configuration",
   "metadata": {},
   "outputs": [],
   "source": [
    "# while 文は bool型 で True の時ループを行う\n",
    "num = 0\n",
    "while num <= 5:\n",
    "    print(num)\n",
    "    num += 1"
   ]
  },
  {
   "cell_type": "code",
   "execution_count": null,
   "id": "inclusive-production",
   "metadata": {},
   "outputs": [],
   "source": [
    "# True を書いてしまうと無限ループに陥る\n",
    "# while True :\n",
    "#     print(\"本実行は終了しません。強制終了してください。\")"
   ]
  },
  {
   "cell_type": "code",
   "execution_count": 22,
   "id": "imperial-phase",
   "metadata": {
    "collapsed": true
   },
   "outputs": [
    {
     "name": "stdout",
     "output_type": "stream",
     "text": [
      "1\n",
      "2\n",
      "3\n",
      "4\n",
      "5\n",
      "6\n",
      "7\n",
      "8\n",
      "9\n",
      "10\n"
     ]
    }
   ],
   "source": [
    "#breakとうまく組み合わせれば強い武器に\n",
    "count = 0\n",
    "while True :\n",
    "    count += 1\n",
    "    print(count)\n",
    "    if 10<= count :\n",
    "        break"
   ]
  },
  {
   "cell_type": "markdown",
   "id": "voluntary-roads",
   "metadata": {},
   "source": [
    "---\n",
    "# Exercise 02-1 問題"
   ]
  },
  {
   "cell_type": "markdown",
   "id": "freelance-treasury",
   "metadata": {},
   "source": [
    "### (1)for とsetの応用\n",
    "\n",
    "```python\n",
    "#importを後ほど解説\n",
    "import random\n",
    "random_n = [random.randint(0,10) for i in range(15)]\n",
    "##########################\n",
    "\n",
    "この時、リスト型 random_n には\n",
    "0 から 10 までのどれかの整数が\n",
    "ランダムに 15 個格納されている\n",
    "\n",
    "このとき、random_n には何種類の数字が含まれているのか調べよ\n",
    "```"
   ]
  },
  {
   "cell_type": "code",
   "execution_count": 49,
   "id": "analyzed-publisher",
   "metadata": {},
   "outputs": [],
   "source": [
    "import random\n",
    "random_n = [random.randint(0,10) for i in range(15)]\n",
    "#ここに記述せよ"
   ]
  },
  {
   "cell_type": "markdown",
   "id": "opponent-delight",
   "metadata": {},
   "source": [
    "## (2)dictとwhile(for)\n",
    "\n",
    "```python\n",
    "----------------------------\n",
    "chr(97) は \"a\"\n",
    "chr(98) は \"b\"\n",
    "…\n",
    "chr(122)は \"z\" を示している。\n",
    "----------------------------\n",
    "\n",
    "この時、dict_alphabet という dict型変数に\n",
    "上記のアルファベットをキーとして\n",
    "\n",
    "------------\n",
    "\"a\" → 1\n",
    "\"b\" → 2\n",
    "…\n",
    "\"z\" → 26\n",
    "------------\n",
    "\n",
    "というように対応する数字をバリューとして\n",
    "格納せよ。\n",
    "```"
   ]
  },
  {
   "cell_type": "code",
   "execution_count": null,
   "id": "established-belle",
   "metadata": {},
   "outputs": [],
   "source": [
    "#ここに記述せよ\n"
   ]
  },
  {
   "cell_type": "markdown",
   "id": "meaning-aluminum",
   "metadata": {},
   "source": [
    "### (3) for文の入れ子\n",
    "\n",
    "```python\n",
    "九九を 1 × 1 ＝ 1 から出力せよ\n",
    "(例：\n",
    "1 × 1 ＝ 1 \n",
    "1 × 2 ＝ 2 \n",
    "1 × 3 ＝ 3\n",
    "…\n",
    "9 × 7 ＝ 63 \n",
    "9 × 8 ＝ 72\n",
    "9 × 9 ＝ 81 \n",
    "上記のように出力せよ)\n",
    "```"
   ]
  },
  {
   "cell_type": "code",
   "execution_count": null,
   "id": "gentle-louisville",
   "metadata": {},
   "outputs": [],
   "source": [
    "#ここに記述せよ"
   ]
  },
  {
   "cell_type": "markdown",
   "id": "subtle-collectible",
   "metadata": {},
   "source": [
    "## (4)文字列の一致\n",
    "\n",
    "```python\n",
    "input関数で入力された２つの文字列に対して\n",
    "文字列が何文字一致しているか調べてその個数を返す関数を作成せよ\n",
    "「一致」はその文字の位置と文字自身が同じ場合を一致とする\n",
    "(例①：\n",
    "input1 = \"あいうえおか\"\n",
    "input2 = \"あいうおか\"\n",
    " の場合、\"あいう\"の３文字が一致している\n",
    " \n",
    " 例②：\n",
    "input1 = \"abcde\"\n",
    "input2 = \"edcba\"\n",
    " の場合、\"c\"のみ一致している\n",
    ")\n",
    "```"
   ]
  },
  {
   "cell_type": "code",
   "execution_count": null,
   "id": "similar-technician",
   "metadata": {},
   "outputs": [],
   "source": [
    "#ここに記述せよ"
   ]
  },
  {
   "cell_type": "markdown",
   "id": "psychological-curve",
   "metadata": {},
   "source": [
    "## (5)　世界のナベアツ問題\n",
    "```python\n",
    "1 <= N =<40 の範囲を持つN　をfor で回し、N が 3の倍数または3がつく場合に \"アホ\" と出力せよ。\n",
    "また、N = 40の時に、 \"オモロー\"と出力せよ。\n",
    "それ以外の値はNの値を出力せよ。\n",
    "```"
   ]
  },
  {
   "cell_type": "code",
   "execution_count": null,
   "id": "brief-quantity",
   "metadata": {},
   "outputs": [],
   "source": [
    "#ここに記述せよ"
   ]
  },
  {
   "cell_type": "markdown",
   "id": "operating-carnival",
   "metadata": {},
   "source": [
    "---\n",
    "# 1.2 ライブラリの読み込みと使用\n",
    "\n",
    "\n",
    "ライブラリの定義は曖昧ですが、一般的に汎用性の高いプログラムを再利用可能な形にしたものです。\n",
    "\n",
    "ライブラリを利用することで、中身の複雑な処理を理解しなくても簡単に実装したいことを表現することができます。\n",
    "\n",
    "ライブラリには標準ライブラリと外部ライブラリがあります。"
   ]
  },
  {
   "cell_type": "markdown",
   "id": "curious-whale",
   "metadata": {},
   "source": [
    "### 標準ライブラリの使用\n",
    "\n",
    "標準ライブラリはインストールの必要がなくコード内で読み込むだけで利用可能なライブラリを指します。\n",
    "\n",
    "標準ライブラリ一覧 -> https://docs.python.org/3/tutorial/stdlib.html"
   ]
  },
  {
   "cell_type": "markdown",
   "id": "surprised-zimbabwe",
   "metadata": {},
   "source": [
    " **ライブラリの読み込み方**\n",
    "- from ライブラリ名 import (モジュール/クラス/変数)\n",
    "\n",
    "\n",
    "**ライブラリの使い方**\n",
    "- (ライブラリ名).(クラス/関数/変数)"
   ]
  },
  {
   "cell_type": "code",
   "execution_count": null,
   "id": "champion-train",
   "metadata": {},
   "outputs": [],
   "source": [
    "# random ライブラリのインポート\n",
    "import random\n",
    "\n",
    "# 「インポートしたライブラリ名.メソッド」で呼び出し可能\n",
    "print(random.randint(1, 10))"
   ]
  },
  {
   "cell_type": "code",
   "execution_count": null,
   "id": "surprised-damages",
   "metadata": {},
   "outputs": [],
   "source": [
    "# random ライブラリの特定メソッドのみインポート\n",
    "from random import randint\n",
    "\n",
    "# 「インポートしたライブラリのメソッド」で呼び出し可能\n",
    "print(randint(1, 10))"
   ]
  },
  {
   "cell_type": "code",
   "execution_count": null,
   "id": "italian-surgery",
   "metadata": {},
   "outputs": [],
   "source": [
    "# random ライブラリのメソッド全てを直接利用したい場合\n",
    "from random import *\n",
    "\n",
    "# 直接メソッドを呼び出せる\n",
    "print(randint(1, 10))\n",
    "print(uniform(0, 10))"
   ]
  },
  {
   "cell_type": "code",
   "execution_count": 50,
   "id": "interracial-intranet",
   "metadata": {},
   "outputs": [
    {
     "name": "stdout",
     "output_type": "stream",
     "text": [
      "10\n"
     ]
    }
   ],
   "source": [
    "# random ライブラリを別名でインポート\n",
    "import random as rd\n",
    "\n",
    "# 「別名.メソッド」で呼び出し可能\n",
    "print(rd.randint(1, 10))"
   ]
  },
  {
   "cell_type": "markdown",
   "id": "satisfied-survivor",
   "metadata": {},
   "source": [
    "### 外部ライブラリの使用\n",
    "外部ライブラリは個人や企業が作成しているため豊富な種類があり、\n",
    "\n",
    "インターネット上からインストールすることで利用可能なライブラリを指します。"
   ]
  },
  {
   "cell_type": "code",
   "execution_count": 59,
   "id": "representative-immunology",
   "metadata": {},
   "outputs": [
    {
     "name": "stdout",
     "output_type": "stream",
     "text": [
      "Requirement already satisfied: faker in /opt/conda/lib/python3.8/site-packages (6.5.0)\r\n",
      "Requirement already satisfied: text-unidecode==1.3 in /opt/conda/lib/python3.8/site-packages (from faker) (1.3)\r\n",
      "Requirement already satisfied: python-dateutil>=2.4 in /opt/conda/lib/python3.8/site-packages (from faker) (2.8.1)\r\n",
      "Requirement already satisfied: six>=1.5 in /opt/conda/lib/python3.8/site-packages (from python-dateutil>=2.4->faker) (1.15.0)\r\n"
     ]
    }
   ],
   "source": [
    "#fakerと呼ばれるサードパーティのライブラリをpip nstallして使えるようにする\n",
    "!pip install faker"
   ]
  },
  {
   "cell_type": "code",
   "execution_count": 58,
   "id": "outside-administrator",
   "metadata": {},
   "outputs": [
    {
     "name": "stdout",
     "output_type": "stream",
     "text": [
      "morirei@yahoo.com\n",
      "石井 充\n"
     ]
    }
   ],
   "source": [
    "from faker import Faker\n",
    "#外部ライブラリを\n",
    "fake = Faker(\"ja_JP\")\n",
    "print(fake.email())\n",
    "print(fake.name())"
   ]
  },
  {
   "cell_type": "markdown",
   "id": "imperial-morgan",
   "metadata": {},
   "source": [
    "# Exercise 02-2 問題"
   ]
  },
  {
   "cell_type": "markdown",
   "id": "efficient-circulation",
   "metadata": {},
   "source": [
    "### (1)ライブラリの利用①\n",
    "\n",
    "```python\n",
    "標準ライブラリであるos ライブラリをimportし、 getcwdメソッドを使用して\n",
    "現在のワーキングディレクトリを表示せよ。\n",
    "```"
   ]
  },
  {
   "cell_type": "code",
   "execution_count": 61,
   "id": "operating-roots",
   "metadata": {},
   "outputs": [
    {
     "data": {
      "text/plain": [
       "'/home/jovyan/work/LEC02'"
      ]
     },
     "execution_count": 61,
     "metadata": {},
     "output_type": "execute_result"
    }
   ],
   "source": [
    "#ここに記述せよ\n",
    "import os\n",
    "os.getcwd()"
   ]
  },
  {
   "cell_type": "markdown",
   "id": "fleet-correlation",
   "metadata": {},
   "source": [
    "### (2)ライブラリの利用②\n",
    "\n",
    "```python\n",
    "random, statisticsライブラリをimport後、\n",
    "配列の中に random ライブラリを使用して 0 <= i <= 1 の少数を 100 個格納し\n",
    "statistics ライブラリの median メソッドを使用して\n",
    "配列の中央値を求めよ\n",
    "\n",
    "```\n",
    "\n",
    "<h4 style= \"color:red; \">メソッドなどはネットで調べること！！！</h4>"
   ]
  },
  {
   "cell_type": "code",
   "execution_count": 70,
   "id": "junior-influence",
   "metadata": {},
   "outputs": [],
   "source": [
    "#ここに記述せよ"
   ]
  },
  {
   "cell_type": "markdown",
   "id": "final-container",
   "metadata": {},
   "source": [
    "### (3)ライブラリの利用③\n",
    "\n",
    "```python\n",
    "matplotlib, numpy　ライブラリを利用して、\n",
    "y = sin(x) (0 ≦ x ≦ 2π)を描画せよ\n",
    "```\n",
    "<h4 style= \"color:red; \">ググって作ってみよう！！！</h4>"
   ]
  },
  {
   "cell_type": "code",
   "execution_count": null,
   "id": "dimensional-youth",
   "metadata": {},
   "outputs": [],
   "source": [
    "#ここに記述せよ"
   ]
  }
 ],
 "metadata": {
  "kernelspec": {
   "display_name": "Python 3",
   "language": "python",
   "name": "python3"
  },
  "language_info": {
   "codemirror_mode": {
    "name": "ipython",
    "version": 3
   },
   "file_extension": ".py",
   "mimetype": "text/x-python",
   "name": "python",
   "nbconvert_exporter": "python",
   "pygments_lexer": "ipython3",
   "version": "3.8.8"
  }
 },
 "nbformat": 4,
 "nbformat_minor": 5
}
