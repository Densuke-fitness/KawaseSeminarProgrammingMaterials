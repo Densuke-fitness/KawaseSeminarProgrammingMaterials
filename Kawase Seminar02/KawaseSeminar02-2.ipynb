{
 "cells": [
  {
   "cell_type": "markdown",
   "metadata": {},
   "source": [
    "<p style=\"text-align:center\"><font size=\"10\" >Kawase Seminar 02-2</font></p>"
   ]
  },
  {
   "cell_type": "markdown",
   "metadata": {},
   "source": [
    "# 2.1 クラス\n",
    "クラスは今まで扱ってきた様々な「型」を表しており、クラスにはメソッド等の仕組みがあります。\n",
    "\n",
    "クラスはこのような特定の扱いを行う関数や変数をまとめて扱うことができるので、\n",
    "\n",
    "関数だけでは煩雑になるようなコードをまとめるのに活用されます。\n",
    "\n",
    "クラスの分かりやすい例として人間をクラスとして考えていきましょう。\n",
    "\n",
    "人間(クラス)は生年月日や名前や身長などの属性情報(プロパティ)と、\n",
    "\n",
    "走る・食べる・喋るなどの振る舞い(メソッド)が保存されている概念です。"
   ]
  },
  {
   "cell_type": "markdown",
   "metadata": {},
   "source": [
    "## クラスの作成"
   ]
  },
  {
   "cell_type": "markdown",
   "metadata": {},
   "source": [
    "class クラス名:\n",
    "\n",
    "    変数やメソッド等を記述\n",
    "\n",
    "    ※クラス名のイニシャルは慣例として大文字にする"
   ]
  },
  {
   "cell_type": "code",
   "execution_count": 6,
   "metadata": {},
   "outputs": [],
   "source": [
    "# Dog クラスの作成\n",
    "class Dog:\n",
    "    pass"
   ]
  },
  {
   "cell_type": "code",
   "execution_count": 9,
   "metadata": {},
   "outputs": [],
   "source": [
    "# クラスの中にはメソッドなどを作成できる\n",
    "class Cat:\n",
    "    def __init__(self, name):\n",
    "        self.name = name\n",
    "        \n",
    "    def call(self):\n",
    "        print(f\"{self.name}はニャーと鳴きます\")"
   ]
  },
  {
   "cell_type": "markdown",
   "metadata": {},
   "source": [
    "## クラスのインスタンス化\n",
    "\n",
    "今まで使っていた str 型や int 型はその概念を「文字」や「数字」として実体化する\n",
    "ことでその中のメソッドが使用可能になっていました。\n",
    "\n",
    "同様に自作したクラスも実体化(インスタンス化)させることで利用可能になります。\n",
    "\n",
    "先ほどの「人」の例でも「人」は特定の誰かではなく、「人」という概念そのものを示しているのが分かると思います。\n",
    "\n",
    "クラスは定義しただけでは概念であり、実体化(インスタンス化)させることで初めて扱うことが可能になります。\n",
    "\n",
    "インスタンス化の例としては、人が生まれる(インスタンス化する)ときに名前や生年月日などの与えられる\n",
    "\n",
    "属性情報(プロパティ)が定義されるようなものになります。"
   ]
  },
  {
   "cell_type": "code",
   "execution_count": 39,
   "metadata": {},
   "outputs": [],
   "source": [
    "# 先ほど作成した Dog クラスのインスタンス化\n",
    "poti = Dog()"
   ]
  },
  {
   "cell_type": "code",
   "execution_count": 40,
   "metadata": {},
   "outputs": [],
   "source": [
    "# 先ほど作成した Cat クラスのインスタンス化\n",
    "mike = Cat(\"ミケ\")"
   ]
  },
  {
   "cell_type": "markdown",
   "metadata": {},
   "source": [
    "### インスタンス変数\n",
    "self.インスタンス変数\n",
    "\n",
    "※クラスの中で使う変数。機能は通常の変数と変わらない。"
   ]
  },
  {
   "cell_type": "code",
   "execution_count": 52,
   "metadata": {},
   "outputs": [],
   "source": [
    "# Cat の中には self.name というインスタンス変数が設定されていたので呼び出してみる\n",
    "print(mike.name)"
   ]
  },
  {
   "cell_type": "markdown",
   "metadata": {},
   "source": [
    "### メソッドの呼び出し\n",
    "インスタンス.ユーザー定義メソッド(引数)"
   ]
  },
  {
   "cell_type": "code",
   "execution_count": 66,
   "metadata": {},
   "outputs": [],
   "source": [
    "mike.call()"
   ]
  },
  {
   "cell_type": "markdown",
   "metadata": {},
   "source": [
    "### クラスの利用① プロパティによってメソッドの処理が変わるケース"
   ]
  },
  {
   "cell_type": "markdown",
   "metadata": {},
   "source": [
    "__init__・・・　コンストラクタ（インスタンス化した際の引数の情報等を扱う特殊なメソッド）\n",
    "\n",
    "__str__・・・　strメソッド（インスタンスをprint()で出力することができる特殊なメソッド）\n",
    "\n",
    "def メソッド名(インスタンス自身,引数):\n",
    "\n",
    "　　　　処理文\n",
    "    \n",
    "　　　　※「インスタンス自身」はインスタンス化した時の変数自身を示し\n",
    "    \n",
    "　　　　self はここに入る\n",
    "   \n",
    "　　　　※第一引数は必ずインスタンス自身が来る"
   ]
  },
  {
   "cell_type": "code",
   "execution_count": 8,
   "metadata": {},
   "outputs": [],
   "source": [
    "# Bird クラスを作成してみる\n",
    "class Bird:\n",
    "    # コンストラクタ\n",
    "    def __init__(self, name, age):\n",
    "        # インスタンス変数は引数と同じにしなくてもよいが 同じほうが扱いやすい\n",
    "        self.name = name\n",
    "        self.age = age\n",
    "        \n",
    "    def __str__(self):\n",
    "        return f\"名前:{self.name} , 年齢:{self.age}\" \n",
    "    \n",
    "    def egg(self):\n",
    "        # self が第１引数にあることによって、インスタンス変数が全て利用可能となっている\n",
    "        if self.age > 1:\n",
    "            print(\"{}は卵を産みます。\".format(self.name))\n",
    "        else :\n",
    "            print(\"{}はまだ幼いので卵は産みません。\".format(self.name))"
   ]
  },
  {
   "cell_type": "code",
   "execution_count": 67,
   "metadata": {},
   "outputs": [],
   "source": [
    "# Bird クラスのインスタンスを作成\n",
    "pi_ko = Bird(\"ピーコ\", 2)\n",
    "\n",
    "# egg メソッドを呼び出してみる\n",
    "pi_ko.egg()"
   ]
  },
  {
   "cell_type": "code",
   "execution_count": 68,
   "metadata": {},
   "outputs": [],
   "source": [
    "# Bird クラスのインスタンスを作成\n",
    "pi_suke = Bird(\"ぴーすけ\", 0)\n",
    "\n",
    "# egg メソッドを呼び出してみる\n",
    "pi_suke.egg()"
   ]
  },
  {
   "cell_type": "code",
   "execution_count": 39,
   "metadata": {},
   "outputs": [],
   "source": [
    "#__str__\n",
    "print(pi_ko)"
   ]
  },
  {
   "cell_type": "markdown",
   "metadata": {},
   "source": [
    "### クラスの利用② メソッドが引数を持ったケース"
   ]
  },
  {
   "cell_type": "code",
   "execution_count": 22,
   "metadata": {},
   "outputs": [],
   "source": [
    "# Human クラスの作成\n",
    "class Human:\n",
    "    def __init__(self, name, age):\n",
    "        self.name = name\n",
    "        self.age = age\n",
    "\n",
    "    def __eq__(self, other):\n",
    "        return self.age == other.age\n",
    "        \n",
    "    # 自己紹介のメソッドを自作する\n",
    "    def introduce_myself(self, first_greeting):\n",
    "        print(first_greeting)\n",
    "        print(f\"私の名前は{self.name}です。\")\n",
    "        print(f\"年齢は{self.age}です。\")\n",
    "    \n",
    "    def compare_age(self, other):\n",
    "        if self.age < other.age :\n",
    "            print(f\"{self.name}より{other.name}の方が年上です\")\n",
    "        elif  self.age == other.age :\n",
    "            print(f\"{self.name}と{other.name}は同い年です\")\n",
    "        else:\n",
    "            print(f\"{self.name}より{other.name}の方が年下です\")"
   ]
  },
  {
   "cell_type": "code",
   "execution_count": 69,
   "metadata": {},
   "outputs": [],
   "source": [
    "# Human クラスのインスタンスの生成\n",
    "taro = Human(\"タロウ\", 30)\n",
    "\n",
    "jiro = Human(\"ジロウ\", 21)\n",
    "\n",
    "# ユーザー定義メソッドの呼び出し\n",
    "taro.introduce_myself(\"こんにちは\")\n",
    "taro.compare_age(jiro)"
   ]
  },
  {
   "cell_type": "code",
   "execution_count": 41,
   "metadata": {},
   "outputs": [],
   "source": [
    "#__eq__　\n",
    "taro == jiro"
   ]
  },
  {
   "cell_type": "markdown",
   "metadata": {},
   "source": [
    "# Exercise 02-3 問題"
   ]
  },
  {
   "cell_type": "markdown",
   "metadata": {},
   "source": [
    "### (1)クラス①\n",
    "\n",
    "```python\n",
    "クラスの利用②で使用したHumanクラスから、インスタンスを2つ生成(変数名やプロパティの値は自由)せよ。\n",
    "```"
   ]
  },
  {
   "cell_type": "code",
   "execution_count": 35,
   "metadata": {},
   "outputs": [],
   "source": [
    "#ここに記述せよ"
   ]
  },
  {
   "cell_type": "markdown",
   "metadata": {},
   "source": [
    "### (2)クラス②\n",
    "\n",
    "```python\n",
    "Exercise 02-3 問題　クラス①で生成したインスタンスの2つのうち一方を使い、introduce_myselfメソッドを呼び出せ。\n",
    "(str型を引数として持つことに注意)\n",
    "\n",
    "```"
   ]
  },
  {
   "cell_type": "code",
   "execution_count": 33,
   "metadata": {},
   "outputs": [],
   "source": [
    "#ここに記述せよ"
   ]
  },
  {
   "cell_type": "markdown",
   "metadata": {},
   "source": [
    "### (3)クラス③\n",
    "\n",
    "```python\n",
    "Exercise 02-3 問題　クラス①で生成したインスタンスの2つを使い、compare_ageメソッドを呼び出せ。\n",
    "(Human型を引数として持つことに注意)\n",
    "\n",
    "```"
   ]
  },
  {
   "cell_type": "code",
   "execution_count": 34,
   "metadata": {},
   "outputs": [],
   "source": [
    "#ここに記述せよ"
   ]
  },
  {
   "cell_type": "markdown",
   "metadata": {},
   "source": [
    "### (4)クラス④\n",
    "\n",
    "```python\n",
    "Exercise 02-3 問題　クラス①で生成したインスタンスのうち１つを使い、インスタンスをprint()で出力せよ\n",
    "(__str__メソッドを呼び出せ)\n",
    "\n",
    "```"
   ]
  },
  {
   "cell_type": "code",
   "execution_count": null,
   "metadata": {},
   "outputs": [],
   "source": [
    "#ここに記述せよ"
   ]
  },
  {
   "cell_type": "markdown",
   "metadata": {},
   "source": [
    "---\n",
    "# 2.2 ファイル操作\n",
    "テキストファイル等文字列を扱うファイルを開く・閉じるといった操作を扱います。\n",
    "\n",
    "ファイルを開いてから閉じるまで、ファイルの読み込みや書き込みといった操作を行\n",
    "うことができます。"
   ]
  },
  {
   "cell_type": "markdown",
   "metadata": {},
   "source": [
    "## WIth構文\n",
    "ファイルを開き、何かしら処理を行ったのち閉じる with構文を見ていきます。\n",
    "\n",
    "with 構文の第1引数にファイルのパス、第2引数にモードを指定します。\n",
    "\n",
    "モードには “r”, “w”, “a”, “r+”, “x” の5種類があります(それぞれの説明は以下に記述)。"
   ]
  },
  {
   "cell_type": "markdown",
   "metadata": {},
   "source": [
    "[![Image from Gyazo](https://i.gyazo.com/a2da765477e96286f39281303bed5e96.png)](https://gyazo.com/a2da765477e96286f39281303bed5e96)"
   ]
  },
  {
   "cell_type": "code",
   "execution_count": 28,
   "metadata": {},
   "outputs": [],
   "source": [
    "# with 構文でファイル操作を行う\n",
    "# 上書きを行う\n",
    "txt_list = [\"クフ\", \"カフラー\", \"メンカウラー\"]\n",
    "with open(\"sample.txt\", mode = \"w\") as f :\n",
    "    # リストの中身をつなげて書き込みを行う\n",
    "    for val in txt_list :\n",
    "        f.write(val + \"　\")"
   ]
  },
  {
   "cell_type": "markdown",
   "metadata": {},
   "source": [
    "なお、メソッドは以下のものがある。\n",
    "[![Image from Gyazo](https://i.gyazo.com/47b60705c273d0fc8ac8b6b98a9afe8a.png)](https://gyazo.com/47b60705c273d0fc8ac8b6b98a9afe8a)"
   ]
  },
  {
   "cell_type": "code",
   "execution_count": 32,
   "metadata": {
    "scrolled": true
   },
   "outputs": [],
   "source": [
    "# ファイルを読み込む\n",
    "with open(\"sample.txt\", mode = \"r\") as f :\n",
    "    # 読み込んだ情報を変数に格納することでファイルを閉じても情報を維持できる\n",
    "    txt = f.read()\n",
    "\n",
    "print((txt, type(txt)))\n",
    "\n",
    "txt.split()[2]"
   ]
  },
  {
   "cell_type": "markdown",
   "metadata": {},
   "source": [
    "---\n",
    "# Exercise 02-4 問題"
   ]
  },
  {
   "cell_type": "markdown",
   "metadata": {},
   "source": [
    "### (1)ファイル読み込みのエラー解消\n",
    "\n",
    "```python\n",
    "ファイル読み込み時\n",
    "ファイルがない場合、ファイルを新規生成する関数を作成せよ\n",
    "\n",
    "ヒント・・osライブラリも使用\n",
    "```"
   ]
  },
  {
   "cell_type": "code",
   "execution_count": 49,
   "metadata": {},
   "outputs": [],
   "source": [
    "# ここに記述せよ"
   ]
  },
  {
   "cell_type": "markdown",
   "metadata": {},
   "source": [
    "### (2)ファイル１行１要素\n",
    "\n",
    "```python\n",
    "ファイル書き込み時\n",
    "配列\"prime_ministers\"の要素を書き込むときに\n",
    "１要素で１行使用するような関数を作成せよ\n",
    "```"
   ]
  },
  {
   "cell_type": "code",
   "execution_count": 48,
   "metadata": {},
   "outputs": [],
   "source": [
    "prime_ministers = [\n",
    "    \"伊藤　博文\",\n",
    "    \"黒田　清隆\",\n",
    "    \"山縣　有朋\",\n",
    "    \"松方　正義\",]\n",
    "#ここから記述せよ"
   ]
  },
  {
   "cell_type": "markdown",
   "metadata": {},
   "source": [
    "---\n",
    "# 2.3 その他\n",
    "最後に追加情報として、リスト内包表記とlambda(無名関数)を扱います。"
   ]
  },
  {
   "cell_type": "markdown",
   "metadata": {},
   "source": [
    "## リスト内包表記の使用\n",
    "例えばリストの中に 0 から 100 までの数字を格納せよと言われたとします。\n",
    "\n",
    "for 文を使うのでもいいですが、わざわざそれだけのために3行ものコードを使うのは無駄で\n",
    "す。\n",
    "\n",
    "リスト内包表記を使うことで、ある程度の格納は1行で可能となります。"
   ]
  },
  {
   "cell_type": "code",
   "execution_count": 51,
   "metadata": {},
   "outputs": [],
   "source": [
    "# 一行で 0 から 99 までの整数をリストに格納\n",
    "values = [i for i in range(100)]\n",
    "print(values)"
   ]
  },
  {
   "cell_type": "code",
   "execution_count": 54,
   "metadata": {},
   "outputs": [],
   "source": [
    "# for の入れ子も表現可能\n",
    "list2 = [i * j for j in range(1,10) for i in range(1,10)]\n",
    "print(list2)"
   ]
  },
  {
   "cell_type": "code",
   "execution_count": 55,
   "metadata": {},
   "outputs": [],
   "source": [
    "# リストだけでなく、ディクトなどでも可能\n",
    "dict_alpha = {chr(i): i - 96 for i in range(97, 97 + 26)}\n",
    "print(dict_alpha)"
   ]
  },
  {
   "cell_type": "markdown",
   "metadata": {},
   "source": [
    "## lambdaの使用"
   ]
  },
  {
   "cell_type": "markdown",
   "metadata": {},
   "source": [
    "### ラムダ式の定義\n",
    "```python\n",
    "# このままだと引数などに指定しないと使用不可能\n",
    "lambda x: x + 10\n",
    "```"
   ]
  },
  {
   "cell_type": "code",
   "execution_count": 65,
   "metadata": {},
   "outputs": [],
   "source": [
    "# マップ関数などでよく使用される\n",
    "# [0, 1, 2, 3 ... ,9]\n",
    "values = list(range(10))\n",
    "m = map(lambda x: str(x), values)\n",
    "\n",
    "# マップ関数はジェネレータ型なので全体参照する場合は型を変える必要がある\n",
    "print(list(m))"
   ]
  },
  {
   "cell_type": "markdown",
   "metadata": {},
   "source": [
    "### filter関数　\n",
    "\n",
    "filter関数に入れるもの\n",
    "- 第一引数に条件を判定する関数（この関数の返り値はbool値（TrueかFalse））\n",
    "- 第二引数に元になるシーケンス（listなど）"
   ]
  },
  {
   "cell_type": "code",
   "execution_count": 64,
   "metadata": {},
   "outputs": [],
   "source": [
    "num_list2 = list(range(10,21)) \n",
    "even_list2 = list(filter(lambda x:x % 2 ==0, num_list2))\n",
    "print(even_list2)"
   ]
  },
  {
   "cell_type": "markdown",
   "metadata": {},
   "source": [
    "---\n",
    "# Exercise 02-5 問題"
   ]
  },
  {
   "cell_type": "markdown",
   "metadata": {},
   "source": [
    "### (1)リスト内包表記\n",
    "\n",
    "```python\n",
    "２行のコードで以下の条件を満たせ\n",
    "・リストの中に、1 ≦ i ≦ 100 を満たす整数 i から乱数(int型)を100個格納したリストを作成せよ\n",
    "・ライブラリのインポートも１行にカウントする\n",
    "```"
   ]
  },
  {
   "cell_type": "code",
   "execution_count": 26,
   "metadata": {},
   "outputs": [],
   "source": [
    "#ここに記述せよ"
   ]
  },
  {
   "cell_type": "markdown",
   "metadata": {},
   "source": [
    "### (2)filter 関数\n",
    "\n",
    "```python\n",
    "１行のコードで以下の条件を満たせ\n",
    "(1)で取得したリストを直接使用し、\n",
    "・取得したリストから偶数のみを抽出してリストにせよ\n",
    "```"
   ]
  },
  {
   "cell_type": "code",
   "execution_count": null,
   "metadata": {},
   "outputs": [],
   "source": [
    "#ここに記述せよ"
   ]
  },
  {
   "cell_type": "markdown",
   "metadata": {},
   "source": [
    "----\n",
    "----\n",
    "----"
   ]
  },
  {
   "cell_type": "markdown",
   "metadata": {},
   "source": [
    "# Advanced"
   ]
  },
  {
   "cell_type": "markdown",
   "metadata": {},
   "source": [
    "### Tamura Challenge①\n",
    "\n",
    "クラス、メソッドの実装\n",
    "\n",
    "```python\n",
    "「年齢(int)」「身長(cm)(float型)」「体重(kg)(float型)」の3つの\n",
    "プロパティを保持している Person クラスを作成せよ。(コンストラクタの実装)\n",
    "また、 そのPersonクラスに\"say\", \"run\"メソッドを実装せよ(中身は問わない)。\n",
    "```"
   ]
  },
  {
   "cell_type": "code",
   "execution_count": 2,
   "metadata": {},
   "outputs": [],
   "source": [
    "#ここに記述せよ"
   ]
  },
  {
   "cell_type": "markdown",
   "metadata": {},
   "source": [
    "### Tamura Challenge②\n",
    "\n",
    "```python\n",
    "Tamura Challenge①で作ったPersonクラスをインスタンス化し(引数に入れる値は自由)、say, runメソッドを実行せよ。\n",
    "```"
   ]
  },
  {
   "cell_type": "code",
   "execution_count": 4,
   "metadata": {},
   "outputs": [],
   "source": [
    "#ここに記述せよ"
   ]
  },
  {
   "cell_type": "markdown",
   "metadata": {},
   "source": [
    "### Tamura Challenge③\n",
    "\n",
    "```python\n",
    "Tamura Challenge②で作ったインスタンスの体重(kg)プロパティの中身を出力し表示させ、\n",
    "その後に体重(kg)プロパティの中身に別の値を代入し、\n",
    "再度体重(kg)プロパティの中身を出力し表示させよ。\n",
    "```"
   ]
  },
  {
   "cell_type": "code",
   "execution_count": 5,
   "metadata": {},
   "outputs": [],
   "source": [
    "#ここに記述せよ"
   ]
  },
  {
   "cell_type": "markdown",
   "metadata": {},
   "source": [
    "---\n",
    "# Proficient"
   ]
  },
  {
   "cell_type": "markdown",
   "metadata": {},
   "source": [
    "### Tamura Ultimate① 情報の格納\n",
    "```python\n",
    "現在いるディレクトリにて、Sample フォルダを作成し\n",
    "その中に \"000.txt\" ~ \"999.txt\" の 1000 個のテキストファイルを作成せよ\n",
    "それぞれのファイルの中には乱数で生成した「年齢(int)」「身長(cm)(float)」「体重(kg)(float)」を格納せよ\n",
    "(それぞれのデータの格納の仕方は自由)\n",
    "```"
   ]
  },
  {
   "cell_type": "code",
   "execution_count": null,
   "metadata": {},
   "outputs": [],
   "source": [
    "#ここに記述せよ"
   ]
  },
  {
   "cell_type": "markdown",
   "metadata": {},
   "source": [
    "### Tamura Ultimate② 情報の取り出し\n",
    "\n",
    "```python\n",
    "３桁の整数を入力するとTamura Ultimate①で生成されたテキストファイルから\n",
    "入力された数字と同じファイルを読み込み\n",
    "情報をTamura Challenge①で作成したPersonクラスで取得して返す関数を作成せよ\n",
    "(例：\n",
    "    入力値 → 777\n",
    "    出力値 → Person(\n",
    "                self.age= 27 , \n",
    "                self.height= 175.0, \n",
    "                self.weight= 75.6\n",
    "               )\n",
    "               \n",
    ")\n",
    "\n",
    "```"
   ]
  },
  {
   "cell_type": "code",
   "execution_count": null,
   "metadata": {},
   "outputs": [],
   "source": [
    "#ここに記述せよ"
   ]
  }
 ],
 "metadata": {
  "kernelspec": {
   "display_name": "Python 3",
   "language": "python",
   "name": "python3"
  },
  "language_info": {
   "codemirror_mode": {
    "name": "ipython",
    "version": 3
   },
   "file_extension": ".py",
   "mimetype": "text/x-python",
   "name": "python",
   "nbconvert_exporter": "python",
   "pygments_lexer": "ipython3",
   "version": "3.8.8"
  }
 },
 "nbformat": 4,
 "nbformat_minor": 4
}
