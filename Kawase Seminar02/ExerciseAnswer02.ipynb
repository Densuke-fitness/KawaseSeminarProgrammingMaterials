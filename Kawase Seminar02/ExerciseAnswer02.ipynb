{
 "cells": [
  {
   "cell_type": "markdown",
   "metadata": {},
   "source": [
    "<p style=\"text-align:center\"><font size=\"10\" > Exercise Answer 02</font></p>\n",
    "\n",
    "---\n",
    "---"
   ]
  },
  {
   "cell_type": "markdown",
   "metadata": {},
   "source": [
    "# Exercise 02-1 解答"
   ]
  },
  {
   "cell_type": "code",
   "execution_count": 6,
   "metadata": {
    "scrolled": true
   },
   "outputs": [
    {
     "name": "stdout",
     "output_type": "stream",
     "text": [
      "8\n",
      "8\n"
     ]
    }
   ],
   "source": [
    "#(1)for とsetの応用\n",
    "import random\n",
    "random_n = [random.randint(0,10) for i in range(15)]\n",
    "\n",
    "#ここに記述せよ\n",
    "#print(random_n, set(random_n))\n",
    "\n",
    "#解答\n",
    "count = 0\n",
    "for _ in range(len(set(random_n))):\n",
    "    count += 1\n",
    "print(count)   \n",
    "\n",
    "#別解\n",
    "print(len(set(random_n)))"
   ]
  },
  {
   "cell_type": "code",
   "execution_count": 10,
   "metadata": {},
   "outputs": [
    {
     "name": "stdout",
     "output_type": "stream",
     "text": [
      "{'a': 1, 'b': 2, 'c': 3, 'd': 4, 'e': 5, 'f': 6, 'g': 7, 'h': 8, 'i': 9, 'j': 10, 'k': 11, 'l': 12, 'm': 13, 'n': 14, 'o': 15, 'p': 16, 'q': 17, 'r': 18, 's': 19, 't': 20, 'u': 21, 'v': 22, 'w': 23, 'x': 24, 'y': 25, 'z': 26}\n"
     ]
    }
   ],
   "source": [
    "#(2)\n",
    "dict_alphabet = {}\n",
    "count = 0\n",
    "for i in range(97, 122 + 1):\n",
    "    count += 1\n",
    "    dict_alphabet[chr(i)] = count \n",
    "print(dict_alphabet)"
   ]
  },
  {
   "cell_type": "code",
   "execution_count": 11,
   "metadata": {
    "collapsed": true
   },
   "outputs": [
    {
     "name": "stdout",
     "output_type": "stream",
     "text": [
      "1  × 1 ＝ 1\n",
      "1  × 2 ＝ 2\n",
      "1  × 3 ＝ 3\n",
      "1  × 4 ＝ 4\n",
      "1  × 5 ＝ 5\n",
      "1  × 6 ＝ 6\n",
      "1  × 7 ＝ 7\n",
      "1  × 8 ＝ 8\n",
      "1  × 9 ＝ 9\n",
      "2  × 1 ＝ 2\n",
      "2  × 2 ＝ 4\n",
      "2  × 3 ＝ 6\n",
      "2  × 4 ＝ 8\n",
      "2  × 5 ＝ 10\n",
      "2  × 6 ＝ 12\n",
      "2  × 7 ＝ 14\n",
      "2  × 8 ＝ 16\n",
      "2  × 9 ＝ 18\n",
      "3  × 1 ＝ 3\n",
      "3  × 2 ＝ 6\n",
      "3  × 3 ＝ 9\n",
      "3  × 4 ＝ 12\n",
      "3  × 5 ＝ 15\n",
      "3  × 6 ＝ 18\n",
      "3  × 7 ＝ 21\n",
      "3  × 8 ＝ 24\n",
      "3  × 9 ＝ 27\n",
      "4  × 1 ＝ 4\n",
      "4  × 2 ＝ 8\n",
      "4  × 3 ＝ 12\n",
      "4  × 4 ＝ 16\n",
      "4  × 5 ＝ 20\n",
      "4  × 6 ＝ 24\n",
      "4  × 7 ＝ 28\n",
      "4  × 8 ＝ 32\n",
      "4  × 9 ＝ 36\n",
      "5  × 1 ＝ 5\n",
      "5  × 2 ＝ 10\n",
      "5  × 3 ＝ 15\n",
      "5  × 4 ＝ 20\n",
      "5  × 5 ＝ 25\n",
      "5  × 6 ＝ 30\n",
      "5  × 7 ＝ 35\n",
      "5  × 8 ＝ 40\n",
      "5  × 9 ＝ 45\n",
      "6  × 1 ＝ 6\n",
      "6  × 2 ＝ 12\n",
      "6  × 3 ＝ 18\n",
      "6  × 4 ＝ 24\n",
      "6  × 5 ＝ 30\n",
      "6  × 6 ＝ 36\n",
      "6  × 7 ＝ 42\n",
      "6  × 8 ＝ 48\n",
      "6  × 9 ＝ 54\n",
      "7  × 1 ＝ 7\n",
      "7  × 2 ＝ 14\n",
      "7  × 3 ＝ 21\n",
      "7  × 4 ＝ 28\n",
      "7  × 5 ＝ 35\n",
      "7  × 6 ＝ 42\n",
      "7  × 7 ＝ 49\n",
      "7  × 8 ＝ 56\n",
      "7  × 9 ＝ 63\n",
      "8  × 1 ＝ 8\n",
      "8  × 2 ＝ 16\n",
      "8  × 3 ＝ 24\n",
      "8  × 4 ＝ 32\n",
      "8  × 5 ＝ 40\n",
      "8  × 6 ＝ 48\n",
      "8  × 7 ＝ 56\n",
      "8  × 8 ＝ 64\n",
      "8  × 9 ＝ 72\n",
      "9  × 1 ＝ 9\n",
      "9  × 2 ＝ 18\n",
      "9  × 3 ＝ 27\n",
      "9  × 4 ＝ 36\n",
      "9  × 5 ＝ 45\n",
      "9  × 6 ＝ 54\n",
      "9  × 7 ＝ 63\n",
      "9  × 8 ＝ 72\n",
      "9  × 9 ＝ 81\n"
     ]
    }
   ],
   "source": [
    "#(3)\n",
    "for i in range(1,10):\n",
    "    for k in range(1,10):\n",
    "        #f\"{}\"を使用\n",
    "        print(f\"{i} × {k} ＝ {i * k}\")"
   ]
  },
  {
   "cell_type": "code",
   "execution_count": 12,
   "metadata": {},
   "outputs": [
    {
     "name": "stdout",
     "output_type": "stream",
     "text": [
      "3\n"
     ]
    }
   ],
   "source": [
    "#(4)\n",
    "input1 = \"あいうえおか\"\n",
    "input2 = \"あいうおか\"\n",
    "\n",
    "def count_val(input1, input2):\n",
    "    if len(input1) < len(input2) :\n",
    "        val_length = len(input1)  \n",
    "    else:   \n",
    "        val_length = len(input2)\n",
    "    count = 0\n",
    "    for idx in range(val_length):\n",
    "        if input1[idx] == input2[idx] :\n",
    "            count += 1\n",
    "      \n",
    "    return count\n",
    "\n",
    "print(count_val(input1, input2))"
   ]
  },
  {
   "cell_type": "code",
   "execution_count": 3,
   "metadata": {},
   "outputs": [
    {
     "name": "stdout",
     "output_type": "stream",
     "text": [
      "1\n",
      "2\n",
      "アホ\n",
      "4\n",
      "5\n",
      "アホ\n",
      "7\n",
      "8\n",
      "アホ\n",
      "10\n",
      "11\n",
      "アホ\n",
      "アホ\n",
      "14\n",
      "アホ\n",
      "16\n",
      "17\n",
      "アホ\n",
      "19\n",
      "20\n",
      "アホ\n",
      "22\n",
      "アホ\n",
      "アホ\n",
      "25\n",
      "26\n",
      "アホ\n",
      "28\n",
      "29\n",
      "アホ\n",
      "アホ\n",
      "アホ\n",
      "アホ\n",
      "アホ\n",
      "アホ\n",
      "アホ\n",
      "アホ\n",
      "アホ\n",
      "アホ\n",
      "オモロー\n"
     ]
    }
   ],
   "source": [
    "#(5)\n",
    "for N in range(1, 41):\n",
    "    if N % 3 == 0 or  \"3\" in str(N) :\n",
    "        print(\"アホ\")\n",
    "    elif N == 40:\n",
    "        print(\"オモロー\")\n",
    "    else:\n",
    "        print(N)"
   ]
  },
  {
   "cell_type": "markdown",
   "metadata": {},
   "source": [
    "---\n",
    "# Exercise 02-2 解答"
   ]
  },
  {
   "cell_type": "code",
   "execution_count": 13,
   "metadata": {},
   "outputs": [
    {
     "data": {
      "text/plain": [
       "'/home/jovyan/work/LEC02'"
      ]
     },
     "execution_count": 13,
     "metadata": {},
     "output_type": "execute_result"
    }
   ],
   "source": [
    "#(1)\n",
    "import os\n",
    "os.getcwd()"
   ]
  },
  {
   "cell_type": "code",
   "execution_count": 14,
   "metadata": {},
   "outputs": [
    {
     "data": {
      "text/plain": [
       "0.4589932420717526"
      ]
     },
     "execution_count": 14,
     "metadata": {},
     "output_type": "execute_result"
    }
   ],
   "source": [
    "#(2) \n",
    "import random as rd\n",
    "import statistics as st\n",
    "\n",
    "li = []\n",
    "for _ in range(100):\n",
    "    li.append(rd.random())\n",
    "    \n",
    "st.median(li)"
   ]
  },
  {
   "cell_type": "code",
   "execution_count": 10,
   "metadata": {},
   "outputs": [
    {
     "data": {
      "image/png": "[encoded data removed]",
      "text/plain": [
       "<Figure size 432x288 with 1 Axes>"
      ]
     },
     "metadata": {
      "needs_background": "light"
     },
     "output_type": "display_data"
    }
   ],
   "source": [
    "#(3)\n",
    "import matplotlib.pyplot as plt\n",
    "import numpy as np\n",
    "\n",
    "x = np.linspace(0, 2*np.pi, 500)\n",
    "\n",
    "plt.plot(x,np.sin(x))\n",
    "plt.show()"
   ]
  },
  {
   "cell_type": "markdown",
   "metadata": {},
   "source": [
    "# Exercise 02-3 解答"
   ]
  },
  {
   "cell_type": "code",
   "execution_count": 6,
   "metadata": {},
   "outputs": [],
   "source": [
    "# [[Human クラス]]\n",
    "class Human:\n",
    "    def __init__(self, name, age):\n",
    "        self.name = name\n",
    "        self.age = age\n",
    "    \n",
    "    # 自己紹介のメソッドを自作する\n",
    "    def introduce_myself(self, first_greeting):\n",
    "        print(first_greeting)\n",
    "        print(f\"私の名前は{self.name}です。\")\n",
    "        print(f\"年齢は{self.age}です。\")\n",
    "    \n",
    "    def compare_age(self, other):\n",
    "        if self.age < other.age :\n",
    "            print(f\"{self.name}より{other.name}の方が年上です\")\n",
    "        elif  self.age == other.age :\n",
    "            print(f\"{self.name}と{other.name}は同い年です\")\n",
    "        else:\n",
    "            print(f\"{self.name}より{other.name}の方が年下です\")"
   ]
  },
  {
   "cell_type": "code",
   "execution_count": 7,
   "metadata": {},
   "outputs": [],
   "source": [
    "#(1)\n",
    "# クラスの利用②で使用したHumanクラスから、インスタンスを2つ生成(変数名やプロパティの値は自由)せよ。\n",
    "Yusuke = Human(\"Yusuke\", 21)\n",
    "Takeshi = Human(\"Takeshi\", 21)"
   ]
  },
  {
   "cell_type": "code",
   "execution_count": 8,
   "metadata": {},
   "outputs": [
    {
     "name": "stdout",
     "output_type": "stream",
     "text": [
      "おはようございマッチョ!!\n",
      "私の名前はYusukeです。\n",
      "年齢は21です。\n"
     ]
    }
   ],
   "source": [
    "#(2)\n",
    "# Exercise 02-3 問題　クラス①で生成したインスタンスの2つのうち一方を使い、introduce_myselfメソッドを呼び出せ。\n",
    "# (str型を引数として持つことに注意)\n",
    "Yusuke.introduce_myself(\"おはようございマッチョ!!\")"
   ]
  },
  {
   "cell_type": "code",
   "execution_count": 9,
   "metadata": {},
   "outputs": [
    {
     "name": "stdout",
     "output_type": "stream",
     "text": [
      "Yusukeとkateshiは同い年です\n"
     ]
    }
   ],
   "source": [
    "(3)\n",
    "# Exercise 02-3 問題　クラス①で生成したインスタンスの2つを使い、compare_ageメソッドを呼び出せ。\n",
    "# (Human型を引数として持つことに注意)\n",
    "Yusuke.compare_age(takeshi)"
   ]
  },
  {
   "cell_type": "markdown",
   "metadata": {},
   "source": [
    "---\n",
    "# Exercise 02-4 問題"
   ]
  },
  {
   "cell_type": "code",
   "execution_count": 25,
   "metadata": {},
   "outputs": [
    {
     "name": "stdout",
     "output_type": "stream",
     "text": [
      "読み込みたいファイルを指定してください：sample.txt\n",
      "読み込みました\n",
      "クフ\n",
      "カフラー\n",
      "メンカウラー\n",
      "\n"
     ]
    }
   ],
   "source": [
    "#(1)\n",
    "def read_file(filepath):\n",
    "    with open(filepath, mode = \"r\") as f :\n",
    "        # リストの中身をつなげて書き込みを行う\n",
    "        print(\"読み込みました\")\n",
    "        return f.read()\n",
    "    \n",
    "def create_file(filepath):\n",
    "     with open(filepath, mode = \"w\") as f :\n",
    "        # リストの中身をつなげて書き込みを行う\n",
    "        f.write()\n",
    "        print(\"新規作成しました\")\n",
    "    \n",
    "    \n",
    "\n",
    "import os\n",
    "filepath = input(\"読み込みたいファイルを指定してください：\")\n",
    "\n",
    "if os.path.isfile(filepath) :\n",
    "    print(read_file(filepath))\n",
    "else:\n",
    "    create_file(filepath)"
   ]
  },
  {
   "cell_type": "code",
   "execution_count": 27,
   "metadata": {},
   "outputs": [],
   "source": [
    "#(2)\n",
    "prime_ministers = [\n",
    "    \"伊藤　博文\",\n",
    "    \"黒田　清隆\",\n",
    "    \"山縣　有朋\",\n",
    "    \"松方　正義\",]\n",
    "#ここから記述せよ\n",
    "\n",
    "def write_file(prime_ministers, filepath):\n",
    "    \n",
    "    with open(filepath, mode = \"w\") as f :\n",
    "            # リストの中身をつなげて書き込みを行う\n",
    "            for minister in prime_ministers: \n",
    "                    f.write(minister + \"\\n\")\n",
    "                    \n",
    "    print(f\"fileを上書きしました。 filepath : {filepath}\")"
   ]
  },
  {
   "cell_type": "code",
   "execution_count": 29,
   "metadata": {},
   "outputs": [],
   "source": [
    "#確認用\n",
    "filepath = input()\n",
    "write_file(prime_ministers, filepath)"
   ]
  },
  {
   "cell_type": "markdown",
   "metadata": {},
   "source": [
    "# Exercise 02-5 問題"
   ]
  },
  {
   "cell_type": "code",
   "execution_count": null,
   "metadata": {},
   "outputs": [],
   "source": [
    "#(1)\n",
    "import random as rd\n",
    "rd_values = [rd.randint(1, 100) for _ in range(100)]"
   ]
  },
  {
   "cell_type": "code",
   "execution_count": 19,
   "metadata": {
    "collapsed": true
   },
   "outputs": [
    {
     "name": "stdout",
     "output_type": "stream",
     "text": [
      "[96, 85, 53, 1, 12, 51, 8, 77, 42, 30, 48, 8, 47, 13, 63, 28, 42, 54, 14, 11, 19, 77, 69, 85, 24, 100, 79, 72, 43, 23, 77, 52, 16, 71, 86, 29, 49, 32, 98, 66, 100, 9, 11, 41, 1, 51, 98, 1, 95, 15, 50, 79, 75, 33, 14, 19, 81, 38, 74, 69, 1, 73, 36, 17, 48, 15, 73, 65, 18, 68, 99, 18, 63, 49, 91, 72, 86, 1, 64, 98, 89, 49, 3, 53, 13, 27, 50, 3, 4, 81, 37, 15, 41, 45, 49, 45, 20, 9, 23, 61] 100\n"
     ]
    }
   ],
   "source": [
    "#確認用\n",
    "print(rd_values, len(rd_values))"
   ]
  },
  {
   "cell_type": "code",
   "execution_count": 17,
   "metadata": {},
   "outputs": [],
   "source": [
    "fliter_values = list(filter(lambda x: x % 2 == 0, rd_values))"
   ]
  },
  {
   "cell_type": "code",
   "execution_count": 20,
   "metadata": {
    "collapsed": true
   },
   "outputs": [
    {
     "name": "stdout",
     "output_type": "stream",
     "text": [
      "[96, 12, 8, 42, 30, 48, 8, 28, 42, 54, 14, 24, 100, 72, 52, 16, 86, 32, 98, 66, 100, 98, 50, 14, 38, 74, 36, 48, 18, 68, 18, 72, 86, 64, 98, 50, 4, 20]\n"
     ]
    }
   ],
   "source": [
    "#確認用\n",
    "print(fliter_values)"
   ]
  },
  {
   "cell_type": "markdown",
   "metadata": {},
   "source": [
    "# Advanced"
   ]
  },
  {
   "cell_type": "code",
   "execution_count": 46,
   "metadata": {},
   "outputs": [],
   "source": [
    "# Tamura Challenge①\n",
    "class Person :\n",
    "    def __init__(self, age, height, weight):\n",
    "        self.age = age\n",
    "        self.height = height\n",
    "        self.weight = weight\n",
    "        \n",
    "    def say(self, greeting):\n",
    "        print(greeting)\n",
    "    \n",
    "    def run(self):\n",
    "        speed = self.height/100 * self.weight/2 - self.age\n",
    "        print(f\"時速{round(speed, 1)}キロで走ります\")"
   ]
  },
  {
   "cell_type": "code",
   "execution_count": 47,
   "metadata": {},
   "outputs": [
    {
     "name": "stdout",
     "output_type": "stream",
     "text": [
      "hello\n",
      "時速34.4キロで走ります\n"
     ]
    }
   ],
   "source": [
    "# Tamura Challenge②\n",
    "Kento = Person(21, 170.2, 65.1)\n",
    "Kento.say(\"hello\")\n",
    "Kento.run()"
   ]
  },
  {
   "cell_type": "code",
   "execution_count": 48,
   "metadata": {},
   "outputs": [
    {
     "name": "stdout",
     "output_type": "stream",
     "text": [
      "65.1\n",
      "60.3\n"
     ]
    }
   ],
   "source": [
    "# Tamura Challenge③\n",
    "print(Kento.weight)\n",
    "Kento.weight = 60.3\n",
    "print(Kento.weight)"
   ]
  },
  {
   "cell_type": "markdown",
   "metadata": {},
   "source": [
    "# Proficient"
   ]
  },
  {
   "cell_type": "code",
   "execution_count": 79,
   "metadata": {},
   "outputs": [],
   "source": [
    "# Tamura Ultimate①\n",
    "\n",
    "import os\n",
    "#Sampleフォルダの作成\n",
    "if not os.path.exists(os.getcwd()+  \"/Sample\") :\n",
    "    os.mkdir(os.getcwd()+  \"/Sample\")\n",
    "\n",
    "import random as rd\n",
    "for i in range(1000) :\n",
    "    #右寄せゼロ埋めをするzfillメソッドを実行\n",
    "    with open(f\"./Sample/{str(i).zfill(3)}\", \"w\") as f:\n",
    "        #年齢\n",
    "        f.write(str(rd.randint(10, 60)) + \"\\n\")\n",
    "        #身長\n",
    "        f.write(str(rd.uniform(140, 200))+ \"\\n\")\n",
    "        #体重\n",
    "        f.write(str(rd.uniform(50, 140)) + \"\\n\")"
   ]
  },
  {
   "cell_type": "code",
   "execution_count": 80,
   "metadata": {},
   "outputs": [],
   "source": [
    "# Tamura Ultimate②\n",
    "\n",
    "#----------------------------------------------\n",
    "# Tamura Challenge①から引用\n",
    "class Person :\n",
    "    def __init__(self, age, height, weight):\n",
    "        self.age = age\n",
    "        self.height = height\n",
    "        self.weight = weight\n",
    "        \n",
    "    def say(self, greeting):\n",
    "        print(greeting)\n",
    "    \n",
    "    def run(self):\n",
    "        speed = self.height/100 * self.weight/2 - self.age\n",
    "        print(f\"時速{round(speed, 1)}キロで走ります\")\n",
    "#----------------------------------------------\n",
    "\n",
    "\n",
    "def fetch_sample(code: int = 777) -> Person :\n",
    "    with open(f\"./Sample/{code}\", \"r\") as f:\n",
    "        fetched_data = f.read()\n",
    "        \n",
    "    properties = fetched_data.split(\"\\n\")\n",
    "    print(properties)\n",
    "    return Person(properties[0], properties[1], properties[2])"
   ]
  },
  {
   "cell_type": "code",
   "execution_count": 83,
   "metadata": {},
   "outputs": [
    {
     "name": "stdout",
     "output_type": "stream",
     "text": [
      "３桁の整数を入力：777\n",
      "['25', '182.54374355988904', '138.13437218395245', '']\n",
      "<__main__.Person object at 0x7f0ae925e040> <class '__main__.Person'>\n",
      "----------------------------------------------------------------------------------------------------\n",
      " age: 25, height : 182.54374355988904, weight : 138.13437218395245\n"
     ]
    }
   ],
   "source": [
    "#確認\n",
    "code = int(input(\"３桁の整数を入力：\"))\n",
    "sample = fetch_sample(code)\n",
    "print(sample, type(sample))\n",
    "print(\"-\"* 100)\n",
    "print(f\" age: {sample.age}, height : {sample.height}, weight : {sample.weight}\")"
   ]
  },
  {
   "cell_type": "code",
   "execution_count": null,
   "metadata": {},
   "outputs": [],
   "source": []
  }
 ],
 "metadata": {
  "kernelspec": {
   "display_name": "Python 3",
   "language": "python",
   "name": "python3"
  },
  "language_info": {
   "codemirror_mode": {
    "name": "ipython",
    "version": 3
   },
   "file_extension": ".py",
   "mimetype": "text/x-python",
   "name": "python",
   "nbconvert_exporter": "python",
   "pygments_lexer": "ipython3",
   "version": "3.8.8"
  }
 },
 "nbformat": 4,
 "nbformat_minor": 4
}
